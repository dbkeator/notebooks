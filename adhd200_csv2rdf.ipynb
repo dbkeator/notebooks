{
 "metadata": {
  "name": "adhd200_csv2rdf"
 },
 "nbformat": 3,
 "nbformat_minor": 0,
 "worksheets": [
  {
   "cells": [
    {
     "cell_type": "markdown",
     "metadata": {
      "slideshow": {
       "slide_type": "slide"
      }
     },
     "source": [
      "# Converting ADHD 200 phenotypic data to NI-DM"
     ]
    },
    {
     "cell_type": "markdown",
     "metadata": {
      "slideshow": {
       "slide_type": "slide"
      }
     },
     "source": [
      "## Retrieve all data URLs"
     ]
    },
    {
     "cell_type": "code",
     "collapsed": false,
     "input": [
      "# Import necessary tools\n",
      "import re\n",
      "import urllib2\n",
      "\n",
      "import numpy as np"
     ],
     "language": "python",
     "metadata": {
      "slideshow": {
       "slide_type": "-"
      }
     },
     "outputs": [],
     "prompt_number": 1
    },
    {
     "cell_type": "code",
     "collapsed": false,
     "input": [
      "# screen scrape the list of urls\n",
      "url_html = \"\"\"<ul><li><a href=\"ftp://www.nitrc.org/fcon_1000/htdocs/indi/adhd200/sites/brown/data/Brown_TestRelease.001.002.tar.gz\" class=\"download_link\">Brown_TestRelease.001.002.tar.gz</a></li><li><a href=\"ftp://www.nitrc.org/fcon_1000/htdocs/indi/adhd200/sites/brown/data/Brown_TestRelease_phenotypic.csv\" class=\"download_link\">Brown_TestRelease_phenotypic.csv</a></li><li><a href=\"ftp://www.nitrc.org/fcon_1000/htdocs/indi/adhd200/sites/kki/data/KKI.001.002.tar.gz\" class=\"download_link\">KKI.001.002.tar.gz</a></li><li><a href=\"ftp://www.nitrc.org/fcon_1000/htdocs/indi/adhd200/sites/kki/data/KKI_TestRelease.001.002.tar.gz\" class=\"download_link\">KKI_TestRelease.001.002.tar.gz</a></li><li><a href=\"ftp://www.nitrc.org/fcon_1000/htdocs/indi/adhd200/sites/kki/data/KKI_TestRelease_phenotypic.csv\" class=\"download_link\">KKI_TestRelease_phenotypic.csv</a></li><li><a href=\"ftp://www.nitrc.org/fcon_1000/htdocs/indi/adhd200/sites/kki/data/KKI_phenotypic.csv\" class=\"download_link\">KKI_phenotypic.csv</a></li><li><a href=\"ftp://www.nitrc.org/fcon_1000/htdocs/indi/adhd200/sites/nijmegen/data/NeuroIMAGE.001.001.tar.gz\" class=\"download_link\">NeuroIMAGE.001.001.tar.gz</a></li><li><a href=\"ftp://www.nitrc.org/fcon_1000/htdocs/indi/adhd200/sites/nijmegen/data/NeuroIMAGE_TestRelease.001.002.tar.gz\" class=\"download_link\">NeuroIMAGE_TestRelease.001.002.tar.gz</a></li><li><a href=\"ftp://www.nitrc.org/fcon_1000/htdocs/indi/adhd200/sites/nijmegen/data/NeuroIMAGE_TestRelease_phenotypic.csv\" class=\"download_link\">NeuroIMAGE_TestRelease_phenotypic.csv</a></li><li><a href=\"ftp://www.nitrc.org/fcon_1000/htdocs/indi/adhd200/sites/nijmegen/data/NeuroIMAGE_phenotypic.csv\" class=\"download_link\">NeuroIMAGE_phenotypic.csv</a></li><li><a href=\"ftp://www.nitrc.org/fcon_1000/htdocs/indi/adhd200/sites/nyu/data/ADHD200_Combined_TestRelease.001.001.tar.gz\" class=\"download_link\">ADHD200_Combined_TestRelease.001.001.tar.gz</a></li><li><a href=\"ftp://www.nitrc.org/fcon_1000/htdocs/indi/adhd200/sites/nyu/data/NYU.001.001.part3.tar.gz\" class=\"download_link\">NYU.001.001.part3.tar.gz</a></li><li><a href=\"ftp://www.nitrc.org/fcon_1000/htdocs/indi/adhd200/sites/nyu/data/NYU.001.001.part4.tar.gz\" class=\"download_link\">NYU.001.001.part4.tar.gz</a></li><li><a href=\"ftp://www.nitrc.org/fcon_1000/htdocs/indi/adhd200/sites/nyu/data/NYU.001.002.part1.tar.gz\" class=\"download_link\">NYU.001.002.part1.tar.gz</a></li><li><a href=\"ftp://www.nitrc.org/fcon_1000/htdocs/indi/adhd200/sites/nyu/data/NYU.001.002.part2.tar.gz\" class=\"download_link\">NYU.001.002.part2.tar.gz</a></li><li><a href=\"ftp://www.nitrc.org/fcon_1000/htdocs/indi/adhd200/sites/nyu/data/NYU_TestRelease.001.002.tar.gz\" class=\"download_link\">NYU_TestRelease.001.002.tar.gz</a></li><li><a href=\"ftp://www.nitrc.org/fcon_1000/htdocs/indi/adhd200/sites/nyu/data/NYU_TestRelease_phenotypic.csv\" class=\"download_link\">NYU_TestRelease_phenotypic.csv</a></li><li><a href=\"ftp://www.nitrc.org/fcon_1000/htdocs/indi/adhd200/sites/nyu/data/NYU_phenotypic.csv\" class=\"download_link\">NYU_phenotypic.csv</a></li><li><a href=\"ftp://www.nitrc.org/fcon_1000/htdocs/indi/adhd200/sites/ohsu/data/OHSU.001.004.tar.gz\" class=\"download_link\">OHSU.001.004.tar.gz</a></li><li><a href=\"ftp://www.nitrc.org/fcon_1000/htdocs/indi/adhd200/sites/ohsu/data/OHSU_TestRelease.001.002.tar.gz\" class=\"download_link\">OHSU_TestRelease.001.002.tar.gz</a></li><li><a href=\"ftp://www.nitrc.org/fcon_1000/htdocs/indi/adhd200/sites/ohsu/data/OHSU_TestRelease_phenotypic.csv\" class=\"download_link\">OHSU_TestRelease_phenotypic.csv</a></li><li><a href=\"ftp://www.nitrc.org/fcon_1000/htdocs/indi/adhd200/sites/ohsu/data/OHSU_phenotypic.csv\" class=\"download_link\">OHSU_phenotypic.csv</a></li><li><a href=\"ftp://www.nitrc.org/fcon_1000/htdocs/indi/adhd200/sites/beijing/data/Peking_1.001.003.tar.gz\" class=\"download_link\">Peking_1.001.003.tar.gz</a></li><li><a href=\"ftp://www.nitrc.org/fcon_1000/htdocs/indi/adhd200/sites/beijing/data/Peking_1_TestRelease.001.002.tar.gz\" class=\"download_link\">Peking_1_TestRelease.001.002.tar.gz</a></li><li><a href=\"ftp://www.nitrc.org/fcon_1000/htdocs/indi/adhd200/sites/beijing/data/Peking_1_TestRelease_phenotypic.csv\" class=\"download_link\">Peking_1_TestRelease_phenotypic.csv</a></li><li><a href=\"ftp://www.nitrc.org/fcon_1000/htdocs/indi/adhd200/sites/beijing/data/Peking_1_phenotypic.csv\" class=\"download_link\">Peking_1_phenotypic.csv</a></li><li><a href=\"ftp://www.nitrc.org/fcon_1000/htdocs/indi/adhd200/sites/beijing/data/Peking_2.001.001.tar.gz\" class=\"download_link\">Peking_2.001.001.tar.gz</a></li><li><a href=\"ftp://www.nitrc.org/fcon_1000/htdocs/indi/adhd200/sites/beijing/data/Peking_2_phenotypic.csv\" class=\"download_link\">Peking_2_phenotypic.csv</a></li><li><a href=\"ftp://www.nitrc.org/fcon_1000/htdocs/indi/adhd200/sites/beijing/data/Peking_3.001.001.tar.gz\" class=\"download_link\">Peking_3.001.001.tar.gz</a></li><li><a href=\"ftp://www.nitrc.org/fcon_1000/htdocs/indi/adhd200/sites/beijing/data/Peking_3_phenotypic.csv\" class=\"download_link\">Peking_3_phenotypic.csv</a></li><li><a href=\"ftp://www.nitrc.org/fcon_1000/htdocs/indi/adhd200/sites/pittsburgh/data/Pittsburgh.001.001.tar.gz\" class=\"download_link\">Pittsburgh.001.001.tar.gz</a></li><li><a href=\"ftp://www.nitrc.org/fcon_1000/htdocs/indi/adhd200/sites/pittsburgh/data/Pittsburgh_TestRelease.001.002.tar.gz\" class=\"download_link\">Pittsburgh_TestRelease.001.002.tar.gz</a></li><li><a href=\"ftp://www.nitrc.org/fcon_1000/htdocs/indi/adhd200/sites/pittsburgh/data/Pittsburgh_TestRelease_phenotypic.csv\" class=\"download_link\">Pittsburgh_TestRelease_phenotypic.csv</a></li><li><a href=\"ftp://www.nitrc.org/fcon_1000/htdocs/indi/adhd200/sites/pittsburgh/data/Pittsburgh_phenotypic.csv\" class=\"download_link\">Pittsburgh_phenotypic.csv</a></li><li><a href=\"ftp://www.nitrc.org/fcon_1000/htdocs/indi/adhd200/sites/washu/data/WashU.001.001.tar.gz\" class=\"download_link\">WashU.001.001.tar.gz</a></li><li><a href=\"ftp://www.nitrc.org/fcon_1000/htdocs/indi/adhd200/sites/washu/data/WashU.Update.tar.gz\" class=\"download_link\">WashU.Update.tar.gz</a></li><li><a href=\"ftp://www.nitrc.org/fcon_1000/htdocs/indi/adhd200/sites/washu/data/WashU_phenotypic.csv\" class=\"download_link\">WashU_phenotypic.csv</a></li></ul>\"\"\""
     ],
     "language": "python",
     "metadata": {},
     "outputs": [],
     "prompt_number": 2
    },
    {
     "cell_type": "code",
     "collapsed": false,
     "input": [
      "# parse the html to generate lists of urls for the csv files and the data files\n",
      "csv_urls = [url for url, _ ,_ in re.findall(r'\\b(([\\w-]+://?|www[.])[^\\s()<>]+(?:\\([\\w\\d]+\\)|([^[:punct:]\\s]|/*.csv)))', url_html)]\n",
      "file_urls = [url for url, _ ,_ in re.findall(r'\\b(([\\w-]+://?|www[.])[^\\s()<>]+(?:\\([\\w\\d]+\\)|([^[:punct:]\\s]|/*.gz)))', url_html)]"
     ],
     "language": "python",
     "metadata": {},
     "outputs": [],
     "prompt_number": 3
    },
    {
     "cell_type": "markdown",
     "metadata": {
      "slideshow": {
       "slide_type": "slide"
      }
     },
     "source": [
      "## URLs containing the phenotypic CSV files"
     ]
    },
    {
     "cell_type": "code",
     "collapsed": false,
     "input": [
      "print csv_urls"
     ],
     "language": "python",
     "metadata": {},
     "outputs": [
      {
       "output_type": "stream",
       "stream": "stdout",
       "text": [
        "['ftp://www.nitrc.org/fcon_1000/htdocs/indi/adhd200/sites/brown/data/Brown_TestRelease_phenotypic.csv', 'ftp://www.nitrc.org/fcon_1000/htdocs/indi/adhd200/sites/kki/data/KKI_TestRelease_phenotypic.csv', 'ftp://www.nitrc.org/fcon_1000/htdocs/indi/adhd200/sites/kki/data/KKI_phenotypic.csv', 'ftp://www.nitrc.org/fcon_1000/htdocs/indi/adhd200/sites/nijmegen/data/NeuroIMAGE_TestRelease_phenotypic.csv', 'ftp://www.nitrc.org/fcon_1000/htdocs/indi/adhd200/sites/nijmegen/data/NeuroIMAGE_phenotypic.csv', 'ftp://www.nitrc.org/fcon_1000/htdocs/indi/adhd200/sites/nyu/data/NYU_TestRelease_phenotypic.csv', 'ftp://www.nitrc.org/fcon_1000/htdocs/indi/adhd200/sites/nyu/data/NYU_phenotypic.csv', 'ftp://www.nitrc.org/fcon_1000/htdocs/indi/adhd200/sites/ohsu/data/OHSU_TestRelease_phenotypic.csv', 'ftp://www.nitrc.org/fcon_1000/htdocs/indi/adhd200/sites/ohsu/data/OHSU_phenotypic.csv', 'ftp://www.nitrc.org/fcon_1000/htdocs/indi/adhd200/sites/beijing/data/Peking_1_TestRelease_phenotypic.csv', 'ftp://www.nitrc.org/fcon_1000/htdocs/indi/adhd200/sites/beijing/data/Peking_1_phenotypic.csv', 'ftp://www.nitrc.org/fcon_1000/htdocs/indi/adhd200/sites/beijing/data/Peking_2_phenotypic.csv', 'ftp://www.nitrc.org/fcon_1000/htdocs/indi/adhd200/sites/beijing/data/Peking_3_phenotypic.csv', 'ftp://www.nitrc.org/fcon_1000/htdocs/indi/adhd200/sites/pittsburgh/data/Pittsburgh_TestRelease_phenotypic.csv', 'ftp://www.nitrc.org/fcon_1000/htdocs/indi/adhd200/sites/pittsburgh/data/Pittsburgh_phenotypic.csv', 'ftp://www.nitrc.org/fcon_1000/htdocs/indi/adhd200/sites/washu/data/WashU_phenotypic.csv']\n"
       ]
      }
     ],
     "prompt_number": 4
    },
    {
     "cell_type": "markdown",
     "metadata": {
      "slideshow": {
       "slide_type": "slide"
      }
     },
     "source": [
      "## Read the CSV files into a pandas dataframe"
     ]
    },
    {
     "cell_type": "code",
     "collapsed": false,
     "input": [
      "%pylab inline"
     ],
     "language": "python",
     "metadata": {
      "slideshow": {
       "slide_type": "skip"
      }
     },
     "outputs": [
      {
       "output_type": "stream",
       "stream": "stdout",
       "text": [
        "\n",
        "Welcome to pylab, a matplotlib-based Python environment [backend: module://IPython.kernel.zmq.pylab.backend_inline].\n",
        "For more information, type 'help(pylab)'.\n"
       ]
      }
     ],
     "prompt_number": 5
    },
    {
     "cell_type": "code",
     "collapsed": false,
     "input": [
      "from md5 import md5\n",
      "def get_url_md5(url):\n",
      "    \"\"\"Generate a md5 hash of the contents of a URL\n",
      "    \"\"\"\n",
      "    remote = urllib2.urlopen(url)\n",
      "    m5hash = md5()\n",
      "    total_read = 0\n",
      "    while True:\n",
      "        data = remote.read(4096)\n",
      "        total_read += 4096\n",
      "        if not data:\n",
      "            break\n",
      "        m5hash.update(data)\n",
      "    return m5hash.hexdigest()"
     ],
     "language": "python",
     "metadata": {},
     "outputs": [],
     "prompt_number": 6
    },
    {
     "cell_type": "code",
     "collapsed": false,
     "input": [
      "import pandas as ps\n",
      "reverse_map = {}  # create a mapping from participants to the source url location\n",
      "url_hash = {} # create a map of urls to their content hashes   \n",
      "for idx, url in enumerate(csv_urls):\n",
      "    # Read the csv file and filter unknown values\n",
      "    dataframe = ps.read_csv(url, na_values=[\"N/A\", \"pending\", -999])\n",
      "    # in the adhdh200 data participant ID is stored in different ways across sites\n",
      "    for key in ['ScanDir ID', 'ScanDirID']:\n",
      "        dataframe = dataframe.rename(columns={key: 'ID'})\n",
      "    dataframe.index = dataframe.ID\n",
      "    for subject in dataframe.index:\n",
      "        reverse_map[subject] = url\n",
      "    url_hash[url] = get_url_md5(url)\n",
      "    if idx == 0:\n",
      "        data = dataframe\n",
      "    else:\n",
      "        data = ps.concat([data, dataframe])"
     ],
     "language": "python",
     "metadata": {},
     "outputs": [],
     "prompt_number": 7
    },
    {
     "cell_type": "markdown",
     "metadata": {
      "slideshow": {
       "slide_type": "subslide"
      }
     },
     "source": [
      "## Data characteristics"
     ]
    },
    {
     "cell_type": "code",
     "collapsed": false,
     "input": [
      "index = data.index\n",
      "data"
     ],
     "language": "python",
     "metadata": {},
     "outputs": [
      {
       "output_type": "pyout",
       "prompt_number": 8,
       "text": [
        "<class 'pandas.core.frame.DataFrame'>\n",
        "Int64Index: 973 entries, 26001 to 15062\n",
        "Data columns:\n",
        "ADHD Index         557  non-null values\n",
        "ADHD Measure       629  non-null values\n",
        "Age                973  non-null values\n",
        "DX                 947  non-null values\n",
        "Disclaimer         25  non-null values\n",
        "Full2 IQ           71  non-null values\n",
        "Full4 IQ           887  non-null values\n",
        "Gender             972  non-null values\n",
        "Handedness         964  non-null values\n",
        "Hyper/Impulsive    636  non-null values\n",
        "ID                 973  non-null values\n",
        "IQ Measure         898  non-null values\n",
        "Inattentive        636  non-null values\n",
        "Med Status         564  non-null values\n",
        "Performance IQ     672  non-null values\n",
        "QC_Anatomical_1    900  non-null values\n",
        "QC_Anatomical_2    136  non-null values\n",
        "QC_Rest_1          895  non-null values\n",
        "QC_Rest_2          329  non-null values\n",
        "QC_Rest_3          113  non-null values\n",
        "QC_Rest_4          1  non-null values\n",
        "QC_S1_Anat         60  non-null values\n",
        "QC_S1_Rest_1       59  non-null values\n",
        "QC_S1_Rest_2       44  non-null values\n",
        "QC_S1_Rest_3       36  non-null values\n",
        "QC_S1_Rest_4       4  non-null values\n",
        "QC_S1_Rest_5       4  non-null values\n",
        "QC_S1_Rest_6       4  non-null values\n",
        "QC_S2_Anat         1  non-null values\n",
        "QC_S2_Rest_1       15  non-null values\n",
        "QC_S2_Rest_2       5  non-null values\n",
        "Secondary Dx       132  non-null values\n",
        "Site               973  non-null values\n",
        "Study #            61  non-null values\n",
        "Verbal IQ          672  non-null values\n",
        "dtypes: float64(30), int64(2), object(3)"
       ]
      }
     ],
     "prompt_number": 8
    },
    {
     "cell_type": "markdown",
     "metadata": {
      "slideshow": {
       "slide_type": "subslide"
      }
     },
     "source": [
      "## Retrieve the information associated with the first row and ignore all the NaNs"
     ]
    },
    {
     "cell_type": "code",
     "collapsed": false,
     "input": [
      "foo = data.ix[index[0], :].dropna()\n",
      "print foo"
     ],
     "language": "python",
     "metadata": {},
     "outputs": [
      {
       "output_type": "stream",
       "stream": "stdout",
       "text": [
        "Age                16.92\n",
        "Full4 IQ             120\n",
        "Gender                 1\n",
        "Handedness             1\n",
        "ID                 26001\n",
        "Performance IQ       104\n",
        "QC_Anatomical_1        1\n",
        "QC_Rest_1              1\n",
        "Site                   2\n",
        "Verbal IQ            133\n",
        "Name: 26001\n"
       ]
      }
     ],
     "prompt_number": 9
    },
    {
     "cell_type": "code",
     "collapsed": false,
     "input": [
      "ps.tools.plotting.parallel_coordinates(data.ix[index, ['Age', 'IQ Measure', 'DX', 'Site']], 'Site')"
     ],
     "language": "python",
     "metadata": {},
     "outputs": [
      {
       "output_type": "pyout",
       "prompt_number": 10,
       "text": [
        "<matplotlib.axes.AxesSubplot at 0x102f29250>"
       ]
      },
      {
       "output_type": "display_data",
       "png": "[encoded data removed]",
       "text": [
        "<matplotlib.figure.Figure at 0x102f29150>"
       ]
      }
     ],
     "prompt_number": 10
    },
    {
     "cell_type": "markdown",
     "metadata": {
      "slideshow": {
       "slide_type": "slide"
      }
     },
     "source": [
      "## Convert data to NI-DM"
     ]
    },
    {
     "cell_type": "code",
     "collapsed": false,
     "input": [
      "import os\n",
      "from socket import getfqdn\n",
      "\n",
      "from nipype.utils.filemanip import hash_infile\n",
      "import prov.model as prov"
     ],
     "language": "python",
     "metadata": {},
     "outputs": [],
     "prompt_number": 11
    },
    {
     "cell_type": "code",
     "collapsed": false,
     "input": [
      "foaf = prov.Namespace(\"foaf\",\"http://xmlns.com/foaf/0.1/\")\n",
      "dcterms = prov.Namespace(\"dcterms\",\"http://purl.org/dc/terms/\")\n",
      "nidm = prov.Namespace(\"nidm\", \"http://nidm.nidash.org/#\")\n",
      "adhd = prov.Namespace(\"adhd200\", \"http://fcon_1000.projects.nitrc.org/indi/adhd200/\")\n",
      "                      \n",
      "graph = prov.ProvBundle()\n",
      "graph.add_namespace(foaf)\n",
      "graph.add_namespace(dcterms)\n",
      "graph.add_namespace(nidm)\n",
      "\n",
      "url_entity = {}\n",
      "for url, hash in url_hash.items():\n",
      "    url_entity[url] = graph.entity(adhd[hash], [(prov.PROV['type'], nidm['csv_file']),\n",
      "                                                (nidm['md5sum'], hash),\n",
      "                                                (prov.PROV[\"location\"], prov.Literal(url, prov.XSD['anyURI']))])"
     ],
     "language": "python",
     "metadata": {},
     "outputs": [],
     "prompt_number": 20
    },
    {
     "cell_type": "markdown",
     "metadata": {
      "slideshow": {
       "slide_type": "subslide"
      }
     },
     "source": [
      "## The conversion function"
     ]
    },
    {
     "cell_type": "code",
     "collapsed": false,
     "input": [
      "def adhd2nidm(g, dataframe, mapper):\n",
      "    subject_id = dataframe['ID']\n",
      "    url = mapper[subject_id]\n",
      "    subject_id = '%07d' % subject_id\n",
      "    id = adhd[md5(url_hash[url] + subject_id).hexdigest()]\n",
      "    agent = g.agent(id, [(prov.PROV['type'], prov.PROV['Person']),\n",
      "                         (nidm['ID'], subject_id)])\n",
      "    id = adhd[md5(url_hash[url] + subject_id + 'collection').hexdigest()]\n",
      "    pheno_collection = g.collection(id)\n",
      "    pheno_collection.add_extra_attributes({prov.PROV['type']: nidm['phenotypic_info'],\n",
      "                                           nidm['ID']: subject_id})\n",
      "                                           \n",
      "    for key in dataframe.keys():\n",
      "        if key is not 'ID':\n",
      "            id = adhd[md5(url_hash[url] + subject_id + key).hexdigest()]\n",
      "            value = dataframe[key]\n",
      "            if isinstance(value, float):\n",
      "                value = prov.Literal(value, prov.XSD['float'])\n",
      "            elif isinstance(value, int):\n",
      "                value = prov.Literal(value, prov.XSD['int'])\n",
      "            else:\n",
      "                value = prov.Literal('%s' % value, prov.XSD['string'])\n",
      "            g.entity(id, [(prov.PROV['type'], nidm[key.replace(' ', '-')]),\n",
      "                          (prov.PROV[\"label\"], key),\n",
      "                          (prov.PROV[\"value\"], value)])\n",
      "            g.hadMember(pheno_collection, id)\n",
      "    g.wasAttributedTo(pheno_collection, agent)\n",
      "    g.wasDerivedFrom(pheno_collection, url_entity[url])\n",
      "    return g\n",
      "    "
     ],
     "language": "python",
     "metadata": {},
     "outputs": []
    },
    {
     "cell_type": "markdown",
     "metadata": {
      "slideshow": {
       "slide_type": "subslide"
      }
     },
     "source": [
      "## Perform the conversion"
     ]
    },
    {
     "cell_type": "code",
     "collapsed": false,
     "input": [
      "for idx in index:\n",
      "    adhd2nidm(graph, data.ix[idx, :].dropna(), reverse_map)"
     ],
     "language": "python",
     "metadata": {},
     "outputs": [],
     "prompt_number": 21
    },
    {
     "cell_type": "code",
     "collapsed": false,
     "input": [
      "with open('adhd200.provn', 'wt') as fp:\n",
      "    fp.writelines(graph.get_provn())"
     ],
     "language": "python",
     "metadata": {},
     "outputs": [],
     "prompt_number": 22
    },
    {
     "cell_type": "code",
     "collapsed": false,
     "input": [
      "!JAVA_OPTS=\"-Xms128m -Xmx4096m\" /Users/satra/Downloads/provToolbox/bin/provconvert -infile adhd200.provn -outfile adhd200.ttl"
     ],
     "language": "python",
     "metadata": {},
     "outputs": [
      {
       "output_type": "stream",
       "stream": "stdout",
       "text": [
        "InteropFramework run() -> {nidm=http://nidm.nidash.org/#, foaf=http://xmlns.com/foaf/0.1/, dcterms=http://purl.org/dc/terms/, adhd200=http://fcon_1000.projects.nitrc.org/indi/adhd200/}\r\n"
       ]
      },
      {
       "output_type": "stream",
       "stream": "stdout",
       "text": [
        "log4j:WARN No appenders could be found for logger (org.openprovenance.prov.interop.InteropFramework).\r\n",
        "log4j:WARN Please initialize the log4j system properly.\r\n",
        "log4j:WARN See http://logging.apache.org/log4j/1.2/faq.html#noconfig for more info.\r\n",
        "SLF4J: Failed to load class \"org.slf4j.impl.StaticLoggerBinder\".\r\n",
        "SLF4J: Defaulting to no-operation (NOP) logger implementation\r\n",
        "SLF4J: See http://www.slf4j.org/codes.html#StaticLoggerBinder for further details.\r\n"
       ]
      }
     ],
     "prompt_number": 1
    },
    {
     "cell_type": "markdown",
     "metadata": {},
     "source": [
      "!JAVA_OPTS=\"-Xms128m -Xmx4096m\" /software/nipy-repo/ProvToolbox/toolbox/target/appassembler/bin/provconvert -infile adhd200.provn -outfile adhd200.ttl"
     ]
    },
    {
     "cell_type": "code",
     "collapsed": false,
     "input": [
      "import rdflib"
     ],
     "language": "python",
     "metadata": {},
     "outputs": [],
     "prompt_number": 2
    },
    {
     "cell_type": "code",
     "collapsed": false,
     "input": [
      "g = rdflib.Graph()"
     ],
     "language": "python",
     "metadata": {},
     "outputs": [],
     "prompt_number": 5
    },
    {
     "cell_type": "code",
     "collapsed": false,
     "input": [
      "g.load('adhd200.ttl', format='n3')"
     ],
     "language": "python",
     "metadata": {},
     "outputs": [],
     "prompt_number": 6
    },
    {
     "cell_type": "code",
     "collapsed": false,
     "input": [
      "query = \"\"\"\n",
      "SELECT * WHERE {?s ?p ?o .}\n",
      "\"\"\"\n",
      "resp = g.query(query)"
     ],
     "language": "python",
     "metadata": {},
     "outputs": [],
     "prompt_number": 7
    },
    {
     "cell_type": "code",
     "collapsed": false,
     "input": [],
     "language": "python",
     "metadata": {},
     "outputs": [
      {
       "ename": "TypeError",
       "evalue": "'SPARQLResult' object has no attribute '__getitem__'",
       "output_type": "pyerr",
       "traceback": [
        "\u001b[0;31m---------------------------------------------------------------------------\u001b[0m\n\u001b[0;31mTypeError\u001b[0m                                 Traceback (most recent call last)",
        "\u001b[0;32m<ipython-input-10-3fab9ebda88f>\u001b[0m in \u001b[0;36m<module>\u001b[0;34m()\u001b[0m\n\u001b[0;32m----> 1\u001b[0;31m \u001b[0;32mprint\u001b[0m \u001b[0;34m[\u001b[0m\u001b[0mfoo\u001b[0m \u001b[0;32mfor\u001b[0m \u001b[0mfoo\u001b[0m \u001b[0;32min\u001b[0m \u001b[0mresp\u001b[0m\u001b[0;34m[\u001b[0m\u001b[0;34m:\u001b[0m\u001b[0;36m10\u001b[0m\u001b[0;34m]\u001b[0m\u001b[0;34m]\u001b[0m\u001b[0;34m\u001b[0m\u001b[0m\n\u001b[0m",
        "\u001b[0;31mTypeError\u001b[0m: 'SPARQLResult' object has no attribute '__getitem__'"
       ]
      }
     ],
     "prompt_number": 10
    },
    {
     "cell_type": "code",
     "collapsed": false,
     "input": [],
     "language": "python",
     "metadata": {},
     "outputs": []
    }
   ],
   "metadata": {}
  }
 ]
}