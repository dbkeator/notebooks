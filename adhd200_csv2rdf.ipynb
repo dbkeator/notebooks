{
 "metadata": {
  "name": ""
 },
 "nbformat": 3,
 "nbformat_minor": 0,
 "worksheets": [
  {
   "cells": [
    {
     "cell_type": "markdown",
     "metadata": {
      "slideshow": {
       "slide_type": "slide"
      }
     },
     "source": [
      "# Converting ADHD 200 phenotypic data to NI-DM"
     ]
    },
    {
     "cell_type": "markdown",
     "metadata": {
      "slideshow": {
       "slide_type": "slide"
      }
     },
     "source": [
      "## Retrieve all data URLs"
     ]
    },
    {
     "cell_type": "code",
     "collapsed": false,
     "input": [
      "# Import necessary tools\n",
      "import re\n",
      "import urllib2\n",
      "\n",
      "import numpy as np"
     ],
     "language": "python",
     "metadata": {
      "slideshow": {
       "slide_type": "-"
      }
     },
     "outputs": [],
     "prompt_number": 1
    },
    {
     "cell_type": "code",
     "collapsed": false,
     "input": [
      "# screen scrape the list of urls\n",
      "url_html = \"\"\"<ul><li><a href=\"ftp://www.nitrc.org/fcon_1000/htdocs/indi/adhd200/sites/brown/data/Brown_TestRelease.001.002.tar.gz\" class=\"download_link\">Brown_TestRelease.001.002.tar.gz</a></li><li><a href=\"ftp://www.nitrc.org/fcon_1000/htdocs/indi/adhd200/sites/brown/data/Brown_TestRelease_phenotypic.csv\" class=\"download_link\">Brown_TestRelease_phenotypic.csv</a></li><li><a href=\"ftp://www.nitrc.org/fcon_1000/htdocs/indi/adhd200/sites/kki/data/KKI.001.002.tar.gz\" class=\"download_link\">KKI.001.002.tar.gz</a></li><li><a href=\"ftp://www.nitrc.org/fcon_1000/htdocs/indi/adhd200/sites/kki/data/KKI_TestRelease.001.002.tar.gz\" class=\"download_link\">KKI_TestRelease.001.002.tar.gz</a></li><li><a href=\"ftp://www.nitrc.org/fcon_1000/htdocs/indi/adhd200/sites/kki/data/KKI_TestRelease_phenotypic.csv\" class=\"download_link\">KKI_TestRelease_phenotypic.csv</a></li><li><a href=\"ftp://www.nitrc.org/fcon_1000/htdocs/indi/adhd200/sites/kki/data/KKI_phenotypic.csv\" class=\"download_link\">KKI_phenotypic.csv</a></li><li><a href=\"ftp://www.nitrc.org/fcon_1000/htdocs/indi/adhd200/sites/nijmegen/data/NeuroIMAGE.001.001.tar.gz\" class=\"download_link\">NeuroIMAGE.001.001.tar.gz</a></li><li><a href=\"ftp://www.nitrc.org/fcon_1000/htdocs/indi/adhd200/sites/nijmegen/data/NeuroIMAGE_TestRelease.001.002.tar.gz\" class=\"download_link\">NeuroIMAGE_TestRelease.001.002.tar.gz</a></li><li><a href=\"ftp://www.nitrc.org/fcon_1000/htdocs/indi/adhd200/sites/nijmegen/data/NeuroIMAGE_TestRelease_phenotypic.csv\" class=\"download_link\">NeuroIMAGE_TestRelease_phenotypic.csv</a></li><li><a href=\"ftp://www.nitrc.org/fcon_1000/htdocs/indi/adhd200/sites/nijmegen/data/NeuroIMAGE_phenotypic.csv\" class=\"download_link\">NeuroIMAGE_phenotypic.csv</a></li><li><a href=\"ftp://www.nitrc.org/fcon_1000/htdocs/indi/adhd200/sites/nyu/data/ADHD200_Combined_TestRelease.001.001.tar.gz\" class=\"download_link\">ADHD200_Combined_TestRelease.001.001.tar.gz</a></li><li><a href=\"ftp://www.nitrc.org/fcon_1000/htdocs/indi/adhd200/sites/nyu/data/NYU.001.001.part3.tar.gz\" class=\"download_link\">NYU.001.001.part3.tar.gz</a></li><li><a href=\"ftp://www.nitrc.org/fcon_1000/htdocs/indi/adhd200/sites/nyu/data/NYU.001.001.part4.tar.gz\" class=\"download_link\">NYU.001.001.part4.tar.gz</a></li><li><a href=\"ftp://www.nitrc.org/fcon_1000/htdocs/indi/adhd200/sites/nyu/data/NYU.001.002.part1.tar.gz\" class=\"download_link\">NYU.001.002.part1.tar.gz</a></li><li><a href=\"ftp://www.nitrc.org/fcon_1000/htdocs/indi/adhd200/sites/nyu/data/NYU.001.002.part2.tar.gz\" class=\"download_link\">NYU.001.002.part2.tar.gz</a></li><li><a href=\"ftp://www.nitrc.org/fcon_1000/htdocs/indi/adhd200/sites/nyu/data/NYU_TestRelease.001.002.tar.gz\" class=\"download_link\">NYU_TestRelease.001.002.tar.gz</a></li><li><a href=\"ftp://www.nitrc.org/fcon_1000/htdocs/indi/adhd200/sites/nyu/data/NYU_TestRelease_phenotypic.csv\" class=\"download_link\">NYU_TestRelease_phenotypic.csv</a></li><li><a href=\"ftp://www.nitrc.org/fcon_1000/htdocs/indi/adhd200/sites/nyu/data/NYU_phenotypic.csv\" class=\"download_link\">NYU_phenotypic.csv</a></li><li><a href=\"ftp://www.nitrc.org/fcon_1000/htdocs/indi/adhd200/sites/ohsu/data/OHSU.001.004.tar.gz\" class=\"download_link\">OHSU.001.004.tar.gz</a></li><li><a href=\"ftp://www.nitrc.org/fcon_1000/htdocs/indi/adhd200/sites/ohsu/data/OHSU_TestRelease.001.002.tar.gz\" class=\"download_link\">OHSU_TestRelease.001.002.tar.gz</a></li><li><a href=\"ftp://www.nitrc.org/fcon_1000/htdocs/indi/adhd200/sites/ohsu/data/OHSU_TestRelease_phenotypic.csv\" class=\"download_link\">OHSU_TestRelease_phenotypic.csv</a></li><li><a href=\"ftp://www.nitrc.org/fcon_1000/htdocs/indi/adhd200/sites/ohsu/data/OHSU_phenotypic.csv\" class=\"download_link\">OHSU_phenotypic.csv</a></li><li><a href=\"ftp://www.nitrc.org/fcon_1000/htdocs/indi/adhd200/sites/beijing/data/Peking_1.001.003.tar.gz\" class=\"download_link\">Peking_1.001.003.tar.gz</a></li><li><a href=\"ftp://www.nitrc.org/fcon_1000/htdocs/indi/adhd200/sites/beijing/data/Peking_1_TestRelease.001.002.tar.gz\" class=\"download_link\">Peking_1_TestRelease.001.002.tar.gz</a></li><li><a href=\"ftp://www.nitrc.org/fcon_1000/htdocs/indi/adhd200/sites/beijing/data/Peking_1_TestRelease_phenotypic.csv\" class=\"download_link\">Peking_1_TestRelease_phenotypic.csv</a></li><li><a href=\"ftp://www.nitrc.org/fcon_1000/htdocs/indi/adhd200/sites/beijing/data/Peking_1_phenotypic.csv\" class=\"download_link\">Peking_1_phenotypic.csv</a></li><li><a href=\"ftp://www.nitrc.org/fcon_1000/htdocs/indi/adhd200/sites/beijing/data/Peking_2.001.001.tar.gz\" class=\"download_link\">Peking_2.001.001.tar.gz</a></li><li><a href=\"ftp://www.nitrc.org/fcon_1000/htdocs/indi/adhd200/sites/beijing/data/Peking_2_phenotypic.csv\" class=\"download_link\">Peking_2_phenotypic.csv</a></li><li><a href=\"ftp://www.nitrc.org/fcon_1000/htdocs/indi/adhd200/sites/beijing/data/Peking_3.001.001.tar.gz\" class=\"download_link\">Peking_3.001.001.tar.gz</a></li><li><a href=\"ftp://www.nitrc.org/fcon_1000/htdocs/indi/adhd200/sites/beijing/data/Peking_3_phenotypic.csv\" class=\"download_link\">Peking_3_phenotypic.csv</a></li><li><a href=\"ftp://www.nitrc.org/fcon_1000/htdocs/indi/adhd200/sites/pittsburgh/data/Pittsburgh.001.001.tar.gz\" class=\"download_link\">Pittsburgh.001.001.tar.gz</a></li><li><a href=\"ftp://www.nitrc.org/fcon_1000/htdocs/indi/adhd200/sites/pittsburgh/data/Pittsburgh_TestRelease.001.002.tar.gz\" class=\"download_link\">Pittsburgh_TestRelease.001.002.tar.gz</a></li><li><a href=\"ftp://www.nitrc.org/fcon_1000/htdocs/indi/adhd200/sites/pittsburgh/data/Pittsburgh_TestRelease_phenotypic.csv\" class=\"download_link\">Pittsburgh_TestRelease_phenotypic.csv</a></li><li><a href=\"ftp://www.nitrc.org/fcon_1000/htdocs/indi/adhd200/sites/pittsburgh/data/Pittsburgh_phenotypic.csv\" class=\"download_link\">Pittsburgh_phenotypic.csv</a></li><li><a href=\"ftp://www.nitrc.org/fcon_1000/htdocs/indi/adhd200/sites/washu/data/WashU.001.001.tar.gz\" class=\"download_link\">WashU.001.001.tar.gz</a></li><li><a href=\"ftp://www.nitrc.org/fcon_1000/htdocs/indi/adhd200/sites/washu/data/WashU.Update.tar.gz\" class=\"download_link\">WashU.Update.tar.gz</a></li><li><a href=\"ftp://www.nitrc.org/fcon_1000/htdocs/indi/adhd200/sites/washu/data/WashU_phenotypic.csv\" class=\"download_link\">WashU_phenotypic.csv</a></li></ul>\"\"\""
     ],
     "language": "python",
     "metadata": {},
     "outputs": [],
     "prompt_number": 2
    },
    {
     "cell_type": "code",
     "collapsed": false,
     "input": [
      "# parse the html to generate lists of urls for the csv files and the data files\n",
      "csv_urls = [url for url, _ ,_ in re.findall(r'\\b(([\\w-]+://?|www[.])[^\\s()<>]+(?:\\([\\w\\d]+\\)|([^[:punct:]\\s]|/*.csv)))', url_html)]\n",
      "file_urls = [url for url, _ ,_ in re.findall(r'\\b(([\\w-]+://?|www[.])[^\\s()<>]+(?:\\([\\w\\d]+\\)|([^[:punct:]\\s]|/*.gz)))', url_html)]"
     ],
     "language": "python",
     "metadata": {},
     "outputs": [],
     "prompt_number": 3
    },
    {
     "cell_type": "markdown",
     "metadata": {
      "slideshow": {
       "slide_type": "slide"
      }
     },
     "source": [
      "## URLs containing the phenotypic CSV files"
     ]
    },
    {
     "cell_type": "code",
     "collapsed": false,
     "input": [
      "print '\\n'.join(csv_urls)"
     ],
     "language": "python",
     "metadata": {},
     "outputs": [
      {
       "output_type": "stream",
       "stream": "stdout",
       "text": [
        "ftp://www.nitrc.org/fcon_1000/htdocs/indi/adhd200/sites/brown/data/Brown_TestRelease_phenotypic.csv\n",
        "ftp://www.nitrc.org/fcon_1000/htdocs/indi/adhd200/sites/kki/data/KKI_TestRelease_phenotypic.csv\n",
        "ftp://www.nitrc.org/fcon_1000/htdocs/indi/adhd200/sites/kki/data/KKI_phenotypic.csv\n",
        "ftp://www.nitrc.org/fcon_1000/htdocs/indi/adhd200/sites/nijmegen/data/NeuroIMAGE_TestRelease_phenotypic.csv\n",
        "ftp://www.nitrc.org/fcon_1000/htdocs/indi/adhd200/sites/nijmegen/data/NeuroIMAGE_phenotypic.csv\n",
        "ftp://www.nitrc.org/fcon_1000/htdocs/indi/adhd200/sites/nyu/data/NYU_TestRelease_phenotypic.csv\n",
        "ftp://www.nitrc.org/fcon_1000/htdocs/indi/adhd200/sites/nyu/data/NYU_phenotypic.csv\n",
        "ftp://www.nitrc.org/fcon_1000/htdocs/indi/adhd200/sites/ohsu/data/OHSU_TestRelease_phenotypic.csv\n",
        "ftp://www.nitrc.org/fcon_1000/htdocs/indi/adhd200/sites/ohsu/data/OHSU_phenotypic.csv\n",
        "ftp://www.nitrc.org/fcon_1000/htdocs/indi/adhd200/sites/beijing/data/Peking_1_TestRelease_phenotypic.csv\n",
        "ftp://www.nitrc.org/fcon_1000/htdocs/indi/adhd200/sites/beijing/data/Peking_1_phenotypic.csv\n",
        "ftp://www.nitrc.org/fcon_1000/htdocs/indi/adhd200/sites/beijing/data/Peking_2_phenotypic.csv\n",
        "ftp://www.nitrc.org/fcon_1000/htdocs/indi/adhd200/sites/beijing/data/Peking_3_phenotypic.csv\n",
        "ftp://www.nitrc.org/fcon_1000/htdocs/indi/adhd200/sites/pittsburgh/data/Pittsburgh_TestRelease_phenotypic.csv\n",
        "ftp://www.nitrc.org/fcon_1000/htdocs/indi/adhd200/sites/pittsburgh/data/Pittsburgh_phenotypic.csv\n",
        "ftp://www.nitrc.org/fcon_1000/htdocs/indi/adhd200/sites/washu/data/WashU_phenotypic.csv\n"
       ]
      }
     ],
     "prompt_number": 4
    },
    {
     "cell_type": "markdown",
     "metadata": {
      "slideshow": {
       "slide_type": "slide"
      }
     },
     "source": [
      "## Read the CSV files into a pandas dataframe"
     ]
    },
    {
     "cell_type": "code",
     "collapsed": false,
     "input": [
      "%pylab inline"
     ],
     "language": "python",
     "metadata": {
      "slideshow": {
       "slide_type": "skip"
      }
     },
     "outputs": [
      {
       "output_type": "stream",
       "stream": "stdout",
       "text": [
        "Populating the interactive namespace from numpy and matplotlib\n"
       ]
      }
     ],
     "prompt_number": 5
    },
    {
     "cell_type": "code",
     "collapsed": false,
     "input": [
      "from md5 import md5\n",
      "def get_url_md5(url):\n",
      "    \"\"\"Generate a md5 hash of the contents of a URL\n",
      "    \"\"\"\n",
      "    remote = urllib2.urlopen(url)\n",
      "    m5hash = md5()\n",
      "    total_read = 0\n",
      "    while True:\n",
      "        data = remote.read(4096)\n",
      "        total_read += 4096\n",
      "        if not data:\n",
      "            break\n",
      "        m5hash.update(data)\n",
      "    return m5hash.hexdigest()"
     ],
     "language": "python",
     "metadata": {},
     "outputs": [],
     "prompt_number": 6
    },
    {
     "cell_type": "code",
     "collapsed": false,
     "input": [
      "import pandas as ps\n",
      "reverse_map = {}  # create a mapping from participants to the source url location\n",
      "url_hash = {} # create a map of urls to their content hashes   \n",
      "for idx, url in enumerate(csv_urls):\n",
      "    # Read the csv file and filter unknown values\n",
      "    dataframe = ps.read_csv(url, na_values=[\"N/A\", \"pending\", -999])\n",
      "    # in the adhdh200 data participant ID is stored in different ways across sites\n",
      "    for key in ['ScanDir ID', 'ScanDirID']:\n",
      "        dataframe = dataframe.rename(columns={key: 'ID'})\n",
      "    dataframe.index = dataframe.ID\n",
      "    for subject in dataframe.index:\n",
      "        reverse_map[subject] = url\n",
      "    url_hash[url] = get_url_md5(url)\n",
      "    if idx == 0:\n",
      "        data = dataframe\n",
      "    else:\n",
      "        data = ps.concat([data, dataframe])"
     ],
     "language": "python",
     "metadata": {},
     "outputs": [],
     "prompt_number": 7
    },
    {
     "cell_type": "markdown",
     "metadata": {
      "slideshow": {
       "slide_type": "subslide"
      }
     },
     "source": [
      "## Data characteristics"
     ]
    },
    {
     "cell_type": "code",
     "collapsed": false,
     "input": [
      "index = data.index\n",
      "data"
     ],
     "language": "python",
     "metadata": {},
     "outputs": [
      {
       "html": [
        "<pre>\n",
        "&lt;class 'pandas.core.frame.DataFrame'&gt;\n",
        "Int64Index: 973 entries, 26001 to 15062\n",
        "Data columns (total 35 columns):\n",
        "ADHD Index         557  non-null values\n",
        "ADHD Measure       629  non-null values\n",
        "Age                973  non-null values\n",
        "DX                 947  non-null values\n",
        "Disclaimer         25  non-null values\n",
        "Full2 IQ           71  non-null values\n",
        "Full4 IQ           887  non-null values\n",
        "Gender             972  non-null values\n",
        "Handedness         964  non-null values\n",
        "Hyper/Impulsive    636  non-null values\n",
        "ID                 973  non-null values\n",
        "IQ Measure         898  non-null values\n",
        "Inattentive        636  non-null values\n",
        "Med Status         564  non-null values\n",
        "Performance IQ     672  non-null values\n",
        "QC_Anatomical_1    900  non-null values\n",
        "QC_Anatomical_2    136  non-null values\n",
        "QC_Rest_1          895  non-null values\n",
        "QC_Rest_2          329  non-null values\n",
        "QC_Rest_3          113  non-null values\n",
        "QC_Rest_4          1  non-null values\n",
        "QC_S1_Anat         60  non-null values\n",
        "QC_S1_Rest_1       59  non-null values\n",
        "QC_S1_Rest_2       44  non-null values\n",
        "QC_S1_Rest_3       36  non-null values\n",
        "QC_S1_Rest_4       4  non-null values\n",
        "QC_S1_Rest_5       4  non-null values\n",
        "QC_S1_Rest_6       4  non-null values\n",
        "QC_S2_Anat         1  non-null values\n",
        "QC_S2_Rest_1       15  non-null values\n",
        "QC_S2_Rest_2       5  non-null values\n",
        "Secondary Dx       132  non-null values\n",
        "Site               973  non-null values\n",
        "Study #            61  non-null values\n",
        "Verbal IQ          672  non-null values\n",
        "dtypes: float64(30), int64(2), object(3)\n",
        "</pre>"
       ],
       "metadata": {},
       "output_type": "pyout",
       "prompt_number": 8,
       "text": [
        "<class 'pandas.core.frame.DataFrame'>\n",
        "Int64Index: 973 entries, 26001 to 15062\n",
        "Data columns (total 35 columns):\n",
        "ADHD Index         557  non-null values\n",
        "ADHD Measure       629  non-null values\n",
        "Age                973  non-null values\n",
        "DX                 947  non-null values\n",
        "Disclaimer         25  non-null values\n",
        "Full2 IQ           71  non-null values\n",
        "Full4 IQ           887  non-null values\n",
        "Gender             972  non-null values\n",
        "Handedness         964  non-null values\n",
        "Hyper/Impulsive    636  non-null values\n",
        "ID                 973  non-null values\n",
        "IQ Measure         898  non-null values\n",
        "Inattentive        636  non-null values\n",
        "Med Status         564  non-null values\n",
        "Performance IQ     672  non-null values\n",
        "QC_Anatomical_1    900  non-null values\n",
        "QC_Anatomical_2    136  non-null values\n",
        "QC_Rest_1          895  non-null values\n",
        "QC_Rest_2          329  non-null values\n",
        "QC_Rest_3          113  non-null values\n",
        "QC_Rest_4          1  non-null values\n",
        "QC_S1_Anat         60  non-null values\n",
        "QC_S1_Rest_1       59  non-null values\n",
        "QC_S1_Rest_2       44  non-null values\n",
        "QC_S1_Rest_3       36  non-null values\n",
        "QC_S1_Rest_4       4  non-null values\n",
        "QC_S1_Rest_5       4  non-null values\n",
        "QC_S1_Rest_6       4  non-null values\n",
        "QC_S2_Anat         1  non-null values\n",
        "QC_S2_Rest_1       15  non-null values\n",
        "QC_S2_Rest_2       5  non-null values\n",
        "Secondary Dx       132  non-null values\n",
        "Site               973  non-null values\n",
        "Study #            61  non-null values\n",
        "Verbal IQ          672  non-null values\n",
        "dtypes: float64(30), int64(2), object(3)"
       ]
      }
     ],
     "prompt_number": 8
    },
    {
     "cell_type": "markdown",
     "metadata": {
      "slideshow": {
       "slide_type": "subslide"
      }
     },
     "source": [
      "## Retrieve the information associated with the first row and ignore all the NaNs"
     ]
    },
    {
     "cell_type": "code",
     "collapsed": false,
     "input": [
      "foo = data.ix[index[0], :].dropna()\n",
      "print foo"
     ],
     "language": "python",
     "metadata": {},
     "outputs": [
      {
       "output_type": "stream",
       "stream": "stdout",
       "text": [
        "Age                16.92\n",
        "Full4 IQ             120\n",
        "Gender                 1\n",
        "Handedness             1\n",
        "ID                 26001\n",
        "Performance IQ       104\n",
        "QC_Anatomical_1        1\n",
        "QC_Rest_1              1\n",
        "Site                   2\n",
        "Verbal IQ            133\n",
        "Name: 26001, dtype: object\n"
       ]
      }
     ],
     "prompt_number": 9
    },
    {
     "cell_type": "code",
     "collapsed": false,
     "input": [
      "ps.tools.plotting.parallel_coordinates(data.ix[index, ['Age', 'IQ Measure', 'DX', 'Site']], 'Site')"
     ],
     "language": "python",
     "metadata": {},
     "outputs": [
      {
       "metadata": {},
       "output_type": "pyout",
       "prompt_number": 10,
       "text": [
        "<matplotlib.axes.AxesSubplot at 0x10a8b8d90>"
       ]
      },
      {
       "metadata": {},
       "output_type": "display_data",
       "png": "[encoded data removed]",
       "text": [
        "<matplotlib.figure.Figure at 0x10a8b8850>"
       ]
      }
     ],
     "prompt_number": 10
    },
    {
     "cell_type": "markdown",
     "metadata": {
      "slideshow": {
       "slide_type": "slide"
      }
     },
     "source": [
      "## Convert data to NI-DM"
     ]
    },
    {
     "cell_type": "code",
     "collapsed": false,
     "input": [
      "import os\n",
      "from socket import getfqdn\n",
      "from uuid import uuid1\n",
      "import prov.model as prov\n",
      "from datetime import datetime as dt\n",
      "import pwd\n",
      "\n",
      "def safe_encode(x):\n",
      "    \"\"\"Encodes a python value for prov\n",
      "    \"\"\"\n",
      "    if x is None:\n",
      "        return prov.Literal(\"Unknown\", prov.XSD['string'])\n",
      "    if isinstance(x, (str, unicode)):\n",
      "        return prov.Literal(x, prov.XSD['string'])\n",
      "    if isinstance(x, (int,)):\n",
      "        return prov.Literal(int(x), prov.XSD['integer'])\n",
      "    if isinstance(x, (float,)):\n",
      "        return prov.Literal(x, prov.XSD['float'])\n",
      "    return prov.Literal(json.dumps(x), prov.XSD['string'])"
     ],
     "language": "python",
     "metadata": {},
     "outputs": [],
     "prompt_number": 108
    },
    {
     "cell_type": "code",
     "collapsed": false,
     "input": [
      "nidm = prov.Namespace('nidm', 'http://nidm.nidash.org/terms/')\n",
      "niiri = prov.Namespace('niiri', 'http://nidm.nidash.org/iri/')\n",
      "foaf = prov.Namespace(\"foaf\",\"http://xmlns.com/foaf/0.1/\")\n",
      "dcterms = prov.Namespace(\"dcterms\",\"http://purl.org/dc/terms/\")\n",
      "adhd = prov.Namespace(\"adhd200\", \"http://fcon_1000.projects.nitrc.org/indi/adhd200/\")\n",
      "\n",
      "# create a new graph\n",
      "graph = prov.ProvBundle()\n",
      "graph.add_namespace(nidm)\n",
      "graph.add_namespace(niiri)\n",
      "graph.add_namespace(foaf)\n",
      "graph.add_namespace(dcterms)\n",
      "\n",
      "# uuid method\n",
      "get_id = lambda: uuid1().hex"
     ],
     "language": "python",
     "metadata": {},
     "outputs": [],
     "prompt_number": 109
    },
    {
     "cell_type": "code",
     "collapsed": false,
     "input": [
      "# url collection\n",
      "urlc_id = get_id()\n",
      "urlc_collection = graph.collection(niiri[urlc_id])\n",
      "urlc_collection.add_extra_attributes({prov.PROV['type']: nidm['adhd200_url_collection'],\n",
      "                                      prov.PROV['label']: 'adhd200 URL collection'}\n",
      "                                     )\n",
      "\n",
      "# add all the urls\n",
      "url_entity = {}\n",
      "for url, hash in url_hash.items():\n",
      "    url_entity[url] = graph.entity(niiri[get_id()])\n",
      "    url_entity[url].add_extra_attributes({prov.PROV['type']: nidm['csv_file'],\n",
      "                                          nidm['md5sum']: hash,\n",
      "                                          prov.PROV[\"location\"]: prov.Literal(url, prov.XSD['AnyURI'])})\n",
      "    graph.hadMember(urlc_collection, url_entity[url])\n",
      "\n",
      "# df prov:collection\n",
      "df_id = get_id()\n",
      "df_collection = graph.collection(niiri[df_id])\n",
      "df_collection.add_extra_attributes({prov.PROV['type']: nidm['dataframe']})\n",
      "\n",
      "graph.wasDerivedFrom(df_collection, urlc_collection)\n",
      "\n",
      "a0 = graph.activity(niiri[get_id()], startTime=dt.isoformat(dt.utcnow()))\n",
      "user_agent = graph.agent(niiri[get_id()],\n",
      "                         {prov.PROV[\"type\"]: prov.PROV[\"Person\"],\n",
      "                          prov.PROV[\"label\"]: pwd.getpwuid(os.geteuid()).pw_name,\n",
      "                          foaf[\"name\"]: pwd.getpwuid(os.geteuid()).pw_name})\n",
      "graph.wasAssociatedWith(a0, user_agent, None, None,\n",
      "                        {prov.PROV[\"Role\"]: \"Developer\"})\n",
      "graph.wasGeneratedBy(df_collection, a0)"
     ],
     "language": "python",
     "metadata": {
      "slideshow": {
       "slide_type": "subslide"
      }
     },
     "outputs": [
      {
       "metadata": {},
       "output_type": "pyout",
       "prompt_number": 110,
       "text": [
        "<prov.model.ProvGeneration at 0x1184185d0>"
       ]
      }
     ],
     "prompt_number": 110
    },
    {
     "cell_type": "code",
     "collapsed": false,
     "input": [
      "print graph.rdf().serialize(format='turtle')"
     ],
     "language": "python",
     "metadata": {
      "slideshow": {
       "slide_type": "subslide"
      }
     },
     "outputs": [
      {
       "output_type": "stream",
       "stream": "stdout",
       "text": [
        "@prefix dcterms: <http://purl.org/dc/terms/> .\n",
        "@prefix foaf: <http://xmlns.com/foaf/0.1/> .\n",
        "@prefix nidm: <http://nidm.nidash.org/terms/> .\n",
        "@prefix niiri: <http://nidm.nidash.org/iri/> .\n",
        "@prefix prov: <http://www.w3.org/ns/prov#> .\n",
        "@prefix rdf: <http://www.w3.org/1999/02/22-rdf-syntax-ns#> .\n",
        "@prefix rdfs: <http://www.w3.org/2000/01/rdf-schema#> .\n",
        "@prefix xml: <http://www.w3.org/XML/1998/namespace> .\n",
        "@prefix xsd: <http://www.w3.org/2001/XMLSchema#> .\n",
        "@prefix xsd1: <http://www.w3.org/2001/XMLSchema-datatypes#> .\n",
        "\n",
        "niiri:e09d0a020ad611e38aff14109fcf6ae7 a nidm:dataframe,\n",
        "        prov:Collection,\n",
        "        prov:Entity ;\n",
        "    prov:wasDerivedFrom niiri:e09cb6b80ad611e395b314109fcf6ae7 ;\n",
        "    prov:wasGeneratedBy niiri:e09d16fa0ad611e3a91014109fcf6ae7 .\n",
        "\n",
        "niiri:e09cb6b80ad611e395b314109fcf6ae7 a nidm:adhd200_url_collection,\n",
        "        prov:Collection,\n",
        "        prov:Entity ;\n",
        "    prov:hadMember niiri:e09cca050ad611e39e9814109fcf6ae7,\n",
        "        niiri:e09ccf400ad611e38bbe14109fcf6ae7,\n",
        "        niiri:e09cd3140ad611e389b114109fcf6ae7,\n",
        "        niiri:e09cd6de0ad611e3bbd114109fcf6ae7,\n",
        "        niiri:e09cde2e0ad611e3841514109fcf6ae7,\n",
        "        niiri:e09ce1d10ad611e3afe814109fcf6ae7,\n",
        "        niiri:e09ce57d0ad611e384e714109fcf6ae7,\n",
        "        niiri:e09ce9140ad611e398f514109fcf6ae7,\n",
        "        niiri:e09ceca10ad611e3804014109fcf6ae7,\n",
        "        niiri:e09cf0380ad611e3b77814109fcf6ae7,\n",
        "        niiri:e09cf3bd0ad611e3a4be14109fcf6ae7,\n",
        "        niiri:e09cf72e0ad611e3b59414109fcf6ae7,\n",
        "        niiri:e09cfa9e0ad611e3ab3c14109fcf6ae7,\n",
        "        niiri:e09cfe0c0ad611e3ba2514109fcf6ae7,\n",
        "        niiri:e09d01730ad611e3b0b714109fcf6ae7,\n",
        "        niiri:e09d04c70ad611e39f4c14109fcf6ae7 ;\n",
        "    prov:label \"adhd200 URL collection\" .\n",
        "\n",
        "niiri:e09cca050ad611e39e9814109fcf6ae7 a nidm:csv_file,\n",
        "        prov:Entity ;\n",
        "    nidm:md5sum \"ad246c6d12f78566eeb46fdfbb921e32\" ;\n",
        "    prov:location \"ftp://www.nitrc.org/fcon_1000/htdocs/indi/adhd200/sites/ohsu/data/OHSU_phenotypic.csv\"^^xsd1:AnyURI .\n",
        "\n",
        "niiri:e09ccf400ad611e38bbe14109fcf6ae7 a nidm:csv_file,\n",
        "        prov:Entity ;\n",
        "    nidm:md5sum \"53a2534d4511fb2cefa22b6289e6f3be\" ;\n",
        "    prov:location \"ftp://www.nitrc.org/fcon_1000/htdocs/indi/adhd200/sites/pittsburgh/data/Pittsburgh_phenotypic.csv\"^^xsd1:AnyURI .\n",
        "\n",
        "niiri:e09cd3140ad611e389b114109fcf6ae7 a nidm:csv_file,\n",
        "        prov:Entity ;\n",
        "    nidm:md5sum \"432f01eb672a6cc1308f864edc66f75e\" ;\n",
        "    prov:location \"ftp://www.nitrc.org/fcon_1000/htdocs/indi/adhd200/sites/beijing/data/Peking_1_TestRelease_phenotypic.csv\"^^xsd1:AnyURI .\n",
        "\n",
        "niiri:e09cd6de0ad611e3bbd114109fcf6ae7 a nidm:csv_file,\n",
        "        prov:Entity ;\n",
        "    nidm:md5sum \"1813959855fae7ed25dd9ccae3726013\" ;\n",
        "    prov:location \"ftp://www.nitrc.org/fcon_1000/htdocs/indi/adhd200/sites/beijing/data/Peking_1_phenotypic.csv\"^^xsd1:AnyURI .\n",
        "\n",
        "niiri:e09cde2e0ad611e3841514109fcf6ae7 a nidm:csv_file,\n",
        "        prov:Entity ;\n",
        "    nidm:md5sum \"db0dac7cf73a4b9b83230f7e8f05259f\" ;\n",
        "    prov:location \"ftp://www.nitrc.org/fcon_1000/htdocs/indi/adhd200/sites/nijmegen/data/NeuroIMAGE_phenotypic.csv\"^^xsd1:AnyURI .\n",
        "\n",
        "niiri:e09ce1d10ad611e3afe814109fcf6ae7 a nidm:csv_file,\n",
        "        prov:Entity ;\n",
        "    nidm:md5sum \"58a7fe6ddda2868d7a471ede119e15ff\" ;\n",
        "    prov:location \"ftp://www.nitrc.org/fcon_1000/htdocs/indi/adhd200/sites/brown/data/Brown_TestRelease_phenotypic.csv\"^^xsd1:AnyURI .\n",
        "\n",
        "niiri:e09ce57d0ad611e384e714109fcf6ae7 a nidm:csv_file,\n",
        "        prov:Entity ;\n",
        "    nidm:md5sum \"6aa48b7765c75fbc22d955f9a3c5069f\" ;\n",
        "    prov:location \"ftp://www.nitrc.org/fcon_1000/htdocs/indi/adhd200/sites/pittsburgh/data/Pittsburgh_TestRelease_phenotypic.csv\"^^xsd1:AnyURI .\n",
        "\n",
        "niiri:e09ce9140ad611e398f514109fcf6ae7 a nidm:csv_file,\n",
        "        prov:Entity ;\n",
        "    nidm:md5sum \"b6841753451700b3d52d4574ab577d19\" ;\n",
        "    prov:location \"ftp://www.nitrc.org/fcon_1000/htdocs/indi/adhd200/sites/nyu/data/NYU_phenotypic.csv\"^^xsd1:AnyURI .\n",
        "\n",
        "niiri:e09ceca10ad611e3804014109fcf6ae7 a nidm:csv_file,\n",
        "        prov:Entity ;\n",
        "    nidm:md5sum \"5b5639b270cd69c8a40e3cfd781873e6\" ;\n",
        "    prov:location \"ftp://www.nitrc.org/fcon_1000/htdocs/indi/adhd200/sites/beijing/data/Peking_2_phenotypic.csv\"^^xsd1:AnyURI .\n",
        "\n",
        "niiri:e09cf0380ad611e3b77814109fcf6ae7 a nidm:csv_file,\n",
        "        prov:Entity ;\n",
        "    nidm:md5sum \"3d94e04ec1d08d5dc468235f015d4414\" ;\n",
        "    prov:location \"ftp://www.nitrc.org/fcon_1000/htdocs/indi/adhd200/sites/kki/data/KKI_phenotypic.csv\"^^xsd1:AnyURI .\n",
        "\n",
        "niiri:e09cf3bd0ad611e3a4be14109fcf6ae7 a nidm:csv_file,\n",
        "        prov:Entity ;\n",
        "    nidm:md5sum \"76039b1d5b6fccd72a6879313204a357\" ;\n",
        "    prov:location \"ftp://www.nitrc.org/fcon_1000/htdocs/indi/adhd200/sites/beijing/data/Peking_3_phenotypic.csv\"^^xsd1:AnyURI .\n",
        "\n",
        "niiri:e09cf72e0ad611e3b59414109fcf6ae7 a nidm:csv_file,\n",
        "        prov:Entity ;\n",
        "    nidm:md5sum \"8f1dfabcdef27985435a326329513d01\" ;\n",
        "    prov:location \"ftp://www.nitrc.org/fcon_1000/htdocs/indi/adhd200/sites/nyu/data/NYU_TestRelease_phenotypic.csv\"^^xsd1:AnyURI .\n",
        "\n",
        "niiri:e09cfa9e0ad611e3ab3c14109fcf6ae7 a nidm:csv_file,\n",
        "        prov:Entity ;\n",
        "    nidm:md5sum \"34bd03ddf0d3d20ca27164e66cf6393e\" ;\n",
        "    prov:location \"ftp://www.nitrc.org/fcon_1000/htdocs/indi/adhd200/sites/ohsu/data/OHSU_TestRelease_phenotypic.csv\"^^xsd1:AnyURI .\n",
        "\n",
        "niiri:e09cfe0c0ad611e3ba2514109fcf6ae7 a nidm:csv_file,\n",
        "        prov:Entity ;\n",
        "    nidm:md5sum \"c2877a3ce3048372337c785964aea838\" ;\n",
        "    prov:location \"ftp://www.nitrc.org/fcon_1000/htdocs/indi/adhd200/sites/nijmegen/data/NeuroIMAGE_TestRelease_phenotypic.csv\"^^xsd1:AnyURI .\n",
        "\n",
        "niiri:e09d01730ad611e3b0b714109fcf6ae7 a nidm:csv_file,\n",
        "        prov:Entity ;\n",
        "    nidm:md5sum \"f800faa597f7fc919a5f0a5d50eebec4\" ;\n",
        "    prov:location \"ftp://www.nitrc.org/fcon_1000/htdocs/indi/adhd200/sites/kki/data/KKI_TestRelease_phenotypic.csv\"^^xsd1:AnyURI .\n",
        "\n",
        "niiri:e09d04c70ad611e39f4c14109fcf6ae7 a nidm:csv_file,\n",
        "        prov:Entity ;\n",
        "    nidm:md5sum \"047d18b5edc5a78037400cdfd98dc512\" ;\n",
        "    prov:location \"ftp://www.nitrc.org/fcon_1000/htdocs/indi/adhd200/sites/washu/data/WashU_phenotypic.csv\"^^xsd1:AnyURI .\n",
        "\n",
        "niiri:e09d16fa0ad611e3a91014109fcf6ae7 a prov:Activity ;\n",
        "    prov:qualifiedAssociation [ a prov:Association ;\n",
        "            prov:Role \"Developer\" ;\n",
        "            prov:agent niiri:e09d214a0ad611e39aac14109fcf6ae7 ] ;\n",
        "    prov:startTime \"2013-08-22T02:59:35.891759\"^^xsd:dateTime ;\n",
        "    prov:wasAssociatedWith niiri:e09d214a0ad611e39aac14109fcf6ae7 .\n",
        "\n",
        "niiri:e09d214a0ad611e39aac14109fcf6ae7 a prov:Agent,\n",
        "        prov:Person ;\n",
        "    prov:label \"satra\" ;\n",
        "    foaf:name \"satra\" .\n",
        "\n",
        "\n"
       ]
      }
     ],
     "prompt_number": 111
    },
    {
     "cell_type": "code",
     "collapsed": false,
     "input": [
      "# Add the column labels\n",
      "\n",
      "columns = data.keys()\n",
      "column_collection = graph.collection(niiri[get_id()])\n",
      "column_collection.add_extra_attributes({prov.PROV['type']: nidm['column_headers']})\n",
      "graph.hadMember(df_collection, column_collection)\n",
      "\n",
      "column_uri = {}\n",
      "for col_id, column in enumerate(columns):\n",
      "    column_uri[column] = nidm[column.rstrip().replace(' ', '_').replace('/', '_').replace('#', '')]\n",
      "    column_entity = graph.entity(column_uri[column])\n",
      "    column_entity.add_extra_attributes({prov.PROV['type']: nidm['csv_heading'],\n",
      "                                        prov.PROV['label']: safe_encode(column)})\n",
      "    graph.hadMember(column_collection, column_entity)\n"
     ],
     "language": "python",
     "metadata": {
      "slideshow": {
       "slide_type": "subslide"
      }
     },
     "outputs": [],
     "prompt_number": 112
    },
    {
     "cell_type": "markdown",
     "metadata": {
      "slideshow": {
       "slide_type": "subslide"
      }
     },
     "source": [
      "## Perform the conversion"
     ]
    },
    {
     "cell_type": "code",
     "collapsed": false,
     "input": [
      "row_count = 0\n",
      "for idx in index:\n",
      "    row = data.ix[idx, :].dropna()\n",
      "    subject_id = row['ID']\n",
      "    url = reverse_map[subject_id]\n",
      "    subject_id = '%07d' % subject_id\n",
      "    #adhd2nidm(graph, data.ix[idx, :].dropna(), reverse_map)\n",
      "    #for row in data.iterrows():\n",
      "    row_count +=1\n",
      "    row_id = niiri[get_id()]\n",
      "    # each row is an entity\n",
      "    row_entity = graph.entity(row_id)\n",
      "    attr = {prov.PROV['type']: nidm['csv_row'],\n",
      "            prov.PROV['location']: row_count,\n",
      "            nidm['ID']: subject_id,\n",
      "            }\n",
      "    graph.hadMember(df_collection, row_id)\n",
      "    for column in row.keys():\n",
      "        if column is not 'ID':\n",
      "            try:\n",
      "                if not np.isnan(row[column]):\n",
      "                    attr[column_uri[column]] = safe_encode(row[column])\n",
      "            except TypeError:\n",
      "                attr[column_uri[column]] = safe_encode(row[column])\n",
      "                \n",
      "    row_entity.add_extra_attributes(attr)\n",
      "    graph.wasDerivedFrom(row_entity, url_entity[url])"
     ],
     "language": "python",
     "metadata": {},
     "outputs": [],
     "prompt_number": 113
    },
    {
     "cell_type": "code",
     "collapsed": false,
     "input": [
      "print len(graph.rdf())"
     ],
     "language": "python",
     "metadata": {},
     "outputs": [
      {
       "output_type": "stream",
       "stream": "stdout",
       "text": [
        "19957\n"
       ]
      }
     ],
     "prompt_number": 114
    },
    {
     "cell_type": "markdown",
     "metadata": {
      "slideshow": {
       "slide_type": "slide"
      }
     },
     "source": [
      "## Upload function"
     ]
    },
    {
     "cell_type": "code",
     "collapsed": false,
     "input": [
      "def upload_graph(graph, endpoint=None, uri='http://test.nidm.org'):\n",
      "    import requests\n",
      "    from requests.auth import HTTPDigestAuth\n",
      "\n",
      "    # connection params for secure endpoint\n",
      "    if endpoint is None:\n",
      "        endpoint = 'http://bips.incf.org:8890/sparql'\n",
      "\n",
      "    # session defaults\n",
      "    session = requests.Session()\n",
      "    session.headers = {'Accept': 'text/html'}  # HTML from SELECT queries\n",
      "\n",
      "    counter = 0\n",
      "    max_stmts = 1000\n",
      "    stmts = graph.rdf().serialize(format='nt').splitlines()\n",
      "    N = len(stmts)\n",
      "    while (counter < N):\n",
      "        endcounter = min(N, counter + max_stmts)\n",
      "        query = \"\"\"\n",
      "        INSERT IN GRAPH <%s>\n",
      "        {\n",
      "        %s\n",
      "        }\n",
      "        \"\"\" % (uri, '\\n'.join(stmts[counter:endcounter]))\n",
      "        data = {'query': query}\n",
      "        result = session.post(endpoint, data=data)\n",
      "        print(result)\n",
      "        counter = endcounter\n",
      "    print('Submitted %d statemnts' % N)"
     ],
     "language": "python",
     "metadata": {},
     "outputs": [],
     "prompt_number": 115
    },
    {
     "cell_type": "code",
     "collapsed": false,
     "input": [
      "endpoint = 'http://computor.mit.edu:8890/sparql'\n",
      "upload_graph(graph, endpoint=endpoint, uri='http://adhd200.nidm.org')"
     ],
     "language": "python",
     "metadata": {
      "slideshow": {
       "slide_type": "subslide"
      }
     },
     "outputs": [
      {
       "output_type": "stream",
       "stream": "stdout",
       "text": [
        "<Response [200]>\n",
        "<Response [200]>"
       ]
      },
      {
       "output_type": "stream",
       "stream": "stdout",
       "text": [
        "\n",
        "<Response [200]>"
       ]
      },
      {
       "output_type": "stream",
       "stream": "stdout",
       "text": [
        "\n",
        "<Response [200]>"
       ]
      },
      {
       "output_type": "stream",
       "stream": "stdout",
       "text": [
        "\n",
        "<Response [200]>"
       ]
      },
      {
       "output_type": "stream",
       "stream": "stdout",
       "text": [
        "\n",
        "<Response [200]>"
       ]
      },
      {
       "output_type": "stream",
       "stream": "stdout",
       "text": [
        "\n",
        "<Response [200]>"
       ]
      },
      {
       "output_type": "stream",
       "stream": "stdout",
       "text": [
        "\n",
        "<Response [200]>"
       ]
      },
      {
       "output_type": "stream",
       "stream": "stdout",
       "text": [
        "\n",
        "<Response [200]>"
       ]
      },
      {
       "output_type": "stream",
       "stream": "stdout",
       "text": [
        "\n",
        "<Response [200]>"
       ]
      },
      {
       "output_type": "stream",
       "stream": "stdout",
       "text": [
        "\n",
        "<Response [200]>"
       ]
      },
      {
       "output_type": "stream",
       "stream": "stdout",
       "text": [
        "\n",
        "<Response [200]>"
       ]
      },
      {
       "output_type": "stream",
       "stream": "stdout",
       "text": [
        "\n",
        "<Response [200]>"
       ]
      },
      {
       "output_type": "stream",
       "stream": "stdout",
       "text": [
        "\n",
        "<Response [200]>"
       ]
      },
      {
       "output_type": "stream",
       "stream": "stdout",
       "text": [
        "\n",
        "<Response [200]>"
       ]
      },
      {
       "output_type": "stream",
       "stream": "stdout",
       "text": [
        "\n",
        "<Response [200]>"
       ]
      },
      {
       "output_type": "stream",
       "stream": "stdout",
       "text": [
        "\n",
        "<Response [200]>"
       ]
      },
      {
       "output_type": "stream",
       "stream": "stdout",
       "text": [
        "\n",
        "<Response [200]>"
       ]
      },
      {
       "output_type": "stream",
       "stream": "stdout",
       "text": [
        "\n",
        "<Response [200]>"
       ]
      },
      {
       "output_type": "stream",
       "stream": "stdout",
       "text": [
        "\n",
        "<Response [200]>"
       ]
      },
      {
       "output_type": "stream",
       "stream": "stdout",
       "text": [
        "\n",
        "Submitted 19958 statemnts\n"
       ]
      }
     ],
     "prompt_number": 116
    },
    {
     "cell_type": "markdown",
     "metadata": {
      "slideshow": {
       "slide_type": "slide"
      }
     },
     "source": [
      "## Query the uploaded data"
     ]
    },
    {
     "cell_type": "code",
     "collapsed": false,
     "input": [
      "import rdflib\n",
      "g = rdflib.ConjunctiveGraph('SPARQLStore')\n",
      "g.open(endpoint)\n",
      "\n",
      "query = \"\"\"\n",
      "PREFIX prov: <http://www.w3.org/ns/prov#>\n",
      "PREFIX nidm: <http://nidm.nidash.org/terms/>\n",
      "PREFIX niiri: <http://nidm.nidash.org/iri/>\n",
      "\n",
      "SELECT ?id ?age ?iq\n",
      "FROM <http://adhd200.nidm.org>\n",
      "WHERE { ?c nidm:ID ?id .\n",
      "        ?c nidm:Age ?age .\n",
      "        ?c nidm:Verbal_IQ ?iq .}\n",
      "LIMIT 2\n",
      "\"\"\"\n",
      "\n",
      "results = g.query(query, result='csv')\n",
      "print results.serialize(format='csv')"
     ],
     "language": "python",
     "metadata": {},
     "outputs": [
      {
       "output_type": "stream",
       "stream": "stdout",
       "text": [
        "id,age,iq\r\n",
        "0026022,17.83,105.0\r\n",
        "0026044,9.32,119.0\r\n",
        "\n"
       ]
      }
     ],
     "prompt_number": 134
    },
    {
     "cell_type": "code",
     "collapsed": false,
     "input": [
      "g = rdflib.ConjunctiveGraph('SPARQLStore')\n",
      "g.open('http://bips.incf.org:8890/sparql')\n",
      "\n",
      "query = \"\"\"\n",
      "PREFIX rdf: <http://www.w3.org/1999/02/22-rdf-syntax-ns#>\n",
      "PREFIX rdfs: <http://www.w3.org/2000/01/rdf-schema#>\n",
      "PREFIX owl: <http://www.w3.org/2002/07/owl#>\n",
      "PREFIX xsd: <http://www.w3.org/2001/XMLSchema#>\n",
      "PREFIX fs: <http://freesurfer.net/fswiki/terms/>\n",
      "PREFIX nidm: <http://nidm.nidash.org/terms/>\n",
      "PREFIX prov: <http://www.w3.org/ns/prov#>\n",
      "PREFIX niiri: <http://nidm.nidash.org/iri/>\n",
      "PREFIX obo: <http://purl.obolibrary.org/obo/>\n",
      "PREFIX nif: <http://neurolex.org/wiki/>\n",
      "PREFIX foaf: <http://xmlns.com/foaf/0.1/>\n",
      "\n",
      "select ?id ?age ?vol\n",
      "where\n",
      "{\n",
      "            ?c fs:subject_id ?id;\n",
      "                prov:hadMember ?e1 .\n",
      "            ?e1 prov:label ?label .\n",
      "            ?sc prov:wasDerivedFrom ?e1;\n",
      "                a nidm:FreeSurferStatsCollection;\n",
      "                prov:hadMember [ nidm:AnatomicalAnnotation ?annot;\n",
      "                                 fs:Volume_mm3 ?vol] .\n",
      "            FILTER regex(?annot, \"Right-Amy\")\n",
      "      SERVICE <http://computor.mit.edu:8890/sparql> {\n",
      "           ?c2 nidm:ID ?id .\n",
      "           ?c2 nidm:Age ?age .\n",
      "      }\n",
      "} LIMIT 2\n",
      "\"\"\"\n",
      "results = g.query(query, result='csv')\n",
      "print results.serialize(format='csv')"
     ],
     "language": "python",
     "metadata": {
      "slideshow": {
       "slide_type": "subslide"
      }
     },
     "outputs": [
      {
       "output_type": "stream",
       "stream": "stdout",
       "text": [
        "id,age,vol\r\n",
        "0010087,17.61,1446.0\r\n",
        "0010105,7.43,882.0\r\n",
        "\n"
       ]
      }
     ],
     "prompt_number": 137
    },
    {
     "cell_type": "code",
     "collapsed": false,
     "input": [],
     "language": "python",
     "metadata": {},
     "outputs": []
    }
   ],
   "metadata": {}
  }
 ]
}