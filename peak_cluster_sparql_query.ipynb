{
 "metadata": {
  "name": "peak_cluster_sparql_query"
 },
 "nbformat": 3,
 "nbformat_minor": 0,
 "worksheets": [
  {
   "cells": [
    {
     "cell_type": "code",
     "collapsed": false,
     "input": [
      "import rdflib"
     ],
     "language": "python",
     "metadata": {},
     "outputs": [],
     "prompt_number": 81
    },
    {
     "cell_type": "code",
     "collapsed": false,
     "input": [
      "g=rdflib.Graph()\n",
      "g.parse('fsl_results.ttl',format='turtle')\n"
     ],
     "language": "python",
     "metadata": {},
     "outputs": [
      {
       "output_type": "pyout",
       "prompt_number": 86,
       "text": [
        "<Graph identifier=Na956d720b1544e1884e336ccd0e76630 (<class 'rdflib.graph.Graph'>)>"
       ]
      }
     ],
     "prompt_number": 86
    },
    {
     "cell_type": "code",
     "collapsed": false,
     "input": [
      "prov = rdflib.URIRef('http://www.w3.org/ns/prov#')\n",
      "xsd = rdflib.URIRef('http://www.w3.org/2001/XMLSchema#')\n",
      "neurolex = rdflib.URIRef('http://neurolex.org/wiki/')\n",
      "spm = rdflib.URIRef('http://www.incf.org/ns/nidash/spm#')\n",
      "nidm = rdflib.URIRef('http://www.incf.org/ns/nidash/nidm#')\n",
      "niiri = rdflib.URIRef('http://iri.nidash.org/')\n",
      "crypto = rdflib.URIRef('http://id.loc.gov/vocabulary/preservation/cryptographicHashFunctions#')\n",
      "dct = rdflib.URIRef('http://purl.org/dc/terms/')\n",
      "rdfs = rdflib.URIRef('http://www.w3.org/2000/01/rdf-schema#')\n",
      "\n",
      "\n",
      "#qres = g.query (\"\"\"SELECT DISTINCT ?peak ?property ?value WHERE { ?peak a nidm:Peak . ?peak ?property ?value .}\"\"\")\n",
      "#cluster_data = g.query (\"\"\"SELECT DISTINCT ?cluster ?property ?value WHERE { ?cluster a nidm:Cluster . ?cluster ?property ?value .}\"\"\")\n",
      "#cluster_id = g.query (\"\"\"SELECT DISTINCT ?cluster WHERE { ?cluster a nidm:Cluster .}\"\"\")"
     ],
     "language": "python",
     "metadata": {},
     "outputs": [],
     "prompt_number": 87
    },
    {
     "cell_type": "code",
     "collapsed": false,
     "input": [
      "#peaks data query\n",
      "\n",
      "#SELECT DISTINCT ?cluster ?peak ?x ?y ?z ?value ?pval ?stat WHERE \n",
      "#{ ?peak a nidm:Peak . \n",
      "#  ?cluster a nidm:Cluster . \n",
      "#  ?peak prov:wasDerivedFrom ?cluster .\n",
      "#  ?peak prov:atLocation [ nidm:coordinate1 ?x ;\n",
      "#                          nidm:coordinate2 ?y ;\n",
      "#                          nidm:coordinate3 ?z ] .\n",
      "#  ?peak prov:value ?value .\n",
      "#  ?peak nidm:qValueFDR ?pval .\n",
      "#  ?cluster prov:wasDerivedFrom/prov:wasGeneratedBy/prov:used ?statmap .\n",
      "#  ?statmap a nidm:StatisticMap . \n",
      "#  ?statmap nidm:statisticType ?stat .\n",
      "#}\n",
      "#ORDER BY ?cluster ?peak\n",
      "\n",
      "\n",
      "query=\"\"\"\n",
      "SELECT DISTINCT *\n",
      "WHERE \n",
      "{ ?peak a nidm:Peak . \n",
      "  ?cluster a nidm:Cluster . \n",
      "  ?peak prov:wasDerivedFrom ?cluster .\n",
      "  ?peak prov:atLocation ?coordinate .\n",
      "  ?coordinate nidm:coordinate1 ?x .\n",
      "  ?coordinate nidm:coordinate2 ?y .\n",
      "  ?coordinate nidm:coordinate3 ?z .\n",
      "  OPTIONAL { ?peak prov:value ?value }.\n",
      "  ?peak nidm:equivalentZStatistic ?zstat .\n",
      "  OPTIONAL { ?peak nidm:pValueFWER ?pvalcor }.\n",
      "  ?peak nidm:pValueUncorrected ?pvalunc .\n",
      "  ?cluster prov:wasDerivedFrom/prov:wasGeneratedBy/prov:used ?statmap .\n",
      "  ?statmap a nidm:StatisticMap . \n",
      "  ?statmap nidm:statisticType ?stat .\n",
      "}\n",
      "ORDER BY ?cluster ?peak\n",
      "\"\"\"\n",
      "\n",
      "peak_id = g.query(query)\n",
      "for peakrow in peak_id:\n",
      "    print([str(val) for val in peakrow])\n",
      "    #print([str(val.replace('http://iri.nidash.org/', '').replace('http://www.incf.org/ns/nidash/nidm#', '')) for val in peakrow])"
     ],
     "language": "python",
     "metadata": {},
     "outputs": [
      {
       "output_type": "stream",
       "stream": "stdout",
       "text": [
        "['http://iri.nidash.org/cluster_0001', '4.126074e-10', 'http://iri.nidash.org/peak_0001', 'http://iri.nidash.org/coordinate_0001', '-48.1', '-9.24', '-73.7', 'http://www.incf.org/ns/nidash/nidm#ZStatistic', 'http://iri.nidash.org/z_statistic_map_id', 'None', '6.14', 'None']\n",
        "['http://iri.nidash.org/cluster_0001', '7.705712e-10', 'http://iri.nidash.org/peak_0002', 'http://iri.nidash.org/coordinate_0002', '-38.1', '-18.0', '-53.4', 'http://www.incf.org/ns/nidash/nidm#ZStatistic', 'http://iri.nidash.org/z_statistic_map_id', 'None', '6.04', 'None']\n",
        "['http://iri.nidash.org/cluster_0001', '4.462172e-09', 'http://iri.nidash.org/peak_0003', 'http://iri.nidash.org/coordinate_0003', '-29.6', '-16.9', '-73.8', 'http://www.incf.org/ns/nidash/nidm#ZStatistic', 'http://iri.nidash.org/z_statistic_map_id', 'None', '5.75', 'None']\n",
        "['http://iri.nidash.org/cluster_0001', '4.462172e-09', 'http://iri.nidash.org/peak_0004', 'http://iri.nidash.org/coordinate_0004', '0.791', '3.23', '-87.2', 'http://www.incf.org/ns/nidash/nidm#ZStatistic', 'http://iri.nidash.org/z_statistic_map_id', 'None', '5.75', 'None']\n",
        "['http://iri.nidash.org/cluster_0002', '2.178976e-09', 'http://iri.nidash.org/peak_0005', 'http://iri.nidash.org/coordinate_0005', '16.1', '5.82', '-96.6', 'http://www.incf.org/ns/nidash/nidm#ZStatistic', 'http://iri.nidash.org/z_statistic_map_id', 'None', '5.87', 'None']\n",
        "['http://iri.nidash.org/cluster_0002', '8.022392e-09', 'http://iri.nidash.org/peak_0006', 'http://iri.nidash.org/coordinate_0006', '-25.5', '-15.3', '-80.4', 'http://www.incf.org/ns/nidash/nidm#ZStatistic', 'http://iri.nidash.org/z_statistic_map_id', 'None', '5.65', 'None']\n"
       ]
      }
     ],
     "prompt_number": 48
    },
    {
     "cell_type": "code",
     "collapsed": false,
     "input": [
      "#cluster data query\n",
      "query=\"\"\"\n",
      "prefix spm:<http://www.incf.org/ns/nidash/spm#>\n",
      "SELECT DISTINCT * WHERE \n",
      "{ ?cluster a nidm:Cluster . \n",
      "  ?cluster nidm:clusterLabelId ?label .\n",
      "  ?cluster nidm:clusterSizeInVoxels ?sizeVx .\n",
      "  OPTIONAL { ?cluster spm:clusterSizeInResels ?sizeRz } .\n",
      "  OPTIONAL { ?cluster nidm:pValueFWER ?pvalcor }.\n",
      "  OPTIONAL { ?cluster nidm:pValueUncorrected ?pvalunc }.\n",
      "}\n",
      "ORDER BY ?cluster\n",
      "\"\"\"\n",
      "\n",
      "cluster = g.query(query)\n",
      "for clusterrow in cluster:\n",
      "    print([str(val) for val in peakrow])\n",
      "    #print([str(val.replace('http://iri.nidash.org/', '').replace('http://www.incf.org/ns/nidash/nidm#', '')) for val in clusterrow])"
     ],
     "language": "python",
     "metadata": {},
     "outputs": [
      {
       "output_type": "stream",
       "stream": "stdout",
       "text": [
        "['http://iri.nidash.org/cluster_0002', '8.022392e-09', 'http://iri.nidash.org/peak_0006', 'http://iri.nidash.org/coordinate_0006', '-25.5', '-15.3', '-80.4', 'http://www.incf.org/ns/nidash/nidm#ZStatistic', 'http://iri.nidash.org/z_statistic_map_id', 'None', '5.65', 'None']\n",
        "['http://iri.nidash.org/cluster_0002', '8.022392e-09', 'http://iri.nidash.org/peak_0006', 'http://iri.nidash.org/coordinate_0006', '-25.5', '-15.3', '-80.4', 'http://www.incf.org/ns/nidash/nidm#ZStatistic', 'http://iri.nidash.org/z_statistic_map_id', 'None', '5.65', 'None']\n"
       ]
      }
     ],
     "prompt_number": 89
    },
    {
     "cell_type": "code",
     "collapsed": false,
     "input": [
      "nidm"
     ],
     "language": "python",
     "metadata": {},
     "outputs": [
      {
       "output_type": "pyout",
       "prompt_number": 68,
       "text": [
        "rdflib.term.URIRef(u'http://www.incf.org/ns/nidash/nidm#')"
       ]
      }
     ],
     "prompt_number": 68
    },
    {
     "cell_type": "code",
     "collapsed": false,
     "input": [
      "#thresholds query\n",
      "query=\"\"\"\n",
      "prefix spm:<http://www.incf.org/ns/nidash/spm#>\n",
      "SELECT DISTINCT *\n",
      "WHERE \n",
      "{ ?inference a nidm:Inference .\n",
      "  ?height a nidm:HeightThreshold .\n",
      "  ?extent a nidm:ExtentThreshold .\n",
      "  ?height rdfs:label ?heightLabel .\n",
      "  ?height nidm:userSpecifiedThresholdType ?heightType .\n",
      "  ?height prov:value ?heightThr .\n",
      "  ?inference prov:used ?statmap .\n",
      "  ?statmap a nidm:StatisticMap . \n",
      "  ?statmap nidm:statisticType ?statType .\n",
      "  OPTIONAL {?height nidm:pValueUncorrected  ?heightPunc} .\n",
      "  OPTIONAL {?height nidm:pValueFWER ?heightPcor} .\n",
      "  ?extent rdfs:label ?extentLabel .\n",
      "  OPTIONAL {?extent nidm:clusterSizeInVoxels ?extentThrVox }.\n",
      "  OPTIONAL {?extent spm:clusterSizeInResels ?extentThrRes }.\n",
      "  OPTIONAL {?extent nidm:pValueUncorrected ?extentPunc }.\n",
      "  ?extent nidm:pValueFWER ?extentPcor .\n",
      "}\n",
      "\"\"\"\n",
      "\n",
      "height = g.query(query)\n",
      "for heightrow in height:\n",
      "    print([str(val) for val in heightrow])\n",
      "    #print([str(val.replace('http://iri.nidash.org/', '').replace('http://www.incf.org/ns/nidash/nidm#', '')) for val in heightrow])"
     ],
     "language": "python",
     "metadata": {},
     "outputs": [
      {
       "output_type": "stream",
       "stream": "stdout",
       "text": [
        "['Cluster Threshold', '5.2353', 'None', 'http://iri.nidash.org/extent_threshold_id', '0.05', 'None', 'http://www.incf.org/ns/nidash/nidm#ZStatistic', '1e-06', 'http://iri.nidash.org/z_statistic_map_id', 'http://iri.nidash.org/inference_id', 'None', 'Height Threshold: p<0.05 (FWE)', 'p-value FWE', '1.0', 'http://iri.nidash.org/height_threshold_id']\n"
       ]
      }
     ],
     "prompt_number": 88
    },
    {
     "cell_type": "code",
     "collapsed": false,
     "input": [
      "################\n",
      "#metadata query\n",
      "################\n",
      "\n",
      "niiri:search_space_id\n",
      "    a prov:Entity, nidm:SearchSpaceMap ; \n",
      "    prov:atLocation \"http://www.fil.ion.ucl.ac.uk/spm/download/data/MoAEpilot/auditory.nidm/SearchSpace.nii.gz\"^^xsd:anyURI ;\n",
      "    nidm:filename \"SearchSpace.nii.gz\"^^xsd:string ;\n",
      "    dct:format \"image/nifti\"^^xsd:string ;\n",
      "    rdfs:label \"Search Space Map\" ;\n",
      "    nidm:inCoordinateSpace niiri:coordinate_space_id_1 ;\n",
      "    spm:searchVolumeInVoxels \"70539\"^^xsd:int ;\n",
      "    spm:searchVolumeInResels \"1998.47190959509\"^^xsd:float ;\n",
      "    spm:noiseFWHMInVoxels \"[3.31319686133323, 3.31415810309912, 2.87101739697535]\"^^xsd:string ;\n",
      "    spm:noiseFWHMInUnits \"[9.93959058399969, 9.94247430929737, 8.61305219092604]\"^^xsd:string ;\n",
      "\n",
      "               a prov:Entity, nidm:CoordinateSpace ; \n",
      "    rdfs:label \"Coordinate space 1\" ;\n",
      "    nidm:voxelToWorldMapping \"[[-3, 0, 0, 78],[0, 3, 0, -112],[0, 0, 3, -70],[0, 0, 0, 1]]\"^^xsd:string ;\n",
      "    nidm:voxelUnits \"['mm', 'mm', 'mm']\"^^xsd:string ;\n",
      "    nidm:voxelSize \"[3, 3, 3]\"^^xsd:string ;\n",
      "    nidm:inWorldCoordinateSystem nidm:MNICoordinateSystem ;\n",
      "    nidm:numberOfDimensions \"3\"^^xsd:int ;\n",
      "    nidm:dimensionsInVoxels \"[53,63,52]\"^^xsd:string .\n",
      "\n",
      "\n",
      "query=\"\"\"\n",
      "SELECT DISTINCT ?searchVolumeVox ?searchVolume\n",
      "{\n",
      "\n",
      "}\n",
      "\"\"\""
     ],
     "language": "python",
     "metadata": {},
     "outputs": [],
     "prompt_number": 19
    },
    {
     "cell_type": "code",
     "collapsed": false,
     "input": [],
     "language": "python",
     "metadata": {},
     "outputs": []
    }
   ],
   "metadata": {}
  }
 ]
}