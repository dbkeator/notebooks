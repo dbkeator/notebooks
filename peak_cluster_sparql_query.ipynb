{
 "metadata": {
  "name": "peak_cluster_sparql_query"
 },
 "nbformat": 3,
 "nbformat_minor": 0,
 "worksheets": [
  {
   "cells": [
    {
     "cell_type": "code",
     "collapsed": false,
     "input": [
      "import rdflib"
     ],
     "language": "python",
     "metadata": {},
     "outputs": [],
     "prompt_number": 3
    },
    {
     "cell_type": "code",
     "collapsed": false,
     "input": [
      "g=rdflib.Graph()\n",
      "g.parse('nidm.ttl',format='turtle')"
     ],
     "language": "python",
     "metadata": {},
     "outputs": [
      {
       "output_type": "pyout",
       "prompt_number": 4,
       "text": [
        "<Graph identifier=N39fccf3cd0714517935293837e20bde4 (<class 'rdflib.graph.Graph'>)>"
       ]
      }
     ],
     "prompt_number": 4
    },
    {
     "cell_type": "code",
     "collapsed": false,
     "input": [
      "prov = rdflib.URIRef('http://www.w3.org/ns/prov#')\n",
      "xsd = rdflib.URIRef('http://www.w3.org/2001/XMLSchema#')\n",
      "neurolex = rdflib.URIRef('http://neurolex.org/wiki/')\n",
      "spm = rdflib.URIRef('http://www.incf.org/ns/nidash/spm#')\n",
      "nidm = rdflib.URIRef('http://www.incf.org/ns/nidash/nidm#')\n",
      "niiri = rdflib.URIRef('http://iri.nidash.org/')\n",
      "crypto = rdflib.URIRef('http://id.loc.gov/vocabulary/preservation/cryptographicHashFunctions#')\n",
      "dct = rdflib.URIRef('http://purl.org/dc/terms/')\n",
      "rdfs = rdflib.URIRef('http://www.w3.org/2000/01/rdf-schema#')\n",
      "\n",
      "\n",
      "#qres = g.query (\"\"\"SELECT DISTINCT ?peak ?property ?value WHERE { ?peak a nidm:Peak . ?peak ?property ?value .}\"\"\")\n",
      "#cluster_data = g.query (\"\"\"SELECT DISTINCT ?cluster ?property ?value WHERE { ?cluster a nidm:Cluster . ?cluster ?property ?value .}\"\"\")\n",
      "#cluster_id = g.query (\"\"\"SELECT DISTINCT ?cluster WHERE { ?cluster a nidm:Cluster .}\"\"\")"
     ],
     "language": "python",
     "metadata": {},
     "outputs": [],
     "prompt_number": 5
    },
    {
     "cell_type": "code",
     "collapsed": false,
     "input": [
      "#peaks data query\n",
      "\n",
      "#SELECT DISTINCT ?cluster ?peak ?x ?y ?z ?value ?pval ?stat WHERE \n",
      "#{ ?peak a nidm:Peak . \n",
      "#  ?cluster a nidm:Cluster . \n",
      "#  ?peak prov:wasDerivedFrom ?cluster .\n",
      "#  ?peak prov:atLocation [ nidm:coordinate1 ?x ;\n",
      "#                          nidm:coordinate2 ?y ;\n",
      "#                          nidm:coordinate3 ?z ] .\n",
      "#  ?peak prov:value ?value .\n",
      "#  ?peak nidm:qValueFDR ?pval .\n",
      "#  ?cluster prov:wasDerivedFrom/prov:wasGeneratedBy/prov:used ?statmap .\n",
      "#  ?statmap a nidm:StatisticMap . \n",
      "#  ?statmap nidm:statisticType ?stat .\n",
      "#}\n",
      "#ORDER BY ?cluster ?peak\n",
      "\n",
      "\n",
      "query=\"\"\"\n",
      "SELECT DISTINCT ?cluster ?peak ?x ?y ?z ?value ?zstat ?pvalcor ?pvalunc ?stat WHERE \n",
      "{ ?peak a nidm:Peak . \n",
      "  ?cluster a nidm:Cluster . \n",
      "  ?peak prov:wasDerivedFrom ?cluster .\n",
      "  ?peak prov:atLocation ?coordinate .\n",
      "  ?coordinate nidm:coordinate1 ?x .\n",
      "  ?coordinate nidm:coordinate2 ?y .\n",
      "  ?coordinate nidm:coordinate3 ?z .\n",
      "  ?peak prov:value ?value .\n",
      "  ?peak nidm:equivalentZStatistic ?zstat .\n",
      "  ?peak nidm:pValueFWER ?pvalcor .\n",
      "  ?peak nidm:pValueUncorrected ?pvalunc .\n",
      "  ?cluster prov:wasDerivedFrom/prov:wasGeneratedBy/prov:used ?statmap .\n",
      "  ?statmap a nidm:StatisticMap . \n",
      "  ?statmap nidm:statisticType ?stat .\n",
      "}\n",
      "ORDER BY ?cluster ?peak\n",
      "\"\"\"\n",
      "\n",
      "peak_id = g.query(query)\n",
      "for peakrow in peak_id:\n",
      "    #print(peakrow[\"pvalunc\"])\n",
      "    print([str(val.replace('http://iri.nidash.org/', '').replace('http://www.incf.org/ns/nidash/nidm#', '')) for val in peakrow])"
     ],
     "language": "python",
     "metadata": {},
     "outputs": [
      {
       "output_type": "stream",
       "stream": "stdout",
       "text": [
        "['cluster_0001', 'peak_0001', '57.0', '-22.0', '11.0', '17.0181045532', 'inf', '0.0', '4.4408920985e-16', 'TStatistic']\n",
        "['cluster_0001', 'peak_0002', '66.0', '-10.0', '-1.0', '14.3678979874', 'inf', '0.0', '4.4408920985e-16', 'TStatistic']\n",
        "['cluster_0001', 'peak_0003', '51.0', '-19.0', '5.0', '9.53503990173', '7.65657425716', '6.57837784246e-10', '9.54791801178e-15', 'TStatistic']\n",
        "['cluster_0001', 'peak_0004', '57.0', '-40.0', '5.0', '9.38585662842', '7.57559267176', '1.24519294875e-09', '1.78745906965e-14', 'TStatistic']\n",
        "['cluster_0001', 'peak_0005', '45.0', '-31.0', '17.0', '8.9136800766', '7.30823586517', '9.53081646937e-09', '1.35336186702e-13', 'TStatistic']\n",
        "['cluster_0001', 'peak_0006', '48.0', '-10.0', '-4.0', '8.28345966339', '6.93266659071', '1.45640586591e-07', '2.0649038035e-12', 'TStatistic']\n",
        "['cluster_0001', 'peak_0007', '51.0', '5.0', '-7.0', '8.27590179443', '6.92803528634', '1.50488224548e-07', '2.13362660872e-12', 'TStatistic']\n",
        "['cluster_0001', 'peak_0008', '72.0', '-34.0', '-7.0', '7.39094781876', '6.3651962404', '6.87895489004e-06', '9.75201031039e-11', 'TStatistic']\n",
        "['cluster_0001', 'peak_0009', '66.0', '-25.0', '-1.0', '7.31078290939', '6.31210511797', '9.70844833392e-06', '1.37632572006e-10', 'TStatistic']\n",
        "['cluster_0001', 'peak_0010', '51.0', '-4.0', '-7.0', '7.16972351074', '6.21781299911', '1.77804625283e-05', '2.52065923689e-10', 'TStatistic']\n",
        "['cluster_0001', 'peak_0011', '39.0', '-25.0', '8.0', '6.38652992249', '5.67361748732', '0.000493113918721', '6.99065672016e-09', 'TStatistic']\n",
        "['cluster_0001', 'peak_0012', '33.0', '-28.0', '11.0', '6.27709579468', '5.59473529553', '0.00077931000583', '1.10479311255e-08', 'TStatistic']\n",
        "['cluster_0002', 'peak_0013', '-63.0', '-28.0', '14.0', '15.9253873825', 'inf', '0.0', '4.4408920985e-16', 'TStatistic']\n",
        "['cluster_0002', 'peak_0014', '-48.0', '-34.0', '14.0', '14.6921548843', 'inf', '0.0', '4.4408920985e-16', 'TStatistic']\n",
        "['cluster_0002', 'peak_0015', '-66.0', '-10.0', '2.0', '13.2410755157', 'inf', '0.0', '4.4408920985e-16', 'TStatistic']\n",
        "['cluster_0002', 'peak_0016', '-66.0', '-22.0', '5.0', '12.9655513763', 'inf', '0.0', '4.4408920985e-16', 'TStatistic']\n",
        "['cluster_0002', 'peak_0017', '-51.0', '-16.0', '8.0', '10.7348489761', 'inf', '7.8314021934e-12', '4.4408920985e-16', 'TStatistic']\n",
        "['cluster_0002', 'peak_0018', '-66.0', '-34.0', '-1.0', '10.4679994583', 'inf', '1.56628043868e-11', '4.4408920985e-16', 'TStatistic']\n",
        "['cluster_0002', 'peak_0019', '-63.0', '-43.0', '8.0', '8.71757221222', '7.19350360296', '2.22568450337e-08', '3.15747428203e-13', 'TStatistic']\n",
        "['cluster_0002', 'peak_0020', '-33.0', '-28.0', '14.0', '6.93082714081', '6.05555831834', '4.93531128841e-05', '6.99657332071e-10', 'TStatistic']\n",
        "['cluster_0002', 'peak_0021', '-36.0', '-25.0', '5.0', '5.80643463135', '5.24736628284', '0.00544169455489', '7.71444783609e-08', 'TStatistic']\n",
        "['cluster_0003', 'peak_0022', '36.0', '-28.0', '-13.0', '7.03446912766', '6.12634850638', '3.17138740316e-05', '4.49593695606e-10', 'TStatistic']\n",
        "['cluster_0003', 'peak_0023', '33.0', '-31.0', '-16.0', '6.95116901398', '6.06950068901', '4.5253765406e-05', '6.41542707847e-10', 'TStatistic']\n",
        "['cluster_0004', 'peak_0024', '54.0', '-1.0', '44.0', '6.88246822357', '6.02231789094', '6.06412255231e-05', '8.59683879639e-10', 'TStatistic']\n",
        "['cluster_0005', 'peak_0025', '-63.0', '-55.0', '-7.0', '6.08390283585', '5.45374771049', '0.00173946218725', '2.46595809328e-08', 'TStatistic']\n",
        "['cluster_0006', 'peak_0026', '-33.0', '-31.0', '-19.0', '5.77321815491', '5.22235072529', '0.00623092025928', '8.83329789314e-08', 'TStatistic']\n",
        "['cluster_0007', 'peak_0027', '-39.0', '-76.0', '-28.0', '5.3877696991', '4.92721064134', '0.0294189372687', '4.17059090041e-07', 'TStatistic']\n",
        "['cluster_0008', 'peak_0028', '57.0', '-43.0', '56.0', '5.35545825958', '4.90206261054', '0.0334480491765', '4.74177990317e-07', 'TStatistic']\n",
        "['cluster_0009', 'peak_0029', '-57.0', '-1.0', '41.0', '5.30371522903', '4.86165968179', '0.0410556933453', '5.82028117924e-07', 'TStatistic']\n",
        "['cluster_0010', 'peak_0030', '-45.0', '41.0', '5.0', '5.29001522064', '4.85093513253', '0.0433394334584', '6.144036655e-07', 'TStatistic']\n",
        "['cluster_0011', 'peak_0031', '45.0', '17.0', '26.0', '5.27087116241', '4.83592993086', '0.0467407799941', '6.6262301035e-07', 'TStatistic']\n"
       ]
      }
     ],
     "prompt_number": 6
    },
    {
     "cell_type": "code",
     "collapsed": false,
     "input": [
      "#cluster data query\n",
      "query=\"\"\"\n",
      "SELECT DISTINCT ?cluster ?label ?sizeVx ?sizeRz ?pvalcor ?pvalunc WHERE \n",
      "{ ?cluster a nidm:Cluster . \n",
      "  ?cluster nidm:clusterLabelId ?label .\n",
      "  ?cluster nidm:clusterSizeInVoxels ?sizeVx .\n",
      "  ?cluster spm:clusterSizeInResels ?sizeRz .\n",
      "  ?cluster nidm:pValueFWER ?pvalcor .\n",
      "  ?cluster nidm:pValueUncorrected ?pvalunc .\n",
      "}\n",
      "ORDER BY ?cluster\n",
      "\"\"\"\n",
      "\n",
      "cluster = g.query(query)\n",
      "for clusterrow in cluster:\n",
      "    print([str(val.replace('http://iri.nidash.org/', '').replace('http://www.incf.org/ns/nidash/nidm#', '')) for val in clusterrow])"
     ],
     "language": "python",
     "metadata": {},
     "outputs": [
      {
       "output_type": "stream",
       "stream": "stdout",
       "text": [
        "['cluster_0001', '1', '427', '13.5447685057', '0.0', '1.06187418288e-36']\n",
        "['cluster_0002', '2', '573', '18.1760008285', '0.0', '1.71309969894e-44']\n",
        "['cluster_0003', '3', '31', '0.983343849361', '3.62477434734e-08', '5.48883517345e-07']\n",
        "['cluster_0004', '4', '12', '0.380649232011', '3.12284693593e-05', '0.000472886249157']\n",
        "['cluster_0005', '5', '3', '0.0951623080027', '0.00315856872717', '0.0479045005009']\n",
        "['cluster_0006', '6', '9', '0.285486924008', '0.000118808391547', '0.00179916967601']\n",
        "['cluster_0007', '7', '1', '0.0317207693342', '0.0152078713799', '0.232055092207']\n",
        "['cluster_0008', '8', '1', '0.0317207693342', '0.0152078713799', '0.232055092207']\n",
        "['cluster_0009', '9', '1', '0.0317207693342', '0.0152078713799', '0.232055092207']\n",
        "['cluster_0010', '10', '1', '0.0317207693342', '0.0152078713799', '0.232055092207']\n",
        "['cluster_0011', '11', '1', '0.0317207693342', '0.0152078713799', '0.232055092207']\n"
       ]
      }
     ],
     "prompt_number": 7
    },
    {
     "cell_type": "code",
     "collapsed": false,
     "input": [
      "#thresholds query\n",
      "query=\"\"\"\n",
      "SELECT DISTINCT ?heightLabel ?heightType ?heightThr ?statType ?heightPunc ?heightPcor ?extentLabel ?extentThrVox ?extentThrRes ?extentPunc ?extentPcor WHERE \n",
      "{ ?inference a nidm:Inference .\n",
      "  ?height a nidm:HeightThreshold .\n",
      "  ?extent a nidm:ExtentThreshold .\n",
      "  ?height rdfs:label ?heightLabel .\n",
      "  ?height nidm:userSpecifiedThresholdType ?heightType .\n",
      "  ?height prov:value ?heightThr .\n",
      "  ?inference prov:used ?statmap .\n",
      "  ?statmap a nidm:StatisticMap . \n",
      "  ?statmap nidm:statisticType ?statType .\n",
      "  ?height nidm:pValueUncorrected  ?heightPunc .\n",
      "  ?height nidm:pValueFWER ?heightPcor .\n",
      "  ?extent rdfs:label ?extentLabel .\n",
      "  ?extent nidm:clusterSizeInVoxels ?extentThrVox .\n",
      "  ?extent spm:clusterSizeInResels ?extentThrRes .\n",
      "  ?extent nidm:pValueUncorrected ?extentPunc .\n",
      "  ?extent nidm:pValueFWER ?extentPcor .\n",
      "}\n",
      "\"\"\"\n",
      "\n",
      "height = g.query(query)\n",
      "for heightrow in height:\n",
      "    print([str(val.replace('http://iri.nidash.org/', '').replace('http://www.incf.org/ns/nidash/nidm#', '')) for val in heightrow])"
     ],
     "language": "python",
     "metadata": {},
     "outputs": [
      {
       "output_type": "stream",
       "stream": "stdout",
       "text": [
        "['Height Threshold: p<0.05 (FWE)', 'p-value FWE', '5.25376884125', 'TStatistic', '7.08827600948e-07', '0.0500000078501', 'Extent Threshold: k>=0', '0', '0.0', '1.0', '1.0']\n"
       ]
      }
     ],
     "prompt_number": 26
    },
    {
     "cell_type": "code",
     "collapsed": false,
     "input": [
      "################\n",
      "#metadata query\n",
      "################\n",
      "\n",
      "niiri:search_space_id\n",
      "    a prov:Entity, nidm:SearchSpaceMap ; \n",
      "    prov:atLocation \"http://www.fil.ion.ucl.ac.uk/spm/download/data/MoAEpilot/auditory.nidm/SearchSpace.nii.gz\"^^xsd:anyURI ;\n",
      "    nidm:filename \"SearchSpace.nii.gz\"^^xsd:string ;\n",
      "    dct:format \"image/nifti\"^^xsd:string ;\n",
      "    rdfs:label \"Search Space Map\" ;\n",
      "    nidm:inCoordinateSpace niiri:coordinate_space_id_1 ;\n",
      "    spm:searchVolumeInVoxels \"70539\"^^xsd:int ;\n",
      "    spm:searchVolumeInResels \"1998.47190959509\"^^xsd:float ;\n",
      "    spm:noiseFWHMInVoxels \"[3.31319686133323, 3.31415810309912, 2.87101739697535]\"^^xsd:string ;\n",
      "    spm:noiseFWHMInUnits \"[9.93959058399969, 9.94247430929737, 8.61305219092604]\"^^xsd:string ;\n",
      "\n",
      "               a prov:Entity, nidm:CoordinateSpace ; \n",
      "    rdfs:label \"Coordinate space 1\" ;\n",
      "    nidm:voxelToWorldMapping \"[[-3, 0, 0, 78],[0, 3, 0, -112],[0, 0, 3, -70],[0, 0, 0, 1]]\"^^xsd:string ;\n",
      "    nidm:voxelUnits \"['mm', 'mm', 'mm']\"^^xsd:string ;\n",
      "    nidm:voxelSize \"[3, 3, 3]\"^^xsd:string ;\n",
      "     nidm:dimensionsInVoxels \"[53,63,52]\"^^xsd:string .\n",
      "\n",
      "\n",
      "query=\"\"\"\n",
      "SELECT DISTINCT ?searchVolumeVox ?searchVolume\n",
      "{\n",
      "\n",
      "}\n",
      "\"\"\""
     ],
     "language": "python",
     "metadata": {},
     "outputs": [],
     "prompt_number": 19
    },
    {
     "cell_type": "code",
     "collapsed": false,
     "input": [],
     "language": "python",
     "metadata": {},
     "outputs": []
    }
   ],
   "metadata": {}
  }
 ]
}