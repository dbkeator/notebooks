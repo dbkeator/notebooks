{
 "metadata": {
  "name": "Object Models"
 },
 "nbformat": 3,
 "nbformat_minor": 0,
 "worksheets": [
  {
   "cells": [
    {
     "cell_type": "markdown",
     "metadata": {
      "slideshow": {
       "slide_type": "slide"
      }
     },
     "source": [
      "# NI-DM: A Summary in many parts\n",
      "\n",
      "## Part 1: Constructing and Querying Object Models\n",
      "\n",
      "satra@mit.edu, nolan.nichols@gmail.com\n",
      "\n",
      "[Latest version](https://github.com/INCF/ni-dm/tree/source/source/notebooks/Object models.ipynb)"
     ]
    },
    {
     "cell_type": "markdown",
     "metadata": {
      "slideshow": {
       "slide_type": "slide"
      }
     },
     "source": [
      "## Outline\n",
      "\n",
      "- What is a data model, provenance, [PROV-DM](http://www.w3.org/TR/prov-dm/) and [NI-DM](http://nidm.nidash.org)?\n",
      "- What is an object model?\n",
      "- Using the [PROV Python library](https://github.com/trungdong/prov) to construct object models\n",
      "- Querying object models with [SPARQL](http://www.w3.org/TR/rdf-sparql-query/) using a [triplestore](http://en.wikipedia.org/wiki/Triplestore) \n",
      "- Mapping [XCEDE](http://www.xcede.org/) \"experiment/research\" primitives to NI-DM"
     ]
    },
    {
     "cell_type": "markdown",
     "metadata": {
      "slideshow": {
       "slide_type": "slide"
      }
     },
     "source": [
      "## What is a data model?\n",
      "\n",
      "A data model is an abstract conceptual formulation of information that explictly determines the structure of data and allows software and people to communicate and interpret data precisely. [ source: http://en.wikipedia.org/wiki/Data_model ]\n",
      "\n",
      "## What is Provenance?\n",
      "\n",
      "Provenance is information about entities, activities, and people involved in producing a piece of data or thing, which can be used to form assessments about its quality, reliability or trustworthiness.\n",
      "\n",
      "## What is PROV-DM?\n",
      "\n",
      "[PROV-DM](http://www.w3.org/TR/prov-dm/) is the conceptual data model that forms a basis for the W3C provenance (PROV) [family of specifications](http://www.w3.org/2011/prov/wiki/WorkingDrafts).\n",
      "\n",
      "PROV-DM is organized in six components, respectively dealing with: (1) [entities and activities](http://www.w3.org/TR/prov-dm/#section-entity-activity), and the time at which they were created, used, or ended; (2) [derivations](http://www.w3.org/TR/prov-dm/#section-derivation) of entities from entities; (3) [agents](http://www.w3.org/TR/prov-dm/#section-agents-attribution-association-delegation) bearing responsibility for entities that were generated and activities that happened; (4) a notion of [bundle](http://www.w3.org/TR/prov-dm/#section-provenance-of-provnance), a mechanism to support provenance of provenance; (5) [properties to link entities](http://www.w3.org/TR/prov-dm/#section-prov-extended-mechanisms) that refer to the same thing; and, (6) [collections](http://www.w3.org/TR/prov-dm/#section-collections) forming a logical structure for its members.\n",
      "\n",
      "## What is NI-DM?\n",
      "\n",
      "NI-DM is formulated as a domain specific extension of PROV-DM, but at this point maps identically to PROV-DM and domain extensions are captured as object models on top of PROV-DM.\n"
     ]
    },
    {
     "cell_type": "markdown",
     "metadata": {
      "slideshow": {
       "slide_type": "subslide"
      }
     },
     "source": [
      "### Basic Provenance data model\n",
      "\n",
      "<img src=\"http://www.w3.org/TR/prov-o/diagrams/starting-points.svg\" />"
     ]
    },
    {
     "cell_type": "markdown",
     "metadata": {
      "slideshow": {
       "slide_type": "slide"
      }
     },
     "source": [
      "## What is an object model?\n",
      "\n",
      "An object model represents a collection \"through which a program can examine and manipulate some specific parts of its world.\"\n",
      "\n",
      "## What are object models in NI-DM?\n",
      "\n",
      "In the context of NI-DM, object models capture specific relationships between [entities][entity] via [collections][collection] that reflect organization information derived from imaging files (e.g., DICOM, Nifti, MINC), directory structures (e.g., Freesurfer, OpenFMRI), phenotypic data (e.g., neuropsych assessments, csv files) and binary or text files (e.g., SPM.mat, Feat.fsf, aseg.stats).\n",
      "\n",
      "[entity]: http://www.w3.org/TR/prov-o/#Entity\n",
      "[collection]: http://www.w3.org/TR/prov-o/#Collections\n"
     ]
    },
    {
     "cell_type": "markdown",
     "metadata": {
      "slideshow": {
       "slide_type": "slide"
      }
     },
     "source": [
      "## Using the PROV API to construct object models\n",
      "\n",
      "We will demonstrate how to encapsulate FreeSurfer directory structures and statistic files, and CSV files using the PROV API."
     ]
    },
    {
     "cell_type": "markdown",
     "metadata": {
      "slideshow": {
       "slide_type": "subslide"
      }
     },
     "source": [
      "### Model 1: FreeSurfer Directory structure\n",
      "\n",
      "The FreeSurfer output results from a recon-all process that involves several steps. The goal here is to take the directory structure and represent it as a collection of entities, where each entity is a file produced by the recon-all process. In the ideal mode, the recon-all process itself would generate the provenance and the collection of entities. But here we generate the NI-DM encoding of FreeSurfer directories by walking FreeSurfer directories and applying heuristic properties.\n",
      "\n",
      "For demonstration purposes, we automatically generated terms based on file/directory naming conventions, and assossate these terms with an example FreeSurfer namespace [http://surfer.nmr.mgh.harvard.edu/fswiki/terms/0.1/]. This namespace is only a placeholder; however, the developers of a given neuroimaging software package (e.g., FreeSurfer) are responsible for managing a namespace that resolves to a vocabulary that describes their NI-DM object model. The best practice is to provide a URL accessible [RDF](http://www.w3.org/RDF/) representation of the terms in this namespace along with definitions for each term.\n",
      "\n",
      "Some example terms are:\n",
      "    \n",
      "    - fs:subject_id : a participant identifier\n",
      "    - fs:relative_path : location of file from the root of the subject directory structure\n",
      "\n",
      "note: 'fs' is a namespace prefix that allows for a shorthand notation of the full URI (e.g., 'http://surfer.nmr.mgh.harvard.edu/fswiki/terms/0.1/subject_id)' "
     ]
    },
    {
     "cell_type": "markdown",
     "metadata": {
      "slideshow": {
       "slide_type": "subslide"
      }
     },
     "source": [
      "#### Import necessary tools and create namespaces\n",
      "\n",
      "This example uses two Python libraries that you will need to install\n",
      "\n",
      "    - Nipype: http://nipy.sourceforge.net/nipype/\n",
      "    - PROV: https://github.com/trungdong/prov"
     ]
    },
    {
     "cell_type": "code",
     "collapsed": false,
     "input": [
      "# standard library\n",
      "import os\n",
      "import md5\n",
      "from socket import getfqdn\n",
      "\n",
      "# PROV API library\n",
      "import prov.model as prov\n",
      "from nipype.utils.filemanip import hash_infile\n",
      "\n",
      "# create namespace references to terms used\n",
      "foaf = prov.Namespace(\"foaf\", \"http://xmlns.com/foaf/0.1/\")\n",
      "dcterms = prov.Namespace(\"dcterms\", \"http://purl.org/dc/terms/\")\n",
      "fs = prov.Namespace(\"fs\", \"http://surfer.nmr.mgh.harvard.edu/fswiki/terms/0.1/\")\n",
      "nidm = prov.Namespace(\"nidm\", \"http://nidm.nidash.org/terms/0.1/\")"
     ],
     "language": "python",
     "metadata": {
      "slideshow": {
       "slide_type": "subslide"
      }
     },
     "outputs": [],
     "prompt_number": 1
    },
    {
     "cell_type": "markdown",
     "metadata": {
      "slideshow": {
       "slide_type": "subslide"
      }
     },
     "source": [
      "### Define a function that creates a NI-DM Entity"
     ]
    },
    {
     "cell_type": "code",
     "collapsed": false,
     "input": [
      "def create_entity(graph, fullpath, root, subject_id, basedir):\n",
      "    \"\"\" Create a PROV entity for a file in a FreeSurfer directory\n",
      "    \"\"\"\n",
      "    # identify FreeSurfer terms based on directory and file names\n",
      "    relpath = fullpath.replace(basedir, '').replace(root, '').lstrip('/')\n",
      "    fstypes = relpath.split('/')[:-1]\n",
      "    additional_types = relpath.split('/')[-1].split('.')\n",
      "    \n",
      "    file_hash = hash_infile(fullpath)\n",
      "    if file_hash is None:\n",
      "        print fullpath\n",
      "\n",
      "    # build a NI-DM object \n",
      "    obj_attr = [(prov.PROV[\"type\"], fs[fstype]) for fstype in fstypes] + \\\n",
      "               [(prov.PROV[\"label\"], \"%s:%s\" % ('.'.join(fstypes), '.'.join(additional_types))),\n",
      "                (fs[\"relative_path\"], \"%s\" % relpath),\n",
      "                (nidm[\"file\"], \"file://%s%s\" % (getfqdn(), fullpath)),\n",
      "                (nidm[\"md5sum\"], \"%s\" % file_hash),\n",
      "               ]\n",
      "    # append approprate FreeSurfer terms\n",
      "    if 'lh' in additional_types:\n",
      "        obj_attr.append((fs[\"hemisphere\"], \"left\"))\n",
      "    if 'rh' in additional_types:\n",
      "        obj_attr.append((fs[\"hemisphere\"], \"right\"))\n",
      "    if 'aparc' in additional_types:\n",
      "        obj_attr.append((prov.PROV[\"type\"], fs[\"aparc\"]))\n",
      "    if 'a2005s' in additional_types:\n",
      "        obj_attr.append((prov.PROV[\"type\"], fs[\"a2005s\"]))                \n",
      "    if 'a2009s' in additional_types:\n",
      "        obj_attr.append((prov.PROV[\"type\"], fs[\"a2009s\"]))                \n",
      "    if 'exvivo' in relpath:\n",
      "        obj_attr.append((prov.PROV[\"type\"], fs[\"exvivo\"]))                \n",
      "    if 'aseg' in additional_types:\n",
      "        obj_attr.append((prov.PROV[\"type\"], fs[\"aseg\"]))                \n",
      "    if 'aparc.stats' in relpath:\n",
      "        obj_attr.append((prov.PROV[\"type\"], fs[\"desikan_killiany\"]))                \n",
      "    if 'stats' in fstypes and 'stats' in additional_types:\n",
      "        obj_attr.append((prov.PROV[\"type\"], fs[\"statistics\"]))\n",
      "    id = fs[md5.new(subject_id + relpath).hexdigest()]\n",
      "    graph.entity(id, obj_attr)\n",
      "    return id\n"
     ],
     "language": "python",
     "metadata": {
      "slideshow": {
       "slide_type": "subslide"
      }
     },
     "outputs": []
    },
    {
     "cell_type": "markdown",
     "metadata": {
      "slideshow": {
       "slide_type": "subslide"
      }
     },
     "source": [
      "### Define a function that manages creating a NI-DM FreeSurfer object"
     ]
    },
    {
     "cell_type": "code",
     "collapsed": false,
     "input": [
      "def freesurfer2provgraph(g, dirname, basedir, n_items=100000):\n",
      "    \"\"\" Convert a FreeSurfer directory to a PROV graph\n",
      "    \"\"\"\n",
      "    subject_id = dirname.rstrip('/').split('/')[-1]\n",
      "    project_string = '-'.join(dirname.replace(basedir, '').rstrip('/').split('/')[1:-1])\n",
      "    # directory collection/catalog\n",
      "    collection_hash = md5.new(project_string + ':' + subject_id).hexdigest()\n",
      "    fsdir_collection = g.collection(fs[collection_hash])\n",
      "    fsdir_collection.add_extra_attributes({prov.PROV['type']: fs['directory'],\n",
      "                                           fs['subject_id']: subject_id,\n",
      "                                           nidm['annotation']: project_string})\n",
      "    i = 0;\n",
      "    for dirpath, dirnames, filenames in os.walk(os.path.realpath(os.path.join(basedir, dirname))):\n",
      "        for filename in sorted(filenames):\n",
      "            if filename.startswith('.'):\n",
      "                continue\n",
      "            i +=1 \n",
      "            if i > n_items:\n",
      "                break\n",
      "            file2encode = os.path.realpath(os.path.join(dirpath, filename))\n",
      "            if not os.path.isfile(file2encode):\n",
      "                print \"%s not a file\" % file2encode\n",
      "                continue\n",
      "            try:\n",
      "                id = create_entity(g, file2encode, dirname[2:], subject_id, basedir)\n",
      "                g.hadMember(fsdir_collection, id)\n",
      "            except IOError, e:\n",
      "                print e\n",
      "    return g"
     ],
     "language": "python",
     "metadata": {
      "slideshow": {
       "slide_type": "subslide"
      }
     },
     "outputs": []
    },
    {
     "cell_type": "markdown",
     "metadata": {
      "slideshow": {
       "slide_type": "subslide"
      }
     },
     "source": [
      "### Example of generating a NI-DM FreeSurfer Object\n",
      "\n",
      "This example demonstrates the conversion from [PROV Notation](http://www.w3.org/TR/prov-n/) to RDF using the [ProvToolBox](https://github.com/lucmoreau/ProvToolbox), which provides a command line utility for serializing PROV to different syntaxes."
     ]
    },
    {
     "cell_type": "code",
     "collapsed": false,
     "input": [
      "# location of FreeSurfer $SUBJECTS_DIR\n",
      "basedir = '/mindhive/xnat/surfaces/'\n",
      "\n",
      "from subprocess import Popen, PIPE\n",
      "\n",
      "# location of the ProvToolBox commandline conversion utility\n",
      "pc = '/mindhive/gablab/satra/ProvToolbox/toolbox/target/appassembler/bin/provconvert'\n",
      "for dirname in dirnames:\n",
      "    name = '-'.join(dirname.rstrip('/').split('/')[1:])\n",
      "    filename = '../store/%s.provn' % name\n",
      "    if not os.path.exists('%s.ttl' % filename):\n",
      "        graph = prov.ProvBundle()\n",
      "        graph.add_namespace(foaf)\n",
      "        graph.add_namespace(dcterms)\n",
      "        graph.add_namespace(fs)\n",
      "        graph.add_namespace(nidm)\n",
      "        freesurfer2provgraph(graph, dirname)\n",
      "        print dirname\n",
      "        with open(filename, 'wt') as fp:\n",
      "            fp.writelines(graph.get_provn())\n",
      "        o, e = Popen('%s -infile %s -outfile %s.ttl' % (pc, filename, filename), stdout=PIPE, \n",
      "                     stderr=PIPE, shell=True).communicate()\n",
      "        print('converted %s' % filename)\n",
      "    else:\n",
      "        print \"%s exists\" % filename"
     ],
     "language": "python",
     "metadata": {
      "slideshow": {
       "slide_type": "subslide"
      }
     },
     "outputs": []
    },
    {
     "cell_type": "markdown",
     "metadata": {
      "slideshow": {
       "slide_type": "slide"
      }
     },
     "source": [
      "### Querying object models with SPARQL using a triplestore\n",
      "\n",
      "In this section we will show example SPARQL queries that access a triplestore.\n",
      "\n",
      "    - What is a triplestore?\n",
      "    - How are NI-DM objects uploaded to a triplestore?\n",
      "    - How do we query a triplestore for data stored using NI-DM?"
     ]
    },
    {
     "cell_type": "markdown",
     "metadata": {
      "slideshow": {
       "slide_type": "subslide"
      }
     },
     "source": [
      "### What is a triplestore?\n",
      "\n",
      "    - A triplestore is a database for storing RDF triples (i.e., subject, predicate, object statements). \n",
      "    - The triplestore provides a way to create, read, update, and delete persisted RDF statements using the SPARQL 1.1 protocol. \n",
      "    - Here we are using the triplestore functionality of the Virtuoso database (http://virtuoso.openlinksw.com/) \n",
      "    - The specific triplestore can easily be swapped for another system such as Jena or Seseme."
     ]
    },
    {
     "cell_type": "markdown",
     "metadata": {
      "slideshow": {
       "slide_type": "subslide"
      }
     },
     "source": [
      "### How are NIDM objects uploaded to a triplestore?\n",
      "\n",
      "    - The examples above demonstrates how to create a collection of NI-DM FreeSurfer objects in RDF.\n",
      "    - RDF files can be bulk uploaded through the Virtuoso web interface or using a SPARQL Insert Statement\n",
      "    - This is an example of adding a single RDF triple"
     ]
    },
    {
     "cell_type": "code",
     "collapsed": false,
     "input": [
      "import requests\n",
      "from requests.auth import HTTPDigestAuth\n",
      "\n",
      "from IPython.core.display import HTML\n",
      "\n",
      "\n",
      "# connection params for secure endpoint\n",
      "endpoint = 'http://computor.mit.edu:8890/sparql'\n",
      "username = 'username'\n",
      "password = 'password'\n",
      "\n",
      "# session defaults\n",
      "session = requests.Session()\n",
      "session.auth = HTTPDigestAuth(username, password)\n",
      "\n",
      "session.headers = {'Accept':'text/html'} # HTML from SELECT queries\n",
      "\n",
      "# INSERT - CREATE new triples\n",
      "query =  \"\"\"PREFIX nidm: <http://nidm.nidash.org#>\n",
      "            PREFIX prov: <http://www.w3.org/ns/prov#>\n",
      "            PREFIX nlx: <http://uri.neuinfo.org/nif/nifstd/>\n",
      "            \n",
      "            INSERT DATA\n",
      "            INTO GRAPH <http://nidm.nidash.org>\n",
      "                {nidm:UUID12345 a prov:Entity;\n",
      "                    nlx:nlx_150774 \"2.0\"}\"\"\"\n",
      "\n",
      "data = {'query': query}\n",
      "result = session.post(endpoint, data=data)\n",
      "HTML(result.content)"
     ],
     "language": "python",
     "metadata": {
      "slideshow": {
       "slide_type": "subslide"
      }
     },
     "outputs": []
    },
    {
     "cell_type": "markdown",
     "metadata": {
      "slideshow": {
       "slide_type": "subslide"
      }
     },
     "source": [
      "### How do we query a triplestore for data stored using NI-DM?\n",
      "\n",
      "    - this example shows how to query for FreeSurfer details given a subject id"
     ]
    },
    {
     "cell_type": "code",
     "collapsed": false,
     "input": [
      "    def getSubjectDetails(self, subject_id):\n",
      "        session = requests.Session()\n",
      "\n",
      "        qstring = '''\n",
      "        PREFIX fs: <http://surfer.nmr.mgh.harvard.edu/fswiki/#>\n",
      "        PREFIX xsd: <http://www.w3.org/2001/XMLSchema#>\n",
      "        PREFIX nidm: <http://nidm.nidash.org/#>\n",
      "        PREFIX prov: <http://www.w3.org/ns/prov#>\n",
      "\n",
      "        select distinct ?structureName ?structureGV where {\n",
      "             ?subjectCollection fs:subject_id \"%s\"^^<http://www.w3.org/2001/XMLSchema#string> .\n",
      "             ?subjectCollection prov:hadMember ?otherMembers .\n",
      "             ?collectionFromProv prov:wasDerivedFrom ?otherMembers .\n",
      "             ?collectionFromProv prov:hadMember ?membersOfProvCollection .\n",
      "             ?membersOfProvCollection a fs:GrayVol . # filter by those that have a type of fs:GrayVol(ume)\n",
      "             ?membersOfProvCollection fs:structure ?structureName . \n",
      "             ?membersOfProvCollection fs:value ?structureGV .\n",
      "        } ''' % (subject_id)"
     ],
     "language": "python",
     "metadata": {
      "slideshow": {
       "slide_type": "subslide"
      }
     },
     "outputs": []
    }
   ],
   "metadata": {}
  }
 ]
}