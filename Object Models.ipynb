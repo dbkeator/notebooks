{
 "metadata": {
  "name": "Object Models"
 },
 "nbformat": 3,
 "nbformat_minor": 0,
 "worksheets": [
  {
   "cells": [
    {
     "cell_type": "markdown",
     "metadata": {
      "slideshow": {
       "slide_type": "slide"
      }
     },
     "source": [
      "# Constructing and Querying Object Models\n",
      "\n",
      "satra@mit.edu"
     ]
    },
    {
     "cell_type": "markdown",
     "metadata": {
      "slideshow": {
       "slide_type": "slide"
      }
     },
     "source": [
      "## Outline\n",
      "\n",
      "- What is a data model?\n",
      "- What is an object model?\n",
      "- Using the PROV API to construct object models\n",
      "- Querying object models from triple stores with SPARQL"
     ]
    },
    {
     "cell_type": "markdown",
     "metadata": {
      "slideshow": {
       "slide_type": "slide"
      }
     },
     "source": [
      "## What is a data model?\n",
      "\n",
      "A data model is a conceptual formulation of information that allows "
     ]
    }
   ],
   "metadata": {}
  }
 ]
}