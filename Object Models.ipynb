{
 "metadata": {
  "name": "Object Models"
 },
 "nbformat": 3,
 "nbformat_minor": 0,
 "worksheets": [
  {
   "cells": [
    {
     "cell_type": "markdown",
     "metadata": {
      "slideshow": {
       "slide_type": "slide"
      }
     },
     "source": [
      "# NI-DM: A Summary in many parts\n",
      "\n",
      "## Part 1: Constructing and Querying Object Models\n",
      "\n",
      "satra@mit.edu, nolan.nichols@gmail.com\n",
      "\n",
      "[Latest version](https://github.com/INCF/ni-dm/tree/source/source/notebooks/Object models.ipynb)"
     ]
    },
    {
     "cell_type": "markdown",
     "metadata": {
      "slideshow": {
       "slide_type": "slide"
      }
     },
     "source": [
      "## Outline\n",
      "\n",
      "- What is a data model, provenance, [PROV-DM](http://www.w3.org/TR/prov-dm/) and [NI-DM](http://nidm.nidash.org)?\n",
      "- What is an object model?\n",
      "- Using the [PROV Python library](https://github.com/trungdong/prov) to construct object models\n",
      "- Querying object models with [SPARQL](http://www.w3.org/TR/rdf-sparql-query/) using a [triplestore](http://en.wikipedia.org/wiki/Triplestore) \n",
      "- Mapping [XCEDE](http://www.xcede.org/) \"experiment/research\" primitives to NI-DM"
     ]
    },
    {
     "cell_type": "markdown",
     "metadata": {
      "slideshow": {
       "slide_type": "slide"
      }
     },
     "source": [
      "## What is a data model?\n",
      "\n",
      "A data model is an abstract conceptual formulation of information that explictly determines the structure of data and allows software and people to communicate and interpret data precisely. [ source: http://en.wikipedia.org/wiki/Data_model ]\n",
      "\n",
      "## What is Provenance?\n",
      "\n",
      "Provenance is information about entities, activities, and people involved in producing a piece of data or thing, which can be used to form assessments about its quality, reliability or trustworthiness.\n",
      "\n",
      "## What is PROV-DM?\n",
      "\n",
      "[PROV-DM](http://www.w3.org/TR/prov-dm/) is the conceptual data model that forms a basis for the W3C provenance (PROV) [family of specifications](http://www.w3.org/2011/prov/wiki/WorkingDrafts).\n",
      "\n",
      "PROV-DM is organized in six components, respectively dealing with: (1) [entities and activities](http://www.w3.org/TR/prov-dm/#section-entity-activity), and the time at which they were created, used, or ended; (2) [derivations](http://www.w3.org/TR/prov-dm/#section-derivation) of entities from entities; (3) [agents](http://www.w3.org/TR/prov-dm/#section-agents-attribution-association-delegation) bearing responsibility for entities that were generated and activities that happened; (4) a notion of [bundle](http://www.w3.org/TR/prov-dm/#section-provenance-of-provnance), a mechanism to support provenance of provenance; (5) [properties to link entities](http://www.w3.org/TR/prov-dm/#section-prov-extended-mechanisms) that refer to the same thing; and, (6) [collections](http://www.w3.org/TR/prov-dm/#section-collections) forming a logical structure for its members.\n",
      "\n",
      "## What is NI-DM?\n",
      "\n",
      "NI-DM is formulated as a domain specific extension of PROV-DM. Currently, NI-DM maps identically to PROV-DM and domain extensions are captured as object models on top of PROV-DM.\n"
     ]
    },
    {
     "cell_type": "markdown",
     "metadata": {
      "slideshow": {
       "slide_type": "subslide"
      }
     },
     "source": [
      "### Basic Provenance data model\n",
      "\n",
      "<img src=\"http://www.w3.org/TR/prov-o/diagrams/starting-points.svg\" />"
     ]
    },
    {
     "cell_type": "markdown",
     "metadata": {
      "slideshow": {
       "slide_type": "subslide"
      }
     },
     "source": [
      "### Extended provenance model\n",
      "\n",
      "<img src=\"http://www.w3.org/TR/2013/PR-prov-o-20130312/diagrams/expanded.svg\" />\n"
     ]
    },
    {
     "cell_type": "markdown",
     "metadata": {
      "slideshow": {
       "slide_type": "subslide"
      }
     },
     "source": [
      "### What are the advantages of using NI-DM\n",
      "\n",
      "- Provenance is not an afterthought\n",
      "- Terminology is important\n",
      "- W3C recommendation at this point\n",
      "- Many tools are starting to support the model\n",
      "- Captures data and metadata (about entities, **activities** and agents) within the same context\n",
      "- Simplifies app development\n",
      "- Maps to Semantic Web tools allowing query federation\n",
      "\n",
      "### What are the disadvantages of using NI-DM\n",
      "\n",
      "- A new way of thinking about queries and computation\n",
      "- Requires extensive terminology\n",
      "- Current databases are not built for provenance\n",
      "- Current databases are very specifically structured\n",
      "- The transition will require resources, commitment and time"
     ]
    },
    {
     "cell_type": "markdown",
     "metadata": {
      "slideshow": {
       "slide_type": "slide"
      }
     },
     "source": [
      "## What is an object model?\n",
      "\n",
      "An object model represents a collection \"through which a program can examine and manipulate some specific parts of its world.\"\n",
      "\n",
      "## What are object models in NI-DM?\n",
      "\n",
      "In the context of NI-DM, object models capture specific relationships between [entities][entity] via [collections][collection] that reflect organization information derived from imaging files (e.g., DICOM, Nifti, MINC), directory structures (e.g., Freesurfer, OpenFMRI), phenotypic data (e.g., neuropsych assessments, csv files) and binary or text files (e.g., SPM.mat, Feat.fsf, aseg.stats). The models are associated with appropriate provenance.\n",
      "\n",
      "[entity]: http://www.w3.org/TR/prov-o/#Entity\n",
      "[collection]: http://www.w3.org/TR/prov-o/#Collections\n"
     ]
    },
    {
     "cell_type": "markdown",
     "metadata": {
      "slideshow": {
       "slide_type": "slide"
      }
     },
     "source": [
      "## Using the PROV API to construct object models\n",
      "\n",
      "We will demonstrate how to encapsulate FreeSurfer directory structures and statistic files, and CSV files using the PROV API."
     ]
    },
    {
     "cell_type": "markdown",
     "metadata": {
      "slideshow": {
       "slide_type": "subslide"
      }
     },
     "source": [
      "### Model 1: FreeSurfer Directory structure\n",
      "\n",
      "The FreeSurfer output results from a recon-all process that involves several steps. The goal here is to take the directory structure and represent it as a collection of entities, where each entity is a file produced by the recon-all process. In the ideal mode, the recon-all process itself would generate the provenance and the collection of entities. But here we generate the NI-DM encoding of FreeSurfer directories by walking FreeSurfer directories and applying heuristic properties.\n",
      "\n",
      "For demonstration purposes, we automatically generated terms based on file/directory naming conventions, and assossate these terms with an example FreeSurfer namespace [http://surfer.nmr.mgh.harvard.edu/fswiki/terms/0.1/]. This namespace is only a placeholder; however, the developers of a given neuroimaging software package (e.g., FreeSurfer) are responsible for managing a namespace that resolves to a vocabulary that describes their NI-DM object model. The best practice is to provide a URL accessible [RDF](http://www.w3.org/RDF/) representation of the terms in this namespace along with definitions for each term.\n",
      "\n",
      "Some example terms are:\n",
      "    \n",
      "    - fs:subject_id : a participant identifier\n",
      "    - fs:relative_path : location of file from the root of the subject directory structure\n",
      "\n",
      "note: `fs:` is a namespace prefix that allows for a shorthand notation of the full URI (e.g., `http://surfer.nmr.mgh.harvard.edu/fswiki/terms/0.1/subject_id`) "
     ]
    },
    {
     "cell_type": "markdown",
     "metadata": {
      "slideshow": {
       "slide_type": "subslide"
      }
     },
     "source": [
      "#### Import necessary tools and create namespaces\n",
      "\n",
      "This example uses two Python libraries that you will need to install\n",
      "\n",
      "    - Nipype: http://nipy.org/nipype/\n",
      "    - PROV: https://github.com/trungdong/prov"
     ]
    },
    {
     "cell_type": "code",
     "collapsed": false,
     "input": [
      "# standard library\n",
      "import os\n",
      "import md5\n",
      "from socket import getfqdn\n",
      "\n",
      "# PROV API library\n",
      "import prov.model as prov\n",
      "\n",
      "def hash_infile(afile, chunk_len=8192):\n",
      "    \"\"\" Computes md5 hash of a file\"\"\"\n",
      "    md5hex = None\n",
      "    if os.path.isfile(afile):\n",
      "        md5obj = md5.md5()\n",
      "        fp = file(afile, 'rb')\n",
      "        while True:\n",
      "            data = fp.read(chunk_len)\n",
      "            if not data:\n",
      "                break\n",
      "            md5obj.update(data)\n",
      "        fp.close()\n",
      "        md5hex = md5obj.hexdigest()\n",
      "    return md5hex\n",
      "\n",
      "# create namespace references to terms used\n",
      "foaf = prov.Namespace(\"foaf\", \"http://xmlns.com/foaf/0.1/\")\n",
      "dcterms = prov.Namespace(\"dcterms\", \"http://purl.org/dc/terms/\")\n",
      "fs = prov.Namespace(\"fs\", \"http://surfer.nmr.mgh.harvard.edu/fswiki/terms/0.1/\")\n",
      "nidm = prov.Namespace(\"nidm\", \"http://nidm.nidash.org/terms/0.1/\")\n",
      "obo = prov.Namespace(\"obo\", \"http://purl.obolibrary.org/obo/\")\n",
      "nif = prov.Namespace(\"nif\", \"http://neurolex.org/wiki/\")"
     ],
     "language": "python",
     "metadata": {
      "slideshow": {
       "slide_type": "subslide"
      }
     },
     "outputs": [],
     "prompt_number": 18
    },
    {
     "cell_type": "markdown",
     "metadata": {
      "slideshow": {
       "slide_type": "subslide"
      }
     },
     "source": [
      "### Define a function that creates a NI-DM Entity for a freesurfer file"
     ]
    },
    {
     "cell_type": "code",
     "collapsed": false,
     "input": [
      "ls -lR /Applications/freesurfer/subjects/bert"
     ],
     "language": "python",
     "metadata": {},
     "outputs": [
      {
       "output_type": "stream",
       "stream": "stdout",
       "text": [
        "total 0\r\n",
        "dr-xr-xr-x@  2 satra  staff    68 Jun  2  2011 \u001b[34mbem\u001b[m\u001b[m/\r\n",
        "dr-xr-xr-x@ 39 satra  staff  1326 Jun  2  2011 \u001b[34mlabel\u001b[m\u001b[m/\r\n",
        "dr-xr-xr-x@ 38 satra  staff  1292 Jun  2  2011 \u001b[34mmri\u001b[m\u001b[m/\r\n",
        "dr-xr-xr-x@ 12 satra  staff   408 Jun  2  2011 \u001b[34mscripts\u001b[m\u001b[m/\r\n",
        "dr-xr-xr-x@  2 satra  staff    68 Jun  2  2011 \u001b[34msrc\u001b[m\u001b[m/\r\n",
        "dr-xr-xr-x@ 14 satra  staff   476 Jun  2  2011 \u001b[34mstats\u001b[m\u001b[m/\r\n",
        "dr-xr-xr-x@ 70 satra  staff  2380 Jun  2  2011 \u001b[34msurf\u001b[m\u001b[m/\r\n",
        "dr-xr-xr-x@  2 satra  staff    68 Jun  2  2011 \u001b[34mtmp\u001b[m\u001b[m/\r\n",
        "dr-xr-xr-x@ 67 satra  staff  2278 Jun  2  2011 \u001b[34mtouch\u001b[m\u001b[m/\r\n",
        "dr-xr-xr-x@ 10 satra  staff   340 Jun  2  2011 \u001b[34mtrash\u001b[m\u001b[m/\r\n",
        "\r\n",
        "/Applications/freesurfer/subjects/bert/bem:\r\n",
        "\r\n",
        "/Applications/freesurfer/subjects/bert/label:\r\n",
        "total 43936\r\n",
        "-r--r--r--@ 1 satra  staff      702 Jun  2  2011 BA.ctab\r\n",
        "-r--r--r--@ 1 satra  staff     4104 Jun  2  2011 aparc.annot.a2009s.ctab\r\n",
        "-r--r--r--@ 1 satra  staff     1944 Jun  2  2011 aparc.annot.ctab\r\n",
        "-r--r--r--@ 1 satra  staff  1066072 Jun  2  2011 lh.BA.annot\r\n",
        "-r--r--r--@ 1 satra  staff   126374 Jun  2  2011 lh.BA1.label\r\n",
        "-r--r--r--@ 1 satra  staff   230450 Jun  2  2011 lh.BA2.label\r\n",
        "-r--r--r--@ 1 satra  staff   110281 Jun  2  2011 lh.BA3a.label\r\n",
        "-r--r--r--@ 1 satra  staff   179949 Jun  2  2011 lh.BA3b.label\r\n",
        "-r--r--r--@ 1 satra  staff   134925 Jun  2  2011 lh.BA44.label\r\n",
        "-r--r--r--@ 1 satra  staff   180908 Jun  2  2011 lh.BA45.label\r\n",
        "-r--r--r--@ 1 satra  staff   196848 Jun  2  2011 lh.BA4a.label\r\n",
        "-r--r--r--@ 1 satra  staff   131668 Jun  2  2011 lh.BA4p.label\r\n",
        "-r--r--r--@ 1 satra  staff   426464 Jun  2  2011 lh.BA6.label\r\n",
        "-r--r--r--@ 1 satra  staff    86830 Jun  2  2011 lh.MT.label\r\n",
        "-r--r--r--@ 1 satra  staff   231440 Jun  2  2011 lh.V1.label\r\n",
        "-r--r--r--@ 1 satra  staff   456174 Jun  2  2011 lh.V2.label\r\n",
        "-r--r--r--@ 1 satra  staff  1068932 Jun  2  2011 lh.aparc.a2009s.annot\r\n",
        "-r--r--r--@ 1 satra  staff  1067122 Jun  2  2011 lh.aparc.annot\r\n",
        "-r--r--r--@ 1 satra  staff  5546229 Jun  2  2011 lh.cortex.label\r\n",
        "-r--r--r--@ 1 satra  staff    14788 Jun  2  2011 lh.entorhinal_exvivo.label\r\n",
        "-r--r--r--@ 1 satra  staff  1061016 Jun  2  2011 rh.BA.annot\r\n",
        "-r--r--r--@ 1 satra  staff   130155 Jun  2  2011 rh.BA1.label\r\n",
        "-r--r--r--@ 1 satra  staff   210484 Jun  2  2011 rh.BA2.label\r\n",
        "-r--r--r--@ 1 satra  staff   114241 Jun  2  2011 rh.BA3a.label\r\n",
        "-r--r--r--@ 1 satra  staff   150660 Jun  2  2011 rh.BA3b.label\r\n",
        "-r--r--r--@ 1 satra  staff   255122 Jun  2  2011 rh.BA44.label\r\n",
        "-r--r--r--@ 1 satra  staff   254600 Jun  2  2011 rh.BA45.label\r\n",
        "-r--r--r--@ 1 satra  staff   184190 Jun  2  2011 rh.BA4a.label\r\n",
        "-r--r--r--@ 1 satra  staff   131918 Jun  2  2011 rh.BA4p.label\r\n",
        "-r--r--r--@ 1 satra  staff   360691 Jun  2  2011 rh.BA6.label\r\n",
        "-r--r--r--@ 1 satra  staff    82308 Jun  2  2011 rh.MT.label\r\n",
        "-r--r--r--@ 1 satra  staff   231337 Jun  2  2011 rh.V1.label\r\n",
        "-r--r--r--@ 1 satra  staff   432230 Jun  2  2011 rh.V2.label\r\n",
        "-r--r--r--@ 1 satra  staff  1063876 Jun  2  2011 rh.aparc.a2009s.annot\r\n",
        "-r--r--r--@ 1 satra  staff  1062066 Jun  2  2011 rh.aparc.annot\r\n",
        "-r--r--r--@ 1 satra  staff  5413404 Jun  2  2011 rh.cortex.label\r\n",
        "-r--r--r--@ 1 satra  staff     9894 Jun  2  2011 rh.entorhinal_exvivo.label\r\n",
        "\r\n",
        "/Applications/freesurfer/subjects/bert/mri:\r\n",
        "total 72728\r\n",
        "-r--r--r--@  1 satra  staff  5231304 Jun  2  2011 T1.mgz\r\n",
        "-r--r--r--@  1 satra  staff   407610 Jun  2  2011 aparc+aseg.mgz\r\n",
        "-r--r--r--@  1 satra  staff   441207 Jun  2  2011 aparc.a2009s+aseg.mgz\r\n",
        "-r--r--r--@  1 satra  staff   237646 Jun  2  2011 aseg.auto.mgz\r\n",
        "-r--r--r--@  1 satra  staff     1591 Jun  2  2011 aseg.auto_noCCseg.label_intensities.txt\r\n",
        "-r--r--r--@  1 satra  staff   237194 Jun  2  2011 aseg.auto_noCCseg.mgz\r\n",
        "-r--r--r--@  1 satra  staff   237646 Jun  2  2011 aseg.mgz\r\n",
        "-r--r--r--@  1 satra  staff  1388385 Jun  2  2011 brain.finalsurfs.mgz\r\n",
        "-r--r--r--@  1 satra  staff  1402746 Jun  2  2011 brain.mgz\r\n",
        "-r--r--r--@  1 satra  staff  1264655 Jun  2  2011 brainmask.auto.mgz\r\n",
        "-r--r--r--@  1 satra  staff   170600 Jun  2  2011 brainmask.gcuts.mgz\r\n",
        "-r--r--r--@  1 satra  staff  1431095 Jun  2  2011 brainmask.mgz\r\n",
        "-r--r--r--@  1 satra  staff   580634 Jun  2  2011 ctrl_pts.mgz\r\n",
        "-r--r--r--@  1 satra  staff   134979 Jun  2  2011 filled.mgz\r\n",
        "-r--r--r--@  1 satra  staff   113982 Jun  2  2011 lh.ribbon.mgz\r\n",
        "-r--r--r--@  1 satra  staff     9986 Jun  2  2011 mri_nu_correct.mni.log\r\n",
        "-r--r--r--@  1 satra  staff    10389 Jun  2  2011 mri_nu_correct.mni.log.bak\r\n",
        "-r--r--r--@  1 satra  staff  1510476 Jun  2  2011 norm.mgz\r\n",
        "-r--r--r--@  1 satra  staff  5386873 Jun  2  2011 nu.mgz\r\n",
        "-r--r--r--@  1 satra  staff  3685004 Jun  2  2011 nu_noneck.mgz\r\n",
        "dr-xr-xr-x@ 11 satra  staff      374 Jun  2  2011 \u001b[34morig\u001b[m\u001b[m/\r\n",
        "-r--r--r--@  1 satra  staff  5669237 Jun  2  2011 orig.mgz\r\n",
        "-r--r--r--@  1 satra  staff  5669066 Jun  2  2011 rawavg.mgz\r\n",
        "-r--r--r--@  1 satra  staff   115467 Jun  2  2011 rh.ribbon.mgz\r\n",
        "-r--r--r--@  1 satra  staff   216538 Jun  2  2011 ribbon.mgz\r\n",
        "-r--r--r--@  1 satra  staff      121 Jun  2  2011 segment.dat\r\n",
        "-r--r--r--@  1 satra  staff     1591 Jun  2  2011 talairach.label_intensities.txt\r\n",
        "-r--r--r--@  1 satra  staff      686 Jun  2  2011 talairach.log\r\n",
        "-r--r--r--@  1 satra  staff     1392 Jun  2  2011 talairach_with_skull.log\r\n",
        "dr-xr-xr-x@ 16 satra  staff      544 Jun  2  2011 \u001b[34mtransforms\u001b[m\u001b[m/\r\n",
        "-r--r--r--@  1 satra  staff   366781 Jun  2  2011 wm.asegedit.mgz\r\n",
        "-r--r--r--@  1 satra  staff   367359 Jun  2  2011 wm.mgz\r\n",
        "-r--r--r--@  1 satra  staff   407525 Jun  2  2011 wm.seg.mgz\r\n",
        "-r--r--r--@  1 satra  staff       33 Jun  2  2011 wm1.txt\r\n",
        "-r--r--r--@  1 satra  staff       29 Jun  2  2011 wm255.txt\r\n",
        "-r--r--r--@  1 satra  staff   461522 Jun  2  2011 wmparc.mgz\r\n",
        "\r\n",
        "/Applications/freesurfer/subjects/bert/mri/orig:\r\n",
        "total 35528\r\n",
        "-r--r--r--@ 1 satra  staff        1 Jun  2  2011 001-iscale.txt\r\n",
        "-r--r--r--@ 1 satra  staff     1689 Jun  2  2011 001.lta\r\n",
        "-r--r--r--@ 1 satra  staff  5996899 Jun  2  2011 001.mgz\r\n",
        "-r--r--r--@ 1 satra  staff        8 Jun  2  2011 002-iscale.txt\r\n",
        "-r--r--r--@ 1 satra  staff     1693 Jun  2  2011 002.lta\r\n",
        "-r--r--r--@ 1 satra  staff  6077242 Jun  2  2011 002.mgz\r\n",
        "-r--r--r--@ 1 satra  staff        8 Jun  2  2011 003-iscale.txt\r\n",
        "-r--r--r--@ 1 satra  staff     1694 Jun  2  2011 003.lta\r\n",
        "-r--r--r--@ 1 satra  staff  6083164 Jun  2  2011 003.mgz\r\n",
        "\r\n",
        "/Applications/freesurfer/subjects/bert/mri/transforms:\r\n",
        "total 194160\r\n",
        "dr-xr-xr-x@ 2 satra  staff        68 Jun  2  2011 \u001b[34mbak\u001b[m\u001b[m/\r\n",
        "-r--r--r--@ 1 satra  staff      1696 Jun  2  2011 cc_up.lta\r\n",
        "-r--r--r--@ 1 satra  staff       194 Jun  2  2011 talairach.auto.xfm\r\n",
        "-r--r--r--@ 1 satra  staff      1548 Jun  2  2011 talairach.lta\r\n",
        "-r--r--r--@ 1 satra  staff  32376549 Jun  2  2011 talairach.m3z\r\n",
        "-r--r--r--@ 1 satra  staff  26897923 Jun  2  2011 talairach.m3z.inv.x.mgz\r\n",
        "-r--r--r--@ 1 satra  staff  21362544 Jun  2  2011 talairach.m3z.inv.y.mgz\r\n",
        "-r--r--r--@ 1 satra  staff  18566247 Jun  2  2011 talairach.m3z.inv.z.mgz\r\n",
        "-r--r--r--@ 1 satra  staff       194 Jun  2  2011 talairach.xfm\r\n",
        "-r--r--r--@ 1 satra  staff     85628 Jun  2  2011 talairach_avi.log\r\n",
        "-r--r--r--@ 1 satra  staff     85134 Jun  2  2011 talairach_avi.log.bak\r\n",
        "-r--r--r--@ 1 satra  staff        92 Jun  2  2011 talairach_avi_QA.log\r\n",
        "-r--r--r--@ 1 satra  staff      1591 Jun  2  2011 talairach_with_skull.lta\r\n",
        "-r--r--r--@ 1 satra  staff       380 Jun  2  2011 talsrcimg_to_711-2C_as_mni_average_305_t4_vox2vox.txt\r\n",
        "\r\n",
        "/Applications/freesurfer/subjects/bert/mri/transforms/bak:\r\n",
        "\r\n",
        "/Applications/freesurfer/subjects/bert/scripts:\r\n",
        "total 2904\r\n",
        "-r--r--r--@ 1 satra  staff       55 Jun  2  2011 build-stamp.txt\r\n",
        "-r--r--r--@ 1 satra  staff       43 Jun  2  2011 csurfdir\r\n",
        "-r--r--r--@ 1 satra  staff      207 Jun  2  2011 ponscc.cut.log\r\n",
        "-r--r--r--@ 1 satra  staff     9795 Jun  2  2011 recon-all-status.log\r\n",
        "-r--r--r--@ 1 satra  staff    20085 Jun  2  2011 recon-all.cmd\r\n",
        "-r--r--r--@ 1 satra  staff      366 Jun  2  2011 recon-all.done\r\n",
        "-r--r--r--@ 1 satra  staff     5304 Jun  2  2011 recon-all.env\r\n",
        "-r--r--r--@ 1 satra  staff     4158 Jun  2  2011 recon-all.env.bak\r\n",
        "-r-xr-xr-x@ 1 satra  staff   239582 Jun  2  2011 \u001b[31mrecon-all.local-copy\u001b[m\u001b[m*\r\n",
        "-r--r--r--@ 1 satra  staff  1179555 Jun  2  2011 recon-all.log\r\n",
        "\r\n",
        "/Applications/freesurfer/subjects/bert/src:\r\n",
        "\r\n",
        "/Applications/freesurfer/subjects/bert/stats:\r\n",
        "total 304\r\n",
        "-r--r--r--@ 1 satra  staff   8512 Jun  2  2011 aseg.stats\r\n",
        "-r--r--r--@ 1 satra  staff   3380 Jun  2  2011 lh.BA.stats\r\n",
        "-r--r--r--@ 1 satra  staff  10359 Jun  2  2011 lh.aparc.a2009s.stats\r\n",
        "-r--r--r--@ 1 satra  staff   5931 Jun  2  2011 lh.aparc.stats\r\n",
        "-r--r--r--@ 1 satra  staff  32822 Jun  2  2011 lh.curv.stats\r\n",
        "-r--r--r--@ 1 satra  staff   2202 Jun  2  2011 lh.entorhinal_exvivo.stats\r\n",
        "-r--r--r--@ 1 satra  staff   3378 Jun  2  2011 rh.BA.stats\r\n",
        "-r--r--r--@ 1 satra  staff  10361 Jun  2  2011 rh.aparc.a2009s.stats\r\n",
        "-r--r--r--@ 1 satra  staff   5933 Jun  2  2011 rh.aparc.stats\r\n",
        "-r--r--r--@ 1 satra  staff  32818 Jun  2  2011 rh.curv.stats\r\n",
        "-r--r--r--@ 1 satra  staff   2200 Jun  2  2011 rh.entorhinal_exvivo.stats\r\n",
        "-r--r--r--@ 1 satra  staff  11456 Jun  2  2011 wmparc.stats\r\n",
        "\r\n",
        "/Applications/freesurfer/subjects/bert/surf:\r\n",
        "total 254512\r\n",
        "-r--r--r--@ 1 satra  staff   532819 Jun  2  2011 lh.area\r\n",
        "-r--r--r--@ 1 satra  staff   532819 Jun  2  2011 lh.area.mid\r\n",
        "-r--r--r--@ 1 satra  staff   532819 Jun  2  2011 lh.area.pial\r\n",
        "-r--r--r--@ 1 satra  staff   532819 Jun  2  2011 lh.avg_curv\r\n",
        "-r--r--r--@ 1 satra  staff   532819 Jun  2  2011 lh.curv\r\n",
        "-r--r--r--@ 1 satra  staff   532819 Jun  2  2011 lh.curv.pial\r\n",
        "-r--r--r--@ 1 satra  staff   539391 Jun  2  2011 lh.defect_borders\r\n",
        "-r--r--r--@ 1 satra  staff   539391 Jun  2  2011 lh.defect_chull\r\n",
        "-r--r--r--@ 1 satra  staff   539391 Jun  2  2011 lh.defect_labels\r\n",
        "-r--r--r--@ 1 satra  staff  4797297 Jun  2  2011 lh.inflated\r\n",
        "-r--r--r--@ 1 satra  staff   532819 Jun  2  2011 lh.inflated.H\r\n",
        "-r--r--r--@ 1 satra  staff   532819 Jun  2  2011 lh.inflated.K\r\n",
        "-r--r--r--@ 1 satra  staff  4857073 Jun  2  2011 lh.inflated.nofix\r\n",
        "-r--r--r--@ 1 satra  staff   532819 Jun  2  2011 lh.jacobian_white\r\n",
        "-r--r--r--@ 1 satra  staff  4796124 Jun  2  2011 lh.orig\r\n",
        "-r--r--r--@ 1 satra  staff  4856272 Jun  2  2011 lh.orig.nofix\r\n",
        "-r--r--r--@ 1 satra  staff  4796523 Jun  2  2011 lh.pial\r\n",
        "-r--r--r--@ 1 satra  staff  4857473 Jun  2  2011 lh.qsphere.nofix\r\n",
        "-r--r--r--@ 1 satra  staff  4796920 Jun  2  2011 lh.smoothwm\r\n",
        "-r--r--r--@ 1 satra  staff   529395 Jun  2  2011 lh.smoothwm.BE.crv\r\n",
        "-r--r--r--@ 1 satra  staff   529395 Jun  2  2011 lh.smoothwm.C.crv\r\n",
        "-r--r--r--@ 1 satra  staff   529395 Jun  2  2011 lh.smoothwm.FI.crv\r\n",
        "-r--r--r--@ 1 satra  staff   529395 Jun  2  2011 lh.smoothwm.H.crv\r\n",
        "-r--r--r--@ 1 satra  staff   529395 Jun  2  2011 lh.smoothwm.K.crv\r\n",
        "-r--r--r--@ 1 satra  staff   529395 Jun  2  2011 lh.smoothwm.K1.crv\r\n",
        "-r--r--r--@ 1 satra  staff   529395 Jun  2  2011 lh.smoothwm.K2.crv\r\n",
        "-r--r--r--@ 1 satra  staff   529395 Jun  2  2011 lh.smoothwm.S.crv\r\n",
        "-r--r--r--@ 1 satra  staff  4856670 Jun  2  2011 lh.smoothwm.nofix\r\n",
        "-r--r--r--@ 1 satra  staff  4797681 Jun  2  2011 lh.sphere\r\n",
        "-r--r--r--@ 1 satra  staff  4798159 Jun  2  2011 lh.sphere.reg\r\n",
        "-r--r--r--@ 1 satra  staff   532819 Jun  2  2011 lh.sulc\r\n",
        "-r--r--r--@ 1 satra  staff   532819 Jun  2  2011 lh.thickness\r\n",
        "-r--r--r--@ 1 satra  staff   532819 Jun  2  2011 lh.volume\r\n",
        "-r--r--r--@ 1 satra  staff  4796528 Jun  2  2011 lh.white\r\n",
        "-r--r--r--@ 1 satra  staff   530291 Jun  2  2011 rh.area\r\n",
        "-r--r--r--@ 1 satra  staff   530291 Jun  2  2011 rh.area.mid\r\n",
        "-r--r--r--@ 1 satra  staff   530291 Jun  2  2011 rh.area.pial\r\n",
        "-r--r--r--@ 1 satra  staff   530291 Jun  2  2011 rh.avg_curv\r\n",
        "-r--r--r--@ 1 satra  staff   530291 Jun  2  2011 rh.curv\r\n",
        "-r--r--r--@ 1 satra  staff   530291 Jun  2  2011 rh.curv.pial\r\n",
        "-r--r--r--@ 1 satra  staff   535559 Jun  2  2011 rh.defect_borders\r\n",
        "-r--r--r--@ 1 satra  staff   535559 Jun  2  2011 rh.defect_chull\r\n",
        "-r--r--r--@ 1 satra  staff   535559 Jun  2  2011 rh.defect_labels\r\n",
        "-r--r--r--@ 1 satra  staff  4774545 Jun  2  2011 rh.inflated\r\n",
        "-r--r--r--@ 1 satra  staff   530291 Jun  2  2011 rh.inflated.H\r\n",
        "-r--r--r--@ 1 satra  staff   530291 Jun  2  2011 rh.inflated.K\r\n",
        "-r--r--r--@ 1 satra  staff  4822393 Jun  2  2011 rh.inflated.nofix\r\n",
        "-r--r--r--@ 1 satra  staff   530291 Jun  2  2011 rh.jacobian_white\r\n",
        "-r--r--r--@ 1 satra  staff  4773372 Jun  2  2011 rh.orig\r\n",
        "-r--r--r--@ 1 satra  staff  4821592 Jun  2  2011 rh.orig.nofix\r\n",
        "-r--r--r--@ 1 satra  staff  4773771 Jun  2  2011 rh.pial\r\n",
        "-r--r--r--@ 1 satra  staff  4822793 Jun  2  2011 rh.qsphere.nofix\r\n",
        "-r--r--r--@ 1 satra  staff  4774168 Jun  2  2011 rh.smoothwm\r\n",
        "-r--r--r--@ 1 satra  staff   528107 Jun  2  2011 rh.smoothwm.BE.crv\r\n",
        "-r--r--r--@ 1 satra  staff   528107 Jun  2  2011 rh.smoothwm.C.crv\r\n",
        "-r--r--r--@ 1 satra  staff   528107 Jun  2  2011 rh.smoothwm.FI.crv\r\n",
        "-r--r--r--@ 1 satra  staff   528107 Jun  2  2011 rh.smoothwm.H.crv\r\n",
        "-r--r--r--@ 1 satra  staff   528107 Jun  2  2011 rh.smoothwm.K.crv\r\n",
        "-r--r--r--@ 1 satra  staff   528107 Jun  2  2011 rh.smoothwm.K1.crv\r\n",
        "-r--r--r--@ 1 satra  staff   528107 Jun  2  2011 rh.smoothwm.K2.crv\r\n",
        "-r--r--r--@ 1 satra  staff   528107 Jun  2  2011 rh.smoothwm.S.crv\r\n",
        "-r--r--r--@ 1 satra  staff  4821990 Jun  2  2011 rh.smoothwm.nofix\r\n",
        "-r--r--r--@ 1 satra  staff  4774929 Jun  2  2011 rh.sphere\r\n",
        "-r--r--r--@ 1 satra  staff  4775407 Jun  2  2011 rh.sphere.reg\r\n",
        "-r--r--r--@ 1 satra  staff   530291 Jun  2  2011 rh.sulc\r\n",
        "-r--r--r--@ 1 satra  staff   530291 Jun  2  2011 rh.thickness\r\n",
        "-r--r--r--@ 1 satra  staff   530291 Jun  2  2011 rh.volume\r\n",
        "-r--r--r--@ 1 satra  staff  4773776 Jun  2  2011 rh.white\r\n",
        "\r\n",
        "/Applications/freesurfer/subjects/bert/tmp:\r\n",
        "\r\n",
        "/Applications/freesurfer/subjects/bert/touch:\r\n",
        "total 496\r\n",
        "-r--r--r--@ 1 satra  staff   43 Jun  2  2011 aparc.a2009s2aseg.touch\r\n",
        "-r--r--r--@ 1 satra  staff   34 Jun  2  2011 aparc2aseg.touch\r\n",
        "-r--r--r--@ 1 satra  staff   26 Jun  2  2011 asegmerge.touch\r\n",
        "-r--r--r--@ 1 satra  staff    0 Jun  2  2011 brainmask.mgz.tkmedit.touch\r\n",
        "-r--r--r--@ 1 satra  staff  153 Jun  2  2011 ca_label.touch\r\n",
        "-r--r--r--@ 1 satra  staff  167 Jun  2  2011 ca_normalize.touch\r\n",
        "-r--r--r--@ 1 satra  staff  201 Jun  2  2011 ca_register.touch\r\n",
        "-r--r--r--@ 1 satra  staff   58 Jun  2  2011 ca_register_inv.touch\r\n",
        "-r--r--r--@ 1 satra  staff  182 Jun  2  2011 conform.touch\r\n",
        "-r--r--r--@ 1 satra  staff  122 Jun  2  2011 cortical_ribbon.touch\r\n",
        "-r--r--r--@ 1 satra  staff  148 Jun  2  2011 em_register.touch\r\n",
        "-r--r--r--@ 1 satra  staff  124 Jun  2  2011 fill.touch\r\n",
        "-r--r--r--@ 1 satra  staff   33 Jun  2  2011 inorm1.touch\r\n",
        "-r--r--r--@ 1 satra  staff   68 Jun  2  2011 inorm2.touch\r\n",
        "-r--r--r--@ 1 satra  staff  242 Jun  2  2011 lh.aparc.touch\r\n",
        "-r--r--r--@ 1 satra  staff  222 Jun  2  2011 lh.aparc2.touch\r\n",
        "-r--r--r--@ 1 satra  staff  160 Jun  2  2011 lh.aparcstats.touch\r\n",
        "-r--r--r--@ 1 satra  staff  181 Jun  2  2011 lh.aparcstats2.touch\r\n",
        "-r--r--r--@ 1 satra  staff  154 Jun  2  2011 lh.avgcurv.touch\r\n",
        "-r--r--r--@ 1 satra  staff  105 Jun  2  2011 lh.curvstats.touch\r\n",
        "-r--r--r--@ 1 satra  staff   68 Jun  2  2011 lh.final_surfaces.touch\r\n",
        "-r--r--r--@ 1 satra  staff   79 Jun  2  2011 lh.inflate1.touch\r\n",
        "-r--r--r--@ 1 satra  staff   76 Jun  2  2011 lh.inflate2.touch\r\n",
        "-r--r--r--@ 1 satra  staff   79 Jun  2  2011 lh.jacobian_white.touch\r\n",
        "-r--r--r--@ 1 satra  staff   68 Jun  2  2011 lh.pial_surface.touch\r\n",
        "-r--r--r--@ 1 satra  staff   77 Jun  2  2011 lh.qsphere.touch\r\n",
        "-r--r--r--@ 1 satra  staff   75 Jun  2  2011 lh.smoothwm1.touch\r\n",
        "-r--r--r--@ 1 satra  staff   69 Jun  2  2011 lh.smoothwm2.touch\r\n",
        "-r--r--r--@ 1 satra  staff   61 Jun  2  2011 lh.sphmorph.touch\r\n",
        "-r--r--r--@ 1 satra  staff  153 Jun  2  2011 lh.sphreg.touch\r\n",
        "-r--r--r--@ 1 satra  staff   52 Jun  2  2011 lh.surfvolume.touch\r\n",
        "-r--r--r--@ 1 satra  staff   72 Jun  2  2011 lh.tessellate.touch\r\n",
        "-r--r--r--@ 1 satra  staff   23 Jun  2  2011 lh.topofix.touch\r\n",
        "-r--r--r--@ 1 satra  staff   73 Jun  2  2011 lh.white_surface.touch\r\n",
        "-r--r--r--@ 1 satra  staff  975 Jun  2  2011 motion_correct.touch\r\n",
        "-r--r--r--@ 1 satra  staff  146 Jun  2  2011 mri_remove_neck.touch\r\n",
        "-r--r--r--@ 1 satra  staff    0 Jun  2  2011 nu.touch\r\n",
        "-r--r--r--@ 1 satra  staff  242 Jun  2  2011 rh.aparc.touch\r\n",
        "-r--r--r--@ 1 satra  staff  222 Jun  2  2011 rh.aparc2.touch\r\n",
        "-r--r--r--@ 1 satra  staff  160 Jun  2  2011 rh.aparcstats.touch\r\n",
        "-r--r--r--@ 1 satra  staff  181 Jun  2  2011 rh.aparcstats2.touch\r\n",
        "-r--r--r--@ 1 satra  staff  154 Jun  2  2011 rh.avgcurv.touch\r\n",
        "-r--r--r--@ 1 satra  staff  105 Jun  2  2011 rh.curvstats.touch\r\n",
        "-r--r--r--@ 1 satra  staff   68 Jun  2  2011 rh.final_surfaces.touch\r\n",
        "-r--r--r--@ 1 satra  staff   79 Jun  2  2011 rh.inflate1.touch\r\n",
        "-r--r--r--@ 1 satra  staff   76 Jun  2  2011 rh.inflate2.touch\r\n",
        "-r--r--r--@ 1 satra  staff   79 Jun  2  2011 rh.jacobian_white.touch\r\n",
        "-r--r--r--@ 1 satra  staff   68 Jun  2  2011 rh.pial_surface.touch\r\n",
        "-r--r--r--@ 1 satra  staff   77 Jun  2  2011 rh.qsphere.touch\r\n",
        "-r--r--r--@ 1 satra  staff   75 Jun  2  2011 rh.smoothwm1.touch\r\n",
        "-r--r--r--@ 1 satra  staff   69 Jun  2  2011 rh.smoothwm2.touch\r\n",
        "-r--r--r--@ 1 satra  staff   61 Jun  2  2011 rh.sphmorph.touch\r\n",
        "-r--r--r--@ 1 satra  staff  153 Jun  2  2011 rh.sphreg.touch\r\n",
        "-r--r--r--@ 1 satra  staff   52 Jun  2  2011 rh.surfvolume.touch\r\n",
        "-r--r--r--@ 1 satra  staff   72 Jun  2  2011 rh.tessellate.touch\r\n",
        "-r--r--r--@ 1 satra  staff   23 Jun  2  2011 rh.topofix.touch\r\n",
        "-r--r--r--@ 1 satra  staff   73 Jun  2  2011 rh.white_surface.touch\r\n",
        "-r--r--r--@ 1 satra  staff  333 Jun  2  2011 segstats.touch\r\n",
        "-r--r--r--@ 1 satra  staff  184 Jun  2  2011 skull.lta.touch\r\n",
        "-r--r--r--@ 1 satra  staff  229 Jun  2  2011 skull_strip.touch\r\n",
        "-r--r--r--@ 1 satra  staff   58 Jun  2  2011 talairach.touch\r\n",
        "-r--r--r--@ 1 satra  staff    0 Jun  2  2011 wm.mgz.tkmedit.touch\r\n",
        "-r--r--r--@ 1 satra  staff  314 Jun  2  2011 wmaparc.stats.touch\r\n",
        "-r--r--r--@ 1 satra  staff  114 Jun  2  2011 wmaparc.touch\r\n",
        "-r--r--r--@ 1 satra  staff   53 Jun  2  2011 wmsegment.touch\r\n",
        "\r\n",
        "/Applications/freesurfer/subjects/bert/trash:\r\n",
        "total 4784\r\n",
        "-r--r--r--@ 1 satra  staff   237416 Jun  2  2011 aseg.mgz\r\n",
        "-r--r--r--@ 1 satra  staff  1420829 Jun  2  2011 brainmask.mgz\r\n",
        "-r--r--r--@ 1 satra  staff     1708 Jun  2  2011 cc_up.lta\r\n",
        "-r--r--r--@ 1 satra  staff     1535 Jun  2  2011 talairach.lta\r\n",
        "-r--r--r--@ 1 satra  staff      192 Jun  2  2011 talairach.xfm\r\n",
        "-r--r--r--@ 1 satra  staff     1580 Jun  2  2011 talairach_with_skull.lta\r\n",
        "-r--r--r--@ 1 satra  staff   365265 Jun  2  2011 wm.mgz\r\n",
        "-r--r--r--@ 1 satra  staff   402629 Jun  2  2011 wm.seg.mgz\r\n"
       ]
      }
     ],
     "prompt_number": 1
    },
    {
     "cell_type": "code",
     "collapsed": false,
     "input": [
      "# map FreeSurfer filename parts\n",
      "fs_file_map =  [('T1', [nif[\"nlx_inv_20090243\"]]), #3d T1 weighted scan\n",
      "                ('lh', [obo[\"UBERON_0002812\"]]), #left cerebral hemisphere\n",
      "                ('rh', [obo[\"UBERON_0002813\"]]), # right cerebral hemisphere\n",
      "                ('BA.', [obo[\"UBERON_0013529\"]]), #Brodmann area\n",
      "                ('BA1.', [obo[\"UBERON_0006099\"]]), #Brodmann area 1\n",
      "                ('BA2.', [obo[\"UBERON_0013533\"]]), #Brodmann area 2\n",
      "                ('BA3a.', [obo[\"UBERON_0006100\"], #Brodmann area 3a\n",
      "                           obo[\"FMA_74532\"]]), #anterior\n",
      "                ('BA3b.', [obo[\"UBERON_0006100\"], #Brodmann area 3b\n",
      "                           obo[\"FMA_74533\"]]), #posterior\n",
      "                ('BA44.', [obo[\"UBERON_0006481\"]]), #Brodmann area 44\n",
      "                ('BA45.', [obo[\"UBERON_0006482\"]]), #Brodmann area 45\n",
      "                ('BA4a.', [obo[\"UBERON_0013535\"], #Brodmann area 4a\n",
      "                           obo[\"FMA_74532\"]]), #anterior\n",
      "                ('BA4a.', [obo[\"UBERON_0013535\"], #Brodmann area 4p\n",
      "                           obo[\"FMA_74533\"]]), #posterior\n",
      "                ('BA6.', [obo[\"UBERON_0006472\"]]), #Brodmann area 6\n",
      "                ('V1.', [obo[\"UBERON_0002436\"]]),\n",
      "                ('V2.', [obo[\"UBERON_0006473\"]]),\n",
      "                ('MT', [fs[\"MT area\"]]),\n",
      "                ('entorhinal', [obo[\"UBERON_0002728\"]]),\n",
      "                ('exvivo', [fs[\"exvivo\"]]),\n",
      "                ('label', [fs[\"label_file\"]]),\n",
      "                ('annot', [fs[\"annotation_file\"]]),\n",
      "                ('cortex', [obo[\"UBERON_0000956\"]]),\n",
      "                ('.stats', [fs[\"statistic_file\"]]),\n",
      "                ('aparc.annot', [fs[\"default_parcellation\"]]),\n",
      "                ('aparc.a2009s', [fs[\"a2009s_parcellation\"]]),\n",
      "                ('.ctab', [fs[\"color_table\"]]),\n",
      "               ]\n",
      "\n",
      "ignore_list = ['bak', 'src', 'tmp', 'trash']"
     ],
     "language": "python",
     "metadata": {},
     "outputs": [],
     "prompt_number": 19
    },
    {
     "cell_type": "code",
     "collapsed": false,
     "input": [
      "def create_entity(graph, fs_subject_id, filepath):\n",
      "    \"\"\" Create a PROV entity for a file in a FreeSurfer directory\n",
      "    \"\"\"\n",
      "    # identify FreeSurfer terms based on directory and file names\n",
      "    _, filename = os.path.split(filepath)\n",
      "    relpath = os.path.sep.join(filepath.split(fs_subject_id)[1:]).lstrip(os.path.sep)\n",
      "    fstypes = relpath.split('/')[:-1]\n",
      "    additional_types = relpath.split('/')[-1].split('.')\n",
      "    \n",
      "    file_md5_hash = hash_infile(filepath)\n",
      "    if file_md5_hash is None:\n",
      "        print fullpath\n",
      "\n",
      "    url = \"file://%s%s\" % (getfqdn(), filepath)\n",
      "    url_get = \"http://computor.mit.edu:10101/file?file_uri=%s\" % url\n",
      "    # build a NI-DM object \n",
      "    obj_attr = [(prov.PROV[\"label\"], \"%s:%s\" % ('.'.join(fstypes), '.'.join(additional_types))),\n",
      "                (prov.PROV[\"label\"], \"%s\" % filename),\n",
      "                (fs[\"relative_path\"], \"%s\" % relpath),\n",
      "                (prov.PROV[\"location\"], prov.Literal(url, prov.XSD[\"anyURI\"])),\n",
      "                (obo[\"MS_1000568\"], \"%s\" % file_md5_hash),\n",
      "               ]\n",
      "\n",
      "    for key, uris in fs_file_map:\n",
      "        if key in filename:\n",
      "            obj_attr.append((prov.PROV[\"label\"], key))\n",
      "            for uri in uris:\n",
      "                obj_attr.append((prov.PROV[\"type\"], uri))\n",
      "    id = md5.new(fs_subject_id + relpath + file_md5_hash).hexdigest()\n",
      "    return graph.entity(fs['e/' + id], obj_attr)\n",
      "    #return id"
     ],
     "language": "python",
     "metadata": {
      "slideshow": {
       "slide_type": "subslide"
      }
     },
     "outputs": [],
     "prompt_number": 34
    },
    {
     "cell_type": "code",
     "collapsed": false,
     "input": [
      "g = prov.ProvBundle()\n",
      "e1 = create_entity(g, \"bert\", \"/Applications/freesurfer/subjects/bert/mri/T1.mgz\")"
     ],
     "language": "python",
     "metadata": {},
     "outputs": [],
     "prompt_number": 35
    },
    {
     "cell_type": "code",
     "collapsed": false,
     "input": [
      "id = e1.get_identifier()\n",
      "print e1.get_provn()"
     ],
     "language": "python",
     "metadata": {},
     "outputs": [
      {
       "output_type": "stream",
       "stream": "stdout",
       "text": [
        "entity(fs:e/1cb78d63583c319e68646a4fa5d2d68e, [prov:label=\"mri:T1.mgz\", prov:label=\"T1.mgz\", fs:relative_path=\"mri/T1.mgz\", prov:location=\"file://81.42.168.192.in-addr.arpa/Applications/freesurfer/subjects/bert/mri/T1.mgz\" %% xsd:anyURI, obo:MS_1000568=\"9ee09dc2722fe9884e5ced91b6393ea4\", prov:label=\"T1\", prov:type='nif:nlx_inv_20090243'])\n"
       ]
      }
     ],
     "prompt_number": 36
    },
    {
     "cell_type": "markdown",
     "metadata": {
      "slideshow": {
       "slide_type": "subslide"
      }
     },
     "source": [
      "### Terms introduced\n",
      "\n",
      "    - relative_path\n",
      "    - file\n",
      "    - md5sum\n",
      "    - aparc, a2005s, a2009s, exvivo\n",
      "    - statistics\n"
     ]
    },
    {
     "cell_type": "markdown",
     "metadata": {
      "slideshow": {
       "slide_type": "subslide"
      }
     },
     "source": [
      "### Define a function that manages creating a NI-DM FreeSurfer object"
     ]
    },
    {
     "cell_type": "code",
     "collapsed": false,
     "input": [
      "def freesurfer2provgraph(g, dirname, basedir, n_items=100000):\n",
      "    \"\"\" Convert a FreeSurfer directory to a PROV graph\n",
      "    \"\"\"\n",
      "    subject_id = dirname.rstrip('/').split('/')[-1]\n",
      "    project_string = '-'.join(dirname.replace(basedir, '').rstrip('/').split('/')[1:-1])\n",
      "    # directory collection/catalog\n",
      "    collection_hash = md5.new(project_string + ':' + subject_id).hexdigest()\n",
      "    fsdir_collection = g.collection(fs[collection_hash])\n",
      "    fsdir_collection.add_extra_attributes({prov.PROV['type']: fs['directory'],\n",
      "                                           fs['subject_id']: subject_id,\n",
      "                                           nidm['annotation']: project_string})\n",
      "    i = 0;\n",
      "    for dirpath, dirnames, filenames in os.walk(os.path.realpath(os.path.join(basedir, dirname))):\n",
      "        for filename in sorted(filenames):\n",
      "            if filename.startswith('.'):\n",
      "                continue\n",
      "            i +=1 \n",
      "            if i > n_items:\n",
      "                break\n",
      "            file2encode = os.path.realpath(os.path.join(dirpath, filename))\n",
      "            if not os.path.isfile(file2encode):\n",
      "                print \"%s not a file\" % file2encode\n",
      "                continue\n",
      "            try:\n",
      "                id = create_entity(g, file2encode, dirname[2:], subject_id, basedir)\n",
      "                g.hadMember(fsdir_collection, id)\n",
      "            except IOError, e:\n",
      "                print e\n",
      "    return g"
     ],
     "language": "python",
     "metadata": {
      "slideshow": {
       "slide_type": "subslide"
      }
     },
     "outputs": []
    },
    {
     "cell_type": "markdown",
     "metadata": {
      "slideshow": {
       "slide_type": "subslide"
      }
     },
     "source": [
      "### Example of generating a NI-DM FreeSurfer Object\n",
      "\n",
      "This example demonstrates the conversion from [PROV Notation](http://www.w3.org/TR/prov-n/) to RDF using the [ProvToolBox](https://github.com/lucmoreau/ProvToolbox), which provides a command line utility for serializing PROV to different syntaxes."
     ]
    },
    {
     "cell_type": "code",
     "collapsed": false,
     "input": [
      "# location of FreeSurfer $SUBJECTS_DIR\n",
      "basedir = '/mindhive/xnat/surfaces/'\n",
      "\n",
      "from subprocess import Popen, PIPE\n",
      "\n",
      "# location of the ProvToolBox commandline conversion utility\n",
      "pc = '/mindhive/gablab/satra/ProvToolbox/toolbox/target/appassembler/bin/provconvert'\n",
      "for dirname in dirnames:\n",
      "    name = '-'.join(dirname.rstrip('/').split('/')[1:])\n",
      "    filename = '../store/%s.provn' % name\n",
      "    if not os.path.exists('%s.ttl' % filename):\n",
      "        graph = prov.ProvBundle()\n",
      "        graph.add_namespace(foaf)\n",
      "        graph.add_namespace(dcterms)\n",
      "        graph.add_namespace(fs)\n",
      "        graph.add_namespace(nidm)\n",
      "        freesurfer2provgraph(graph, dirname)\n",
      "        print dirname\n",
      "        with open(filename, 'wt') as fp:\n",
      "            fp.writelines(graph.get_provn())\n",
      "        o, e = Popen('%s -infile %s -outfile %s.ttl' % (pc, filename, filename), stdout=PIPE, \n",
      "                     stderr=PIPE, shell=True).communicate()\n",
      "        print('converted %s' % filename)\n",
      "    else:\n",
      "        print \"%s exists\" % filename"
     ],
     "language": "python",
     "metadata": {
      "slideshow": {
       "slide_type": "subslide"
      }
     },
     "outputs": []
    },
    {
     "cell_type": "markdown",
     "metadata": {
      "slideshow": {
       "slide_type": "slide"
      }
     },
     "source": [
      "### Querying object models with SPARQL using a triplestore\n",
      "\n",
      "In this section we will show example SPARQL queries that access a triplestore.\n",
      "\n",
      "    - What is a triplestore?\n",
      "    - How are NI-DM objects uploaded to a triplestore?\n",
      "    - How do we query a triplestore for data stored using NI-DM?"
     ]
    },
    {
     "cell_type": "markdown",
     "metadata": {
      "slideshow": {
       "slide_type": "subslide"
      }
     },
     "source": [
      "### What is a triplestore?\n",
      "\n",
      "    - A triplestore is a database for storing RDF triples (i.e., subject, predicate, object statements). \n",
      "    - The triplestore provides a way to create, read, update, and delete persisted RDF statements using the SPARQL 1.1 protocol. \n",
      "    - Here we are using the triplestore functionality of the Virtuoso database (http://virtuoso.openlinksw.com/) \n",
      "    - The specific triplestore can easily be swapped for another system such as Jena or Seseme."
     ]
    },
    {
     "cell_type": "markdown",
     "metadata": {
      "slideshow": {
       "slide_type": "subslide"
      }
     },
     "source": [
      "### How are NIDM objects uploaded to a triplestore?\n",
      "\n",
      "    - The examples above demonstrates how to create a collection of NI-DM FreeSurfer objects in RDF.\n",
      "    - RDF files can be bulk uploaded through the Virtuoso web interface or using a SPARQL Insert Statement\n",
      "    - This is an example of adding a single RDF triple"
     ]
    },
    {
     "cell_type": "code",
     "collapsed": false,
     "input": [
      "import requests\n",
      "from requests.auth import HTTPDigestAuth\n",
      "\n",
      "from IPython.core.display import HTML\n",
      "\n",
      "\n",
      "# connection params for secure endpoint\n",
      "endpoint = 'http://computor.mit.edu:8890/sparql'\n",
      "username = 'username'\n",
      "password = 'password'\n",
      "\n",
      "# session defaults\n",
      "session = requests.Session()\n",
      "session.auth = HTTPDigestAuth(username, password)\n",
      "\n",
      "session.headers = {'Accept':'text/html'} # HTML from SELECT queries\n",
      "\n",
      "# INSERT - CREATE new triples\n",
      "query =  \"\"\"PREFIX nidm: <http://nidm.nidash.org#>\n",
      "            PREFIX prov: <http://www.w3.org/ns/prov#>\n",
      "            PREFIX nlx: <http://uri.neuinfo.org/nif/nifstd/>\n",
      "            \n",
      "            INSERT DATA\n",
      "            INTO GRAPH <http://nidm.nidash.org>\n",
      "                {nidm:UUID12345 a prov:Entity;\n",
      "                    nlx:nlx_150774 \"2.0\"}\"\"\"\n",
      "\n",
      "data = {'query': query}\n",
      "result = session.post(endpoint, data=data)\n",
      "HTML(result.content)"
     ],
     "language": "python",
     "metadata": {
      "slideshow": {
       "slide_type": "subslide"
      }
     },
     "outputs": []
    },
    {
     "cell_type": "markdown",
     "metadata": {
      "slideshow": {
       "slide_type": "subslide"
      }
     },
     "source": [
      "### How do we query a triplestore for data stored using NI-DM?\n",
      "\n",
      "    - this example shows how to query for FreeSurfer details given a subject id"
     ]
    },
    {
     "cell_type": "code",
     "collapsed": false,
     "input": [
      "    def getSubjectDetails(self, subject_id):\n",
      "        session = requests.Session()\n",
      "\n",
      "        qstring = '''\n",
      "        PREFIX fs: <http://surfer.nmr.mgh.harvard.edu/fswiki/#>\n",
      "        PREFIX xsd: <http://www.w3.org/2001/XMLSchema#>\n",
      "        PREFIX nidm: <http://nidm.nidash.org/#>\n",
      "        PREFIX prov: <http://www.w3.org/ns/prov#>\n",
      "\n",
      "        select distinct ?structureName ?structureGV where {\n",
      "             ?subjectCollection fs:subject_id \"%s\"^^<http://www.w3.org/2001/XMLSchema#string> .\n",
      "             ?subjectCollection prov:hadMember ?otherMembers .\n",
      "             ?collectionFromProv prov:wasDerivedFrom ?otherMembers .\n",
      "             ?collectionFromProv prov:hadMember ?membersOfProvCollection .\n",
      "             ?membersOfProvCollection a fs:GrayVol . # filter by those that have a type of fs:GrayVol(ume)\n",
      "             ?membersOfProvCollection fs:structure ?structureName . \n",
      "             ?membersOfProvCollection fs:value ?structureGV .\n",
      "        } ''' % (subject_id)"
     ],
     "language": "python",
     "metadata": {
      "slideshow": {
       "slide_type": "subslide"
      }
     },
     "outputs": []
    },
    {
     "cell_type": "markdown",
     "metadata": {
      "slideshow": {
       "slide_type": "slide"
      }
     },
     "source": [
      "### Mapping XCEDE primitives to NI-DM\n",
      "\n",
      "The XCEDE XML schema allows for storing information in the context of a flexible and extensible experiment hierarchy. \n",
      "\n",
      "It accommodates arbitrary configurations centered around Project, Subject, Visit, Study, Episode, and Acquisition objects, as well as limited information about data provenance. Effectively defining a hierarchy of relationships.\n",
      "\n",
      "It is ill-suited for modeling and querying across complex derived data created from many of today\u2019s workflow systems.\n"
     ]
    },
    {
     "cell_type": "markdown",
     "metadata": {
      "slideshow": {
       "slide_type": "subslide"
      }
     },
     "source": [
      "### Mappings\n",
      "\n",
      "\n",
      "- xcede:Project     -> prov:Activity (prov:type = nidm:Project)\n",
      "- xcede:Study       -> prov:Activity (prov:type = nidm:Study, dcterms:subpartOf = some_project)\n",
      "- xcede:Visit       -> prov:Activity (prov:type = nidm:Visit, dcterms:subpartOf = some_study)\n",
      "- xcede:Episode     -> prov:Activity (prov:type = nidm:Episod, dcterms:subpartOf = some_visit)\n",
      "- xcede:Acquisition -> prov:Activity (prov:type = nidm:Acquisition, dcterms:subpartOf = some_episode)\n"
     ]
    }
   ],
   "metadata": {}
  }
 ]
}