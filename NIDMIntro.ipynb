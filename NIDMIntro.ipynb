{
 "metadata": {
  "name": "NIDMIntro"
 },
 "nbformat": 3,
 "nbformat_minor": 0,
 "worksheets": [
  {
   "cells": [
    {
     "cell_type": "markdown",
     "metadata": {
      "slideshow": {
       "slide_type": "slide"
      }
     },
     "source": [
      "# NI-DM: A Summary in many parts\n",
      "\n",
      "## Part 1: Introduction to NI-DM\n",
      "\n",
      "[Latest version](https://github.com/INCF/ni-/notebooks/master/NIDMIntro.ipynb)"
     ]
    },
    {
     "cell_type": "markdown",
     "metadata": {
      "slideshow": {
       "slide_type": "slide"
      }
     },
     "source": [
      "## Summary\n",
      "\n",
      "This document provides an overview of the neuroimaging data model (NI-DM). It describes what led to the development of NI-DM, how it was derived from the W3C Provenance Data Model, and how it relates to other efforts to create metadata and other standards in brain imaging. In particular we note NI-DM's utility in context of other Semantic Web technologies. This document is a part of a collection of notebooks, which highlight the current work related to NI-DM and provide a tutorial introduction to creating and utilizing NI-DM applications."
     ]
    },
    {
     "cell_type": "markdown",
     "metadata": {
      "slideshow": {
       "slide_type": "slide"
      }
     },
     "source": [
      "## Outline\n",
      "\n",
      "- Terms used in this document\n",
      "- What is [PROV-DM](http://www.w3.org/TR/prov-dm/) and [NI-DM](http://nidm.nidash.org)?\n",
      "- Why NI-DM?\n",
      "- Object models in NI-DM?\n",
      "- NI-DM, XCEDE, LONI,  and related efforts\n",
      "    - Mapping [XCEDE](http://www.xcede.org/) \"experiment/research\" primitives to NI-DM\n",
      "    - LONI data and pipeline provenance\n",
      "    - Dataset schema\n",
      "- Should there be a minimal metadata standard?\n",
      "- NI-DM RFC1"
     ]
    },
    {
     "cell_type": "markdown",
     "metadata": {
      "slideshow": {
       "slide_type": "slide"
      }
     },
     "source": [
      "## Terms used in this document\n",
      "\n",
      "### data model\n",
      "\n",
      "A data model is an abstract conceptual formulation of information that explictly determines the structure of data and allows software and people to communicate and interpret data precisely. [ source: http://en.wikipedia.org/wiki/Data_model ]\n",
      "\n",
      "### provenance\n",
      "\n",
      "Provenance is information about entities, activities, and people involved in producing a piece of data or thing, which can be used to form assessments about its quality, reliability or trustworthiness."
     ]
    },
    {
     "cell_type": "markdown",
     "metadata": {
      "slideshow": {
       "slide_type": "slide"
      }
     },
     "source": [
      "## What is PROV-DM?\n",
      "\n",
      "[PROV-DM](http://www.w3.org/TR/prov-dm/) is the conceptual data model that forms a basis for the W3C provenance (PROV) [family of specifications](http://www.w3.org/2011/prov/wiki/WorkingDrafts).\n",
      "\n",
      "PROV-DM is organized in six components, respectively dealing with: (1) [entities and activities](http://www.w3.org/TR/prov-dm/#section-entity-activity), and the time at which they were created, used, or ended; (2) [derivations](http://www.w3.org/TR/prov-dm/#section-derivation) of entities from entities; (3) [agents](http://www.w3.org/TR/prov-dm/#section-agents-attribution-association-delegation) bearing responsibility for entities that were generated and activities that happened; (4) a notion of [bundle](http://www.w3.org/TR/prov-dm/#section-provenance-of-provnance), a mechanism to support provenance of provenance; (5) [properties to link entities](http://www.w3.org/TR/prov-dm/#section-prov-extended-mechanisms) that refer to the same thing; and, (6) [collections](http://www.w3.org/TR/prov-dm/#section-collections) forming a logical structure for its members.\n",
      "\n",
      "## What is NI-DM?\n",
      "\n",
      "NI-DM is formulated as a domain specific extension of PROV-DM. Currently, NI-DM maps identically to PROV-DM and domain extensions are captured as object models on top of PROV-DM."
     ]
    },
    {
     "cell_type": "markdown",
     "metadata": {
      "slideshow": {
       "slide_type": "subslide"
      }
     },
     "source": [
      "### Basic Provenance data model\n",
      "\n",
      "<img src=\"http://www.w3.org/TR/prov-o/diagrams/starting-points.svg\" />"
     ]
    },
    {
     "cell_type": "markdown",
     "metadata": {
      "slideshow": {
       "slide_type": "subslide"
      }
     },
     "source": [
      "### Extended provenance model\n",
      "\n",
      "<img src=\"http://www.w3.org/TR/2013/PR-prov-o-20130312/diagrams/expanded.svg\" />\n"
     ]
    },
    {
     "cell_type": "markdown",
     "metadata": {
      "slideshow": {
       "slide_type": "slide"
      }
     },
     "source": [
      "## Why NI-DM\n",
      "\n"
     ]
    },
    {
     "cell_type": "markdown",
     "metadata": {
      "slideshow": {
       "slide_type": "subslide"
      }
     },
     "source": [
      "### What are the advantages of using NI-DM\n",
      "\n",
      "- Provenance is not an afterthought\n",
      "- Terminology is important\n",
      "- PROV-DM is stable and a W3C recommendation at this point\n",
      "- Many tools are starting to support the model ()\n",
      "- Captures data and metadata (about entities, **activities** and agents) within the same context\n",
      "- Simplifies app development\n",
      "- Maps to Semantic Web tools allowing query federation\n",
      "\n",
      "### What are the disadvantages of using NI-DM\n",
      "\n",
      "- A new way of thinking about queries and computation\n",
      "- Requires extensive terminology\n",
      "- Current databases are not built for provenance\n",
      "- Current databases are very specifically structured\n",
      "- The transition will require resources, commitment and time"
     ]
    },
    {
     "cell_type": "markdown",
     "metadata": {
      "slideshow": {
       "slide_type": "slide"
      }
     },
     "source": [
      "### Capturing entity, activity, agent relations via NI-DM\n",
      "\n",
      "<img src=\"files/figures/nidmexample.png\" />"
     ]
    },
    {
     "cell_type": "markdown",
     "metadata": {
      "slideshow": {
       "slide_type": "slide"
      }
     },
     "source": [
      "## What is an object model?\n",
      "\n",
      "An object model represents a collection \"through which a program can examine and manipulate some specific parts of its world.\"\n",
      "\n",
      "## What are object models in NI-DM?\n",
      "\n",
      "In the context of NI-DM, object models capture specific relationships between [entities][entity] via [collections][collection] that reflect organization information derived from imaging files (e.g., DICOM, Nifti, MINC), directory structures (e.g., Freesurfer, OpenFMRI), phenotypic data (e.g., neuropsych assessments, csv files) and binary or text files (e.g., SPM.mat, Feat.fsf, aseg.stats). The models are associated with appropriate provenance.\n",
      "\n",
      "[entity]: http://www.w3.org/TR/prov-o/#Entity\n",
      "[collection]: http://www.w3.org/TR/prov-o/#Collections\n"
     ]
    },
    {
     "cell_type": "markdown",
     "metadata": {
      "slideshow": {
       "slide_type": "slide"
      }
     },
     "source": [
      "## Using the PROV API to construct object models\n",
      "\n",
      "We will demonstrate in separate notebooks how to encapsulate FreeSurfer directory structures and statistic files, and CSV files using the PROV API. Updated notebooks will be posted here."
     ]
    },
    {
     "cell_type": "markdown",
     "metadata": {
      "slideshow": {
       "slide_type": "slide"
      }
     },
     "source": [
      "### Mapping XCEDE primitives to NI-DM\n",
      "\n",
      "The XCEDE XML schema allows for storing information in the context of a flexible and extensible experiment hierarchy. \n",
      "\n",
      "It accommodates arbitrary configurations centered around Project, Subject, Visit, Study, Episode, and Acquisition objects, as well as limited information about data provenance. Effectively defining a hierarchy of relationships.\n",
      "\n",
      "It is ill-suited for modeling and querying across complex derived data created from many of today\u2019s workflow systems, including queries incorporating provenance.\n"
     ]
    },
    {
     "cell_type": "markdown",
     "metadata": {
      "slideshow": {
       "slide_type": "subslide"
      }
     },
     "source": [
      "### Mappings\n",
      "\n",
      "\n",
      "- xcede:Project     -> prov:Activity (prov:type = nidm:Project)\n",
      "- xcede:Study       -> prov:Activity (prov:type = nidm:Study, dcterms:subpartOf = some_project)\n",
      "- xcede:Visit       -> prov:Activity (prov:type = nidm:Visit, dcterms:subpartOf = some_study)\n",
      "- xcede:Episode     -> prov:Activity (prov:type = nidm:Episod, dcterms:subpartOf = some_visit)\n",
      "- xcede:Acquisition -> prov:Activity (prov:type = nidm:Acquisition, dcterms:subpartOf = some_episode)\n"
     ]
    }
   ],
   "metadata": {}
  }
 ]
}