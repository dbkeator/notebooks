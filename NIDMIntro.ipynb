{
 "metadata": {
  "name": "NIDMIntro"
 },
 "nbformat": 3,
 "nbformat_minor": 0,
 "worksheets": [
  {
   "cells": [
    {
     "cell_type": "markdown",
     "metadata": {
      "slideshow": {
       "slide_type": "slide"
      }
     },
     "source": [
      "# NI-DM: A Summary in many parts\n",
      "\n",
      "## Part 1: Introduction to NI-DM\n",
      "\n",
      "[Latest version][notebook] | [Latest slideshow][slideshow]\n",
      "\n",
      "[notebook]: http://nbviewer.ipython.org/urls/raw.github.com/ni-/notebooks/master/NIDMIntro.ipynb\n",
      "[slideshow]: http://slideviewer.herokuapp.com/url/raw.github.com/ni-/notebooks/master/NIDMIntro.ipynb\n",
      "\n",
      "(If viewing as slides, hit Esc to get an overview)"
     ]
    },
    {
     "cell_type": "markdown",
     "metadata": {
      "slideshow": {
       "slide_type": "slide"
      }
     },
     "source": [
      "## Summary\n",
      "\n",
      "This document provides an overview of the neuroimaging data model (NI-DM). It describes what led to the development of NI-DM, how it was derived from the W3C Provenance Data Model, and how it relates to other efforts to create metadata and other standards in brain imaging. In particular we note NI-DM's utility in context of other Semantic Web technologies. This document is a part of a collection of notebooks, which highlight the current work related to NI-DM and provide a tutorial introduction to creating and utilizing NI-DM applications."
     ]
    },
    {
     "cell_type": "markdown",
     "metadata": {
      "slideshow": {
       "slide_type": "slide"
      }
     },
     "source": [
      "## Outline\n",
      "\n",
      "- Terms used in this document\n",
      "- What is [PROV-DM](http://www.w3.org/TR/prov-dm/) and [NI-DM](http://nidm.nidash.org)?\n",
      "- Why NI-DM?\n",
      "- Object models in NI-DM?\n",
      "- NI-DM, XCEDE, LONI,  and related efforts\n",
      "    - Mapping [XCEDE](http://www.xcede.org/) \"experiment/research\" primitives to NI-DM\n",
      "    - LONI data and pipeline provenance\n",
      "    - Dataset schema\n",
      "- Should there be a minimal metadata standard?\n",
      "- Recommended reading"
     ]
    },
    {
     "cell_type": "markdown",
     "metadata": {
      "slideshow": {
       "slide_type": "slide"
      }
     },
     "source": [
      "## Terms used in this document\n",
      "\n",
      "### data model\n",
      "\n",
      "A data model is an abstract conceptual formulation of information that explictly determines the structure of data and allows software and people to communicate and interpret data precisely. [source](http://en.wikipedia.org/wiki/Data_model)\n",
      "\n",
      "### provenance\n",
      "\n",
      "Provenance is information about entities, activities, and people involved in producing a piece of data or thing, which can be used to form assessments about its quality, reliability or trustworthiness."
     ]
    },
    {
     "cell_type": "markdown",
     "metadata": {
      "slideshow": {
       "slide_type": "slide"
      }
     },
     "source": [
      "## What is PROV-DM?\n",
      "\n",
      "[PROV-DM](http://www.w3.org/TR/prov-dm/) is the conceptual data model that forms a basis for the W3C provenance (PROV) [family of specifications](http://www.w3.org/2011/prov/wiki/WorkingDrafts).\n",
      "\n",
      "PROV-DM is organized in six components, respectively dealing with: (1) [entities and activities](http://www.w3.org/TR/prov-dm/#section-entity-activity), and the time at which they were created, used, or ended; (2) [derivations](http://www.w3.org/TR/prov-dm/#section-derivation) of entities from entities; (3) [agents](http://www.w3.org/TR/prov-dm/#section-agents-attribution-association-delegation) bearing responsibility for entities that were generated and activities that happened; (4) a notion of [bundle](http://www.w3.org/TR/prov-dm/#section-provenance-of-provnance), a mechanism to support provenance of provenance; (5) [properties to link entities](http://www.w3.org/TR/prov-dm/#section-prov-extended-mechanisms) that refer to the same thing; and, (6) [collections](http://www.w3.org/TR/prov-dm/#section-collections) forming a logical structure for its members [Source: PROV-DM](http://www.w3.org/TR/prov-dm/).\n",
      "\n",
      "## What is NI-DM?\n",
      "\n",
      "NI-DM is formulated as a domain specific extension of PROV-DM to specifically and simultaneously address data and provenance in neuroimaging. Currently, NI-DM maps identically to PROV-DM and domain specific extensions are captured as object models on top of PROV-DM.\n",
      "\n",
      "PROV-DM (and therefore NI-DM) provides a generic basis that captures relationships associated creation and modification of entities by activities and agents. "
     ]
    },
    {
     "cell_type": "markdown",
     "metadata": {
      "slideshow": {
       "slide_type": "subslide"
      }
     },
     "source": [
      "### Basic Provenance data model\n",
      "\n",
      "<img src=\"http://www.w3.org/TR/prov-o/diagrams/starting-points.svg\" />"
     ]
    },
    {
     "cell_type": "markdown",
     "metadata": {
      "slideshow": {
       "slide_type": "subslide"
      }
     },
     "source": [
      "### Extended provenance model\n",
      "\n",
      "<img src=\"http://www.w3.org/TR/2013/PR-prov-o-20130312/diagrams/expanded.svg\" />\n"
     ]
    },
    {
     "cell_type": "markdown",
     "metadata": {
      "slideshow": {
       "slide_type": "slide"
      }
     },
     "source": [
      "## Why NI-DM\n",
      "\n",
      "NI-DM builds on the work done by the neuroimaging and neuroscience community on standards ([NIFTI1][nifti], [BIRN][birn] and [LONI][loni] - data and provenance, [MINC2][minc2] metadata, [Neurolex][nif], [Neurolog][neurolog]), Databases ([HID][hid], [XNAT][xnat]) and [Semantic Web and Linked Data][semweb] technologies. NI-DM is not a single isolated technology or effort.\n",
      "\n",
      "[nifti]: http://nifti.nimh.nih.gov/nifti-1\n",
      "[birn]: http://www.birncommunity.org/working-with-birn/working-groups/\n",
      "[loni]: http://www.loni.ucla.edu\n",
      "[minc2]: http://en.wikibooks.org/wiki/MINC/Reference/MINC2.0_File_Format_Reference\n",
      "[nif]: http://neurolex.org/wiki/Main_Page\n",
      "[neurolog]: http://neurolog.i3s.unice.fr/neurolog\n",
      "[hid]: http://www.birncommunity.org/tools-catalog/human-imaging-database-hid/\n",
      "[xnat]: http://xnat.org\n",
      "[semweb]: http://www.cambridgesemantics.com/semantic-university\n",
      "\n",
      "At this point NI-DM is a community effort led by the [INCF standards for datasharing taskforce][taskforce].\n",
      "\n",
      "[taskforce]: http://www.incf.org/programs/datasharing/neuroimaging-task-force\n",
      "\n",
      "NI-DM features:\n",
      "\n",
      "- Technology agnostic representation of information (can be translated to RDF/XML/JSON)\n",
      "- Machine-accessible structured representation of data\n",
      "- Federated queries using [SPARQL][sparql] when represented as RDF\n",
      "- Trust via provenance\n",
      "- Provides a vocabulary for encoding brain imaging data\n",
      "\n",
      "[sparql]: http://www.w3.org/TR/rdf-sparql-query/"
     ]
    },
    {
     "cell_type": "markdown",
     "metadata": {
      "slideshow": {
       "slide_type": "subslide"
      }
     },
     "source": [
      "### What are the advantages of using NI-DM\n",
      "\n",
      "- Provenance is not an afterthought\n",
      "- Rooted in formal terminology\n",
      "- Derived from PROV-DM, a stable W3C recommendation\n",
      "- Captures data and metadata (about entities, **activities** and agents) within the same context\n",
      "- Simplifies app development\n",
      "- Can be represented as RDF allowing query federation\n",
      "- Many different types of databases can be used to represent the data\n",
      "- Doesn't require specialized tools when publishing on the web\n",
      "\n",
      "### What are the disadvantages of using NI-DM\n",
      "\n",
      "- A new conceptual framework for brain imagers and database developers\n",
      "- Requires extensive terminology\n",
      "- Current databases are not built for provenance\n",
      "- Current tools are at an infancy\n",
      "- The transition will require resources, commitment and time"
     ]
    },
    {
     "cell_type": "markdown",
     "metadata": {
      "slideshow": {
       "slide_type": "subslide"
      }
     },
     "source": [
      "### Capturing entity, activity, agent relations via NI-DM\n",
      "\n",
      "<img src=\"https://raw.github.com/satra/nidm-notebooks/77315de422b78f60dcf005f47307361b45ec63c0/figures/nidmexample.png\" />"
     ]
    },
    {
     "cell_type": "markdown",
     "metadata": {
      "slideshow": {
       "slide_type": "slide"
      }
     },
     "source": [
      "## What is an object model?\n",
      "\n",
      "An object model represents a collection \"through which a program can examine and manipulate some specific parts of its world.\"\n",
      "\n",
      "## What are object models in NI-DM?\n",
      "\n",
      "In the context of NI-DM, object models capture specific relationships between [entities][entity] via [collections][collection] that reflect organized information derived from:\n",
      "\n",
      "- binary imaging files (e.g., DICOM, Nifti, MINC)\n",
      "- directory structures (e.g., Freesurfer, OpenFMRI)\n",
      "- phenotypic data (e.g., neuropsych assessments, csv files)\n",
      "- binary or text files (e.g., SPM.mat, Feat.fsf, aseg.stats). \n",
      "\n",
      "The models are associated with appropriate provenance.\n",
      "\n",
      "[entity]: http://www.w3.org/TR/prov-o/#Entity\n",
      "[collection]: http://www.w3.org/TR/prov-o/#Collections\n"
     ]
    },
    {
     "cell_type": "markdown",
     "metadata": {
      "slideshow": {
       "slide_type": "subslide"
      }
     },
     "source": [
      "## Using the PROV API to construct object models\n",
      "\n",
      "We will demonstrate in separate notebooks how to encapsulate FreeSurfer directory structures and statistic files, and CSV files using the PROV API. Updated notebooks will be posted here."
     ]
    },
    {
     "cell_type": "markdown",
     "metadata": {
      "slideshow": {
       "slide_type": "slide"
      }
     },
     "source": [
      "## NI-DM, XCEDE, LONI and related efforts\n",
      "\n",
      "Many prior efforts have targeted representing structured information. Here we highlight a few different components.\n",
      "\n",
      "- [XCEDE][xcede] is a schema for capturing rich description associated with a \n",
      "- [LONI data][lonidata] and [pipeline provenance][lonipipe] schemas capture information about data and workflow provenance\n",
      "- Dataset schemas (e.g., [Dataset][dataset], [Void][void]) are generic schemas to provide some information about  arbitrary datasets on the web.\n",
      "\n",
      "[xcede]: http://www.xcede.org/\n",
      "[lonidata]: http://www.loni.ucla.edu/~pipeline/provenance.xsd\n",
      "[lonipipe]: http://www.loni.ucla.edu/~pipeline/pipeline_xsd.xsd\n",
      "[dataset]: http://schema.org/Dataset\n",
      "[void]: http://www.w3.org/TR/void/\n",
      "\n",
      "Since a key aspect of NI-DM is to build on existing technologies, we will extract relevant terminology and descriptors from the prior neuroimaging data representation and provenance efforts.\n"
     ]
    },
    {
     "cell_type": "markdown",
     "metadata": {
      "slideshow": {
       "slide_type": "slide"
      }
     },
     "source": [
      "### Mapping XCEDE primitives to NI-DM\n",
      "\n",
      "The XCEDE XML schema allows for storing information in the context of a flexible and extensible experiment hierarchy. \n",
      "\n",
      "It accommodates arbitrary configurations centered around Project, Subject, Visit, Study, Episode, and Acquisition objects, as well as limited information about data provenance. Effectively defining a hierarchy of relationships.\n",
      "\n",
      "It is ill-suited for modeling and querying across complex derived data created from many of today\u2019s workflow systems, including queries incorporating provenance.\n",
      "\n",
      "### Mappings\n",
      "\n",
      "These are prototype mappings from XCEDE categories to NI-DM classes\n",
      "\n",
      "- xcede:Project     -> prov:Activity (prov:type = nidm:Project)\n",
      "- xcede:Study       -> prov:Activity (prov:type = nidm:Study, dcterms:subpartOf = some_project)\n",
      "- xcede:Visit       -> prov:Activity (prov:type = nidm:Visit, dcterms:subpartOf = some_study)\n",
      "- xcede:Episode     -> prov:Activity (prov:type = nidm:Episode, dcterms:subpartOf = some_visit)\n",
      "- xcede:Acquisition -> prov:Activity (prov:type = nidm:Acquisition, dcterms:subpartOf = some_episode)"
     ]
    },
    {
     "cell_type": "markdown",
     "metadata": {
      "slideshow": {
       "slide_type": "slide"
      }
     },
     "source": [
      "## Should there be a minimal metadata standard?\n",
      "\n",
      "### Yes\n",
      "- Guides developers and users to know exactly what should be encoded\n",
      "- Very useful when most information are informal\n",
      "- Potentially useful when information is sensitive\n",
      "\n",
      "### No\n",
      "- Most neuroimaging data are already digital (all info should be encoded)\n",
      "- Sensitive information can be encrypted\n",
      "- Most workflow tools are software and therefore should encode all steps"
     ]
    },
    {
     "cell_type": "markdown",
     "metadata": {
      "slideshow": {
       "slide_type": "subslide"
      }
     },
     "source": [
      "### What should be captured?\n",
      "\n",
      "What is really required is not a minimal standard but a set of electronic data capture tools. In brain imaging, electronic data capture can perform all the necessary encoding and software and libraries can enable users and developers to quickly encode all the necessary information. The necessary components are:\n",
      "\n",
      "- Raw data:\n",
      "    - DICOM or NIFTI + DICOM DUMP\n",
      "    - Imaging protocols (if not encoded in DICOM)\n",
      "    - Stimuli\n",
      "    - Behavioral responses\n",
      "    - Neuropsych or other assessments\n",
      "- Analyses and software\n",
      "    - Stimulus Presentation software\n",
      "    - Analysis software (processing, statistical analysis, figure generation)\n",
      "    - Provenance\n",
      "- Derived data\n",
      "    - Statistical results\n",
      "    - Tables\n",
      "    - Figures\n",
      "- Research info\n",
      "    - Prior literature\n",
      "    - Hypotheses\n",
      "    - Related work\n",
      "    - Publications\n",
      "    - Funding\n",
      "    - Contributions\n",
      "\n",
      "Whether these are represented as [Research objects][RO] or [provenance bundles][bundles], they represent the necessary information that can and should be captured.\n",
      "\n",
      "[RO]: http://www.wf4ever-project.org/research-object-model\n",
      "[bundles]: http://www.w3.org/TR/2013/REC-prov-o-20130430/#Bundle"
     ]
    },
    {
     "cell_type": "markdown",
     "metadata": {
      "slideshow": {
       "slide_type": "slide"
      }
     },
     "source": [
      "## Recommended reading\n",
      "\n",
      "- [Intro to semantic web concepts](http://www.cambridgesemantics.com/semantic-university)\n",
      "- [PROV Overview](http://www.w3.org/TR/prov-overview/)\n",
      "- [Research objects](http://www.wf4ever-project.org/research-object-model)\n",
      "- [KARMA](http://www.isi.edu/integration/papers/gil11-iswc.pdf)\n"
     ]
    }
   ],
   "metadata": {}
  }
 ]
}