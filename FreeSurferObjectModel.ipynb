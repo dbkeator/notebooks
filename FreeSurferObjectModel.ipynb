{
 "metadata": {
  "name": "FreeSurferObjectModel"
 },
 "nbformat": 3,
 "nbformat_minor": 0,
 "worksheets": [
  {
   "cells": [
    {
     "cell_type": "markdown",
     "metadata": {
      "slideshow": {
       "slide_type": "slide"
      }
     },
     "source": [
      "# NI-DM: A Summary in many parts\n",
      "\n",
      "## Part 3: Constructing and Querying FreeSurfer Object Models\n",
      "\n",
      "[Latest version][notebook] | [Latest slideshow][slideshow]\n",
      "\n",
      "[notebook]: http://nbviewer.ipython.org/urls/raw.github.com/ni-/notebooks/master/FreeSurferObjectModel.ipynb\n",
      "[slideshow]: http://slideviewer.herokuapp.com/url/raw.github.com/ni-/notebooks/master/FreeSurferObjectModel.ipynb"
     ]
    },
    {
     "cell_type": "markdown",
     "metadata": {
      "slideshow": {
       "slide_type": "slide"
      }
     },
     "source": [
      "## Outline\n",
      "\n",
      "- Using the [PROV Python library](https://github.com/trungdong/prov) to construct FreeSurfer object models\n",
      "- Querying FreeSurfer object models with [SPARQL](http://www.w3.org/TR/rdf-sparql-query/) using a [triplestore](http://en.wikipedia.org/wiki/Triplestore)"
     ]
    },
    {
     "cell_type": "markdown",
     "metadata": {
      "slideshow": {
       "slide_type": "slide"
      }
     },
     "source": [
      "## Using the PROV API to construct FreeSurfer object models\n",
      "\n",
      "We will demonstrate how to encapsulate FreeSurfer directory structures and statistic files"
     ]
    },
    {
     "cell_type": "markdown",
     "metadata": {
      "slideshow": {
       "slide_type": "subslide"
      }
     },
     "source": [
      "### Model 1: FreeSurfer Directory structure\n",
      "\n",
      "The FreeSurfer output results from a recon-all process that involves several steps. The goal here is to take the directory structure and represent it as a collection of entities, where each entity is a file produced by the recon-all process. In the ideal mode, the recon-all process itself would generate the provenance and the collection of entities. But here we generate the NI-DM encoding of FreeSurfer directories by walking FreeSurfer directories and applying heuristic properties.\n",
      "\n",
      "For demonstration purposes, we automatically generated terms based on file/directory naming conventions, and assossate these terms with an example FreeSurfer namespace [http://freesurfer.net/fswiki/terms/0.1/]. This namespace is only a placeholder; however, the developers of a given neuroimaging software package (e.g., FreeSurfer) are responsible for managing a namespace that resolves to a vocabulary that describes their NI-DM object model. The best practice is to provide a URL accessible [RDF](http://www.w3.org/RDF/) representation of the terms in this namespace along with definitions for each term.\n",
      "\n",
      "Some example terms are:\n",
      "    \n",
      "    - fs:subject_id : a participant identifier\n",
      "    - fs:relative_path : location of file from the root of the subject directory structure\n",
      "\n",
      "note: `fs:` is a namespace prefix that allows for a shorthand notation of the full URI (e.g., `http://freesurfer.net/fswiki/terms/0.1/subject_id`) "
     ]
    },
    {
     "cell_type": "markdown",
     "metadata": {
      "slideshow": {
       "slide_type": "subslide"
      }
     },
     "source": [
      "#### Import necessary tools and create namespaces\n",
      "\n",
      "This example uses the PROV Python library\n",
      "\n",
      "    - PROV: https://github.com/trungdong/prov"
     ]
    },
    {
     "cell_type": "code",
     "collapsed": false,
     "input": [
      "# standard library\n",
      "import os\n",
      "import md5\n",
      "from socket import getfqdn\n",
      "\n",
      "# PROV API library\n",
      "import prov.model as prov\n",
      "\n",
      "def hash_infile(afile, chunk_len=8192):\n",
      "    \"\"\" Computes md5 hash of a file\"\"\"\n",
      "    md5hex = None\n",
      "    if os.path.isfile(afile):\n",
      "        md5obj = md5.md5()\n",
      "        fp = file(afile, 'rb')\n",
      "        while True:\n",
      "            data = fp.read(chunk_len)\n",
      "            if not data:\n",
      "                break\n",
      "            md5obj.update(data)\n",
      "        fp.close()\n",
      "        md5hex = md5obj.hexdigest()\n",
      "    return md5hex\n",
      "\n",
      "# create namespace references to terms used\n",
      "foaf = prov.Namespace(\"foaf\", \"http://xmlns.com/foaf/0.1/\")\n",
      "dcterms = prov.Namespace(\"dcterms\", \"http://purl.org/dc/terms/\")\n",
      "fs = prov.Namespace(\"fs\", \"http://freesurfer.net/fswiki/terms/0.1/\")\n",
      "nidm = prov.Namespace(\"nidm\", \"http://nidm.nidash.org/terms/0.1/\")\n",
      "niiri = prov.Namespace(\"niiri\", \"http://nidm.nidash.org/iri/\")\n",
      "obo = prov.Namespace(\"obo\", \"http://purl.obolibrary.org/obo/\")\n",
      "nif = prov.Namespace(\"nif\", \"http://neurolex.org/wiki/\")"
     ],
     "language": "python",
     "metadata": {
      "slideshow": {
       "slide_type": "subslide"
      }
     },
     "outputs": []
    },
    {
     "cell_type": "markdown",
     "metadata": {
      "slideshow": {
       "slide_type": "subslide"
      }
     },
     "source": [
      "### Define a function that creates a NI-DM Entity for a freesurfer file"
     ]
    },
    {
     "cell_type": "code",
     "collapsed": false,
     "input": [
      "sdir = os.path.join(os.environ['FREESURFER_HOME'], 'subjects', 'bert/')\n",
      "for dirpath, dirnames, filenames in os.walk(sdir):\n",
      "    for filename in sorted(filenames):\n",
      "        print os.path.join(dirpath, filename).replace(sdir, '')"
     ],
     "language": "python",
     "metadata": {},
     "outputs": []
    },
    {
     "cell_type": "markdown",
     "metadata": {
      "slideshow": {
       "slide_type": "subslide"
      }
     },
     "source": [
      "### Create map from FreeSurfer terms to ontology-based vocabularies\n",
      "\n",
      "This is a temporary association of filenames in freesurfer directories"
     ]
    },
    {
     "cell_type": "code",
     "collapsed": false,
     "input": [
      "# map FreeSurfer filename parts\n",
      "fs_file_map =  [('T1', [nif[\"nlx_inv_20090243\"]]), #3d T1 weighted scan\n",
      "                ('lh', [obo[\"UBERON_0002812\"]]), #left cerebral hemisphere\n",
      "                ('rh', [obo[\"UBERON_0002813\"]]), # right cerebral hemisphere\n",
      "                ('BA.', [obo[\"UBERON_0013529\"]]), #Brodmann area\n",
      "                ('BA1.', [obo[\"UBERON_0006099\"]]), #Brodmann area 1\n",
      "                ('BA2.', [obo[\"UBERON_0013533\"]]), #Brodmann area 2\n",
      "                ('BA3a.', [obo[\"UBERON_0006100\"], #Brodmann area 3a\n",
      "                           obo[\"FMA_74532\"]]), #anterior\n",
      "                ('BA3b.', [obo[\"UBERON_0006100\"], #Brodmann area 3b\n",
      "                           obo[\"FMA_74533\"]]), #posterior\n",
      "                ('BA44.', [obo[\"UBERON_0006481\"]]), #Brodmann area 44\n",
      "                ('BA45.', [obo[\"UBERON_0006482\"]]), #Brodmann area 45\n",
      "                ('BA4a.', [obo[\"UBERON_0013535\"], #Brodmann area 4a\n",
      "                           obo[\"FMA_74532\"]]), #anterior\n",
      "                ('BA4p.', [obo[\"UBERON_0013535\"], #Brodmann area 4p\n",
      "                           obo[\"FMA_74533\"]]), #posterior\n",
      "                ('BA6.', [obo[\"UBERON_0006472\"]]), #Brodmann area 6\n",
      "                ('V1.', [obo[\"UBERON_0002436\"]]),\n",
      "                ('V2.', [obo[\"UBERON_0006473\"]]),\n",
      "                ('MT', [fs[\"MT_area\"]]),\n",
      "                ('entorhinal', [obo[\"UBERON_0002728\"]]),\n",
      "                ('exvivo', [fs[\"exvivo\"]]),\n",
      "                ('label', [fs[\"label_file\"]]),\n",
      "                ('annot', [fs[\"annotation_file\"]]),\n",
      "                ('cortex', [obo[\"UBERON_0000956\"]]),\n",
      "                ('.stats', [fs[\"statistic_file\"]]),\n",
      "                ('aparc.annot', [fs[\"default_parcellation\"]]),\n",
      "                ('aparc.a2009s', [fs[\"a2009s_parcellation\"]]),\n",
      "                ('.ctab', [fs[\"color_table\"]]),\n",
      "               ]\n",
      "\n",
      "# files or directories that should be ignored\n",
      "ignore_list = ['bak', 'src', 'tmp', 'trash', 'touch']"
     ],
     "language": "python",
     "metadata": {},
     "outputs": []
    },
    {
     "cell_type": "markdown",
     "metadata": {
      "slideshow": {
       "slide_type": "subslide"
      }
     },
     "source": [
      "### Convert a file location to a NI-DM entity"
     ]
    },
    {
     "cell_type": "code",
     "collapsed": false,
     "input": [
      "def create_entity(graph, fs_subject_id, filepath):\n",
      "    \"\"\" Create a PROV entity for a file in a FreeSurfer directory\n",
      "    \"\"\"\n",
      "    # identify FreeSurfer terms based on directory and file names\n",
      "    _, filename = os.path.split(filepath)\n",
      "    relpath = filepath.split(fs_subject_id)[1].lstrip(os.path.sep)\n",
      "    fstypes = relpath.split('/')[:-1]\n",
      "    additional_types = relpath.split('/')[-1].split('.')\n",
      "    \n",
      "    file_md5_hash = hash_infile(filepath)\n",
      "    if file_md5_hash is None:\n",
      "        print fullpath\n",
      "\n",
      "    url = \"file://%s%s\" % (getfqdn(), filepath)\n",
      "    url_get = prov.URIRef(\"http://computor.mit.edu:10101/file?file_uri=%s\" % url)\n",
      "    # build a NI-DM object \n",
      "    obj_attr = [(prov.PROV[\"label\"], filename),\n",
      "                (fs[\"relative_path\"], \"%s\" % relpath),\n",
      "                (prov.PROV[\"location\"], url_get),\n",
      "                (obo[\"MS_1000568\"], \"%s\" % file_md5_hash),\n",
      "               ]\n",
      "\n",
      "    for key in fstypes:\n",
      "        obj_attr.append((nidm[\"tag\"], key))\n",
      "    for key in additional_types:\n",
      "        obj_attr.append((nidm[\"tag\"], key))\n",
      "\n",
      "    for key, uris in fs_file_map:\n",
      "        if key in filename:\n",
      "            if key.rstrip('.').lstrip('.') not in fstypes + additional_types:\n",
      "                obj_attr.append((nidm[\"tag\"], key.rstrip('.').lstrip('.')))\n",
      "            for uri in uris:\n",
      "                obj_attr.append((prov.PROV[\"type\"], uri))\n",
      "    id = md5.new(fs_subject_id + relpath + file_md5_hash).hexdigest()\n",
      "    return graph.entity(niiri[id], obj_attr)"
     ],
     "language": "python",
     "metadata": {
      "slideshow": {
       "slide_type": "-"
      }
     },
     "outputs": []
    },
    {
     "cell_type": "markdown",
     "metadata": {
      "slideshow": {
       "slide_type": "subslide"
      }
     },
     "source": [
      "### Example of converting single files"
     ]
    },
    {
     "cell_type": "code",
     "collapsed": false,
     "input": [
      "g = prov.ProvBundle()\n",
      "e1 = create_entity(g, \"bert\", os.path.join(sdir, \"mri/T1.mgz\"))\n",
      "e2 = create_entity(g, \"bert\", os.path.join(sdir, \"label/lh.BA6.label\"))\n",
      "fsdir_collection = g.collection(niiri['foo'])\n",
      "g.hadMember(fsdir_collection, e1)\n",
      "print g.rdf().serialize(format='turtle')"
     ],
     "language": "python",
     "metadata": {},
     "outputs": []
    },
    {
     "cell_type": "markdown",
     "metadata": {},
     "source": [
      "Print the PROV-N notation for an entity"
     ]
    },
    {
     "cell_type": "code",
     "collapsed": false,
     "input": [
      "print(e1.get_provn())"
     ],
     "language": "python",
     "metadata": {},
     "outputs": []
    },
    {
     "cell_type": "markdown",
     "metadata": {},
     "source": [
      "Print Turtle output for the entity"
     ]
    },
    {
     "cell_type": "code",
     "collapsed": false,
     "input": [
      "print(e1.rdf().serialize(format='turtle'))"
     ],
     "language": "python",
     "metadata": {},
     "outputs": []
    },
    {
     "cell_type": "markdown",
     "metadata": {
      "slideshow": {
       "slide_type": "subslide"
      }
     },
     "source": [
      "### Explore object references\n",
      "\n"
     ]
    },
    {
     "cell_type": "code",
     "collapsed": false,
     "input": [
      "print nif.get_uri() + 'nlx_inv_20090243'\n",
      "print obo.get_uri() + 'MS_1000568'\n",
      "print niiri.get_uri() + '1cb78d63583c319e68646a4fa5d2d68e'"
     ],
     "language": "python",
     "metadata": {},
     "outputs": []
    },
    {
     "cell_type": "code",
     "collapsed": false,
     "input": [
      "print e2.get_provn()"
     ],
     "language": "python",
     "metadata": {},
     "outputs": []
    },
    {
     "cell_type": "markdown",
     "metadata": {
      "slideshow": {
       "slide_type": "subslide"
      }
     },
     "source": [
      "### Terms introduced\n",
      "\n",
      "fs namespace\n",
      "\n",
      "    - relative_path\n",
      "    - statistics\n",
      "    - MT_area\n",
      "    - exvivo\n",
      "    - label_file\n",
      "    - annotation_file\n",
      "    - statistic_file\n",
      "    - default_parcellation\n",
      "    - a2009s_parcellation\n",
      "    - color_table\n",
      "\n",
      "nidm namespace\n",
      "\n",
      "    - tag\n"
     ]
    },
    {
     "cell_type": "markdown",
     "metadata": {
      "slideshow": {
       "slide_type": "subslide"
      }
     },
     "source": [
      "### Define a function that manages creating a NI-DM FreeSurfer object"
     ]
    },
    {
     "cell_type": "code",
     "collapsed": false,
     "input": [
      "def encode_fs_directory(g, basedir, project_id, subject_id, n_items=100000):\n",
      "    \"\"\" Convert a FreeSurfer directory to a PROV graph\n",
      "    \"\"\"\n",
      "    # directory collection/catalog\n",
      "    collection_hash = md5.new(project_id + ':' + subject_id).hexdigest()\n",
      "    fsdir_collection = g.collection(niiri[collection_hash])\n",
      "    fsdir_collection.add_extra_attributes({prov.PROV['type']: fs['subject_directory'], \n",
      "                                           fs['subject_id']: subject_id})\n",
      "    i = 0;\n",
      "    for dirpath, dirnames, filenames in os.walk(os.path.realpath(basedir)):\n",
      "        for filename in sorted(filenames):\n",
      "            if filename.startswith('.'):\n",
      "                continue\n",
      "            i +=1 \n",
      "            if i > n_items:\n",
      "                break\n",
      "            file2encode = os.path.realpath(os.path.join(dirpath, filename))\n",
      "            if not os.path.isfile(file2encode):\n",
      "                print \"%s not a file\" % file2encode\n",
      "                continue\n",
      "            ignore_key_found = False\n",
      "            for key in ignore_list:\n",
      "                if key in file2encode:\n",
      "                    ignore_key_found = True\n",
      "                    continue\n",
      "            if ignore_key_found:\n",
      "                continue\n",
      "            try:\n",
      "                entity = create_entity(g, subject_id, file2encode)\n",
      "                g.hadMember(fsdir_collection, entity.get_identifier())\n",
      "            except IOError, e:\n",
      "                print e\n",
      "    return g"
     ],
     "language": "python",
     "metadata": {
      "slideshow": {
       "slide_type": "-"
      }
     },
     "outputs": []
    },
    {
     "cell_type": "markdown",
     "metadata": {},
     "source": [
      "### Terms introduced\n",
      "\n",
      "fs namespace\n",
      "\n",
      "    - subject_id\n",
      "    - subject_directory"
     ]
    },
    {
     "cell_type": "markdown",
     "metadata": {
      "slideshow": {
       "slide_type": "subslide"
      }
     },
     "source": [
      "### Example of generating a NI-DM FreeSurfer Object\n",
      "\n",
      "This example demonstrates the conversion from [PROV Notation](http://www.w3.org/TR/prov-n/) to RDF. This can also be achieved using the [ProvToolBox](https://github.com/lucmoreau/ProvToolbox), which provides a command line utility for serializing PROV to different syntaxes."
     ]
    },
    {
     "cell_type": "code",
     "collapsed": false,
     "input": [
      "# location of FreeSurfer $SUBJECTS_DIR\n",
      "basedir = sdir \n",
      "subject_id = 'bert'\n",
      "project_id = 'nidm'\n",
      "filename = 'bert.provn'\n",
      "filename_ttl = 'bert.ttl'\n",
      "\n",
      "from subprocess import Popen, PIPE\n",
      "\n",
      "# location of the ProvToolBox commandline conversion utility\n",
      "graph = prov.ProvBundle()\n",
      "graph.add_namespace(foaf)\n",
      "graph.add_namespace(dcterms)\n",
      "graph.add_namespace(fs)\n",
      "graph.add_namespace(nidm)\n",
      "graph.add_namespace(niiri)\n",
      "graph.add_namespace(obo)\n",
      "graph.add_namespace(nif)\n",
      "\n",
      "graph = encode_fs_directory(graph, basedir, project_id, subject_id)\n",
      "with open(filename, 'wt') as fp:\n",
      "    fp.writelines(graph.get_provn())\n",
      "graph.rdf().serialize(filename_ttl, format='turtle')"
     ],
     "language": "python",
     "metadata": {
      "slideshow": {
       "slide_type": "-"
      }
     },
     "outputs": []
    },
    {
     "cell_type": "code",
     "collapsed": false,
     "input": [
      "cat bert.provn"
     ],
     "language": "python",
     "metadata": {
      "slideshow": {
       "slide_type": "subslide"
      }
     },
     "outputs": []
    },
    {
     "cell_type": "code",
     "collapsed": false,
     "input": [
      "cat bert.ttl"
     ],
     "language": "python",
     "metadata": {},
     "outputs": []
    },
    {
     "cell_type": "markdown",
     "metadata": {
      "slideshow": {
       "slide_type": "slide"
      }
     },
     "source": [
      "## Send rdf to a remote triplestore"
     ]
    },
    {
     "cell_type": "code",
     "collapsed": false,
     "input": [
      "# !curl -T bert.provn.ttl http://bips.incf.org:8890/DAV/home/demo/rdf_sink -u demo:demo"
     ],
     "language": "python",
     "metadata": {},
     "outputs": []
    },
    {
     "cell_type": "markdown",
     "metadata": {
      "slideshow": {
       "slide_type": "slide"
      }
     },
     "source": [
      "## Querying FreeSurferobject models with SPARQL using a triplestore\n",
      "\n",
      "In this section we will show example SPARQL queries that access a triplestore containing FreeSurfer object models."
     ]
    },
    {
     "cell_type": "code",
     "collapsed": false,
     "input": [
      "import rdflib as rdf\n",
      "g = rdf.graph.Graph()\n",
      "g.parse(filename_ttl, format='turtle')\n",
      "\n",
      "query = \"\"\"\n",
      "PREFIX prov: <http://www.w3.org/ns/prov#>\n",
      "PREFIX obo: <http://purl.obolibrary.org/obo/>\n",
      "PREFIX foaf: <http://xmlns.com/foaf/0.1/>\n",
      "PREFIX fs: <http://freesurfer.net/fswiki/terms/0.1/>\n",
      "PREFIX nidm: <http://nidm.nidash.org/terms/0.1/>\n",
      "PREFIX niiri: <http://nidm.nidash.org/iri/>\n",
      "PREFIX nif: <http://neurolex.org/wiki/>\n",
      "PREFIX dcterms: <http://purl.org/dc/terms/>\n",
      "\n",
      "SELECT ?s ?label\n",
      "WHERE { ?c fs:subject_id ?s .\n",
      "        ?c prov:hadMember ?e .\n",
      "        ?e prov:label ?label .\n",
      "        ?e a nif:nlx_inv_20090243 .}\n",
      "\"\"\"\n",
      "\n",
      "results = g.query(query)\n",
      "\n",
      "for row in results:\n",
      "    print([e for e in row])"
     ],
     "language": "python",
     "metadata": {},
     "outputs": []
    },
    {
     "cell_type": "code",
     "collapsed": false,
     "input": [
      "query = \"\"\"\n",
      "PREFIX prov: <http://www.w3.org/ns/prov#>\n",
      "PREFIX obo: <http://purl.obolibrary.org/obo/>\n",
      "PREFIX foaf: <http://xmlns.com/foaf/0.1/>\n",
      "PREFIX fs: <http://freesurfer.net/fswiki/terms/0.1/>\n",
      "PREFIX nidm: <http://nidm.nidash.org/terms/0.1/>\n",
      "PREFIX niiri: <http://nidm.nidash.org/iri/>\n",
      "PREFIX nif: <http://neurolex.org/wiki/>\n",
      "PREFIX dcterms: <http://purl.org/dc/terms/>\n",
      "\n",
      "SELECT ?s ?label\n",
      "WHERE { ?c fs:subject_id ?s .\n",
      "        ?c prov:hadMember ?e .\n",
      "        ?e prov:label ?label .\n",
      "        FILTER regex(?label, \"BA\")}\n",
      "\n",
      "\"\"\"\n",
      "\n",
      "results = g.query(query)\n",
      "\n",
      "for row in results:\n",
      "    print([e for e in row])"
     ],
     "language": "python",
     "metadata": {},
     "outputs": []
    },
    {
     "cell_type": "code",
     "collapsed": false,
     "input": [
      "query = \"\"\"\n",
      "PREFIX prov: <http://www.w3.org/ns/prov#>\n",
      "PREFIX obo: <http://purl.obolibrary.org/obo/>\n",
      "PREFIX foaf: <http://xmlns.com/foaf/0.1/>\n",
      "PREFIX fs: <http://freesurfer.net/fswiki/terms/0.1/>\n",
      "PREFIX nidm: <http://nidm.nidash.org/terms/0.1/>\n",
      "PREFIX niiri: <http://nidm.nidash.org/iri/>\n",
      "PREFIX nif: <http://neurolex.org/wiki/>\n",
      "PREFIX dcterms: <http://purl.org/dc/terms/>\n",
      "\n",
      "SELECT ?s ?label\n",
      "WHERE { ?c fs:subject_id ?s .\n",
      "        ?c prov:hadMember ?e .\n",
      "        ?e prov:label ?label .\n",
      "        ?e a obo:UBERON_0013529 .}\n",
      "\n",
      "\"\"\"\n",
      "\n",
      "results = g.query(query)\n",
      "\n",
      "for row in results:\n",
      "    print([e for e in row])"
     ],
     "language": "python",
     "metadata": {},
     "outputs": []
    },
    {
     "cell_type": "markdown",
     "metadata": {},
     "source": [
      "# FreeSurfer terms dictionary\n",
      "\n",
      "```\n",
      "    @prefix rdf: <http://www.w3.org/1999/02/22-rdf-syntax-ns#> .\n",
      "    @prefix owl: <http://www.w3.org/2002/07/owl#> .\n",
      "    @prefix skos: <http://www.w3.org/2004/02/skos/core#> .\n",
      "    @prefix dcam: <http://purl.org/dc/dcam/> .\n",
      "    @prefix dcterms: <http://purl.org/dc/terms/> .\n",
      "    @prefix rdfs: <http://www.w3.org/2000/01/rdf-schema#> .\n",
      "    @prefix fs: <http://freesurfer.net/fswiki/terms/0.1/> .\n",
      "    \n",
      "    <http://freesurfer.net/fswiki/terms/0.1/>\n",
      "        dcterms:modified \"2013-06-05\"^^<http://www.w3.org/2001/XMLSchema#date> ;\n",
      "        dcterms:title \"FreeSurfer Metadata Terms\"@en .\n",
      "    \n",
      "    fs:subject_id\n",
      "        dcterms:description \"An identifier of MRI dataset processed through freesurfer\"@en ;\n",
      "        dcterms:issued \"2013-06-05\"^^<http://www.w3.org/2001/XMLSchema#date> ;\n",
      "        a nidm:ParticipantID;\n",
      "        rdfs:comment \"A directory within FreeSurfer SUBJECTS_DIR\"@en ;\n",
      "        rdfs:isDefinedBy <http://freesurfer.net/fswiki/terms/0.1/> ;\n",
      "        rdfs:label \"Subject identifier\"@en .\n",
      "    fs:relative_path \n",
      "        dcterms:description \"Location of file from the root of the subject directory structure\"@en ;\n",
      "        dcterms:issued \"2013-06-05\"^^<http://www.w3.org/2001/XMLSchema#date> ;\n",
      "        a nidm:annotation;\n",
      "        rdfs:comment \"Location of file from the root of the subject directory structure\"@en ;\n",
      "        rdfs:isDefinedBy <http://freesurfer.net/fswiki/terms/0.1/> ;\n",
      "        rdfs:label \"Relative Path\"@en .\n",
      "```\n",
      "\n",
      "Terms still to encode:\n",
      "\n",
      "    - statistics\n",
      "    - MT_area\n",
      "    - exvivo\n",
      "    - label_file\n",
      "    - annotation_file\n",
      "    - statistic_file\n",
      "    - default_parcellation\n",
      "    - a2009s_parcellation\n",
      "    - color_table\n",
      "    - subject_directory\n"
     ]
    },
    {
     "cell_type": "code",
     "collapsed": false,
     "input": [],
     "language": "python",
     "metadata": {},
     "outputs": []
    },
    {
     "cell_type": "code",
     "collapsed": false,
     "input": [],
     "language": "python",
     "metadata": {},
     "outputs": []
    }
   ],
   "metadata": {}
  }
 ]
}