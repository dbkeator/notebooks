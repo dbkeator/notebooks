{
 "metadata": {
  "celltoolbar": "Slideshow",
  "name": "",
  "signature": "sha256:bd380c4434d4778b21a6c83fdb1fd4092b4bb9c1c8335b285052302cb1b21a41"
 },
 "nbformat": 3,
 "nbformat_minor": 0,
 "worksheets": [
  {
   "cells": [
    {
     "cell_type": "markdown",
     "metadata": {
      "slideshow": {
       "slide_type": "slide"
      }
     },
     "source": [
      "# NIDASH Database Shims \n",
      "### An example using XNAT \n",
      "\n",
      "INCF NIDASH Working Group\n",
      "\n",
      "\n",
      "Nolan Nichols nolan.nichols@gmail.com"
     ]
    },
    {
     "cell_type": "markdown",
     "metadata": {
      "slideshow": {
       "slide_type": "slide"
      }
     },
     "source": [
      "# Scenario\n",
      "\n",
      "- Researchers increasingly rely on access to shared neuroimaging data\n",
      "- Data is shared through a number of initiatives, each with their own data managment system\n",
      "- Each data managment system defines its own schema and terms, but express similar types of information\n",
      "- Researchers accessing each multiple systems must do so manually and learn each interface\n",
      "- There is a need to index and aggregate information across these databases \n",
      "- A common representation of this information would allow researchers to learn a single model an access information from many systems"
     ]
    },
    {
     "cell_type": "markdown",
     "metadata": {
      "slideshow": {
       "slide_type": "slide"
      }
     },
     "source": [
      "# What is a Shim?\n",
      "\n",
      "- A light-weight wrapper that translates between data models\n",
      "- For example, translating between XNAT and the NIDASH Data Model\n",
      "- Provide access to a common representation of information"
     ]
    },
    {
     "cell_type": "markdown",
     "metadata": {
      "slideshow": {
       "slide_type": "slide"
      }
     },
     "source": [
      "# An Example Shim\n",
      "\n",
      "- XNAT exposes a RESTful API\n",
      "- pyXNAT is a Python client to access the XNAT API\n",
      "- [PROV](https://github.com/trungdong/prov) is a Python library that implements the [PROV Data Model](http://www.w3.org/TR/prov-dm/)\n",
      "- This notebook illustrates how to use pyXNAT and PROV to translate XNAT into the PROV Data Model\n",
      "- We extend the PROV Data Model with Neuroimaging terms - these terms constitute the NIDASH Data Model"
     ]
    },
    {
     "cell_type": "markdown",
     "metadata": {
      "slideshow": {
       "slide_type": "slide"
      }
     },
     "source": [
      "# Import Python Libraries"
     ]
    },
    {
     "cell_type": "code",
     "collapsed": false,
     "input": [
      "# system\n",
      "import os\n",
      "import json\n",
      "from socket import getfqdn\n",
      "from uuid import uuid1 # generating universally unique identifiers\n",
      "\n",
      "import lxml\n",
      "\n",
      "import prov.model as prov # prov data model\n",
      "from pyxnat import Interface # access xnat"
     ],
     "language": "python",
     "metadata": {
      "slideshow": {
       "slide_type": "fragment"
      }
     },
     "outputs": [],
     "prompt_number": 1
    },
    {
     "cell_type": "markdown",
     "metadata": {
      "slideshow": {
       "slide_type": "slide"
      }
     },
     "source": [
      "# Establish a Connection to XNAT"
     ]
    },
    {
     "cell_type": "code",
     "collapsed": false,
     "input": [
      "# Define entry point to the XNAT API\n",
      "XNAT_ENDPOINT = \"http://www.nitrc.org/ir\"\n",
      "\n",
      "# Connect to XNAT\n",
      "xnat = Interface(server=XNAT_ENDPOINT, anonymous=True)\n",
      "\n",
      "# Get a List of Available Projects\n",
      "projects = xnat.select.projects().get()\n",
      "print projects"
     ],
     "language": "python",
     "metadata": {
      "slideshow": {
       "slide_type": "fragment"
      }
     },
     "outputs": [
      {
       "output_type": "stream",
       "stream": "stdout",
       "text": [
        "['ABIDE', 'adhd_200', 'beijing_enh', 'beijing_eoec', 'cs_schizbull08', 'fcon_1000', 'nki_rockland', 'PING', 'short_tr']\n"
       ]
      }
     ],
     "prompt_number": 2
    },
    {
     "cell_type": "code",
     "collapsed": false,
     "input": [
      "# Pick a Specific Project and Connect \n",
      "PROJECT = \"fcon_1000\"\n",
      "project = xnat.select.project(PROJECT)"
     ],
     "language": "python",
     "metadata": {
      "slideshow": {
       "slide_type": "fragment"
      }
     },
     "outputs": [],
     "prompt_number": 3
    },
    {
     "cell_type": "markdown",
     "metadata": {
      "slideshow": {
       "slide_type": "slide"
      }
     },
     "source": [
      "# Create a PROV Bundle to Store XNAT Information\n",
      "\n",
      "- A Bundle provides a way to describe a provenance document \n",
      "- A ProvBundle object creates an in memory provenance graph \n",
      "- The graph is used to store Entities, Activities, Agents and their relationships"
     ]
    },
    {
     "cell_type": "code",
     "collapsed": false,
     "input": [
      "# create a prov bundle to store the graph\n",
      "bundle = prov.ProvBundle()\n",
      "\n",
      "# define namespaces \n",
      "ns_map = {\"rdf\": \"http://www.w3.org/1999/02/22-rdf-syntax-ns#\",\n",
      "          \"rdfs\": \"http://www.w3.org/2000/01/rdf-schema#\",\n",
      "          \"owl\": \"http://www.w3.org/2002/07/owl#\",\n",
      "          \"dct\": \"http://purl.org/dc/terms/\",\n",
      "          \"foaf\": \"http://xmlns.com/foaf/0.1/\",\n",
      "          \"void\": \"http://rdfs.org/ns/void#\",\n",
      "          \"waiver\": \"http://vocab.org/waiver/terms/\",\n",
      "          \"xnat\": \"http://nrg.wustl.edu/xnat/\",\n",
      "          \"nitrc\": \"http://www.nitrc.org/ir/\",\n",
      "          \"nidm\": \"http://nidm.nidash.org/terms/\",\n",
      "          \"niiri\": \"http://iri.nidash.org/\",\n",
      "          \"base\": \"#\"}\n",
      "\n",
      "# add namespaces to the bundle\n",
      "for k,v in ns_map.iteritems():\n",
      "    ns = prov.Namespace(k,v)\n",
      "    bundle.add_namespace(ns)\n",
      "\n",
      "# Prov namespace object map\n",
      "class AttrDict(dict):\n",
      "    def __init__(self, *args, **kwargs):\n",
      "        super(AttrDict, self).__init__(*args, **kwargs)\n",
      "        self.__dict__ = self \n",
      "\n",
      "ns = AttrDict(bundle._namespaces)"
     ],
     "language": "python",
     "metadata": {
      "slideshow": {
       "slide_type": "fragment"
      }
     },
     "outputs": [],
     "prompt_number": 4
    },
    {
     "cell_type": "code",
     "collapsed": false,
     "input": [
      "def print_turtle(bundle, ns=None):\n",
      "    \"\"\"Print bundle without prefixes\"\"\"\n",
      "    g = bundle.rdf()\n",
      "    ttl = g.serialize(format='turtle')\n",
      "    if not ns:\n",
      "       ttl = ttl.split('@prefix xsd: <http://www.w3.org/2001/XMLSchema#> .\\n\\n')[1]\n",
      "    print(ttl)\n",
      "\n",
      "print_turtle(bundle, ns=True)"
     ],
     "language": "python",
     "metadata": {
      "slideshow": {
       "slide_type": "subslide"
      }
     },
     "outputs": [
      {
       "output_type": "stream",
       "stream": "stdout",
       "text": [
        "@prefix base: <#> .\n",
        "@prefix dct: <http://purl.org/dc/terms/> .\n",
        "@prefix foaf: <http://xmlns.com/foaf/0.1/> .\n",
        "@prefix nidm: <http://nidm.nidash.org/terms/> .\n",
        "@prefix niiri: <http://iri.nidash.org/> .\n",
        "@prefix nitrc: <http://www.nitrc.org/ir/> .\n",
        "@prefix owl: <http://www.w3.org/2002/07/owl#> .\n",
        "@prefix prov: <http://www.w3.org/ns/prov#> .\n",
        "@prefix rdf: <http://www.w3.org/1999/02/22-rdf-syntax-ns#> .\n",
        "@prefix rdfs: <http://www.w3.org/2000/01/rdf-schema#> .\n",
        "@prefix void: <http://rdfs.org/ns/void#> .\n",
        "@prefix waiver: <http://vocab.org/waiver/terms/> .\n",
        "@prefix xml: <http://www.w3.org/XML/1998/namespace> .\n",
        "@prefix xnat: <http://nrg.wustl.edu/xnat/> .\n",
        "@prefix xsd: <http://www.w3.org/2001/XMLSchema#> .\n",
        "\n",
        "\n"
       ]
      }
     ],
     "prompt_number": 5
    },
    {
     "cell_type": "markdown",
     "metadata": {
      "slideshow": {
       "slide_type": "slide"
      }
     },
     "source": [
      "# Create a Dataset Description\n",
      "\n",
      "- high level description of the entire [NITRC-IR](http://www.nitrc.org/ir) - an XNAT database\n",
      "- used as the base to represent each project as a subset"
     ]
    },
    {
     "cell_type": "code",
     "collapsed": false,
     "input": [
      "def add_dataset_description(bundle, title=None, topic=None):\n",
      "    void_attr = [(ns.prov[\"type\"],ns.void[\"DatasetDescription\"]),\n",
      "                 (ns.dct['title'], title),\n",
      "                 (ns.foaf['primaryTopic'], topic)]\n",
      "    void_id = bundle.entity(ns.base[''], void_attr)\n",
      "    return void_id\n",
      "\n",
      "title = \"A VoID Description of the NITRC-IR Dataset\"\n",
      "topic = \"http://dbpedia.org/page/Neuroinformatics\"\n",
      "\n",
      "void_id = add_dataset_description(bundle, title, topic)\n",
      "\n",
      "print_turtle(bundle)"
     ],
     "language": "python",
     "metadata": {
      "slideshow": {
       "slide_type": "fragment"
      }
     },
     "outputs": [
      {
       "output_type": "stream",
       "stream": "stdout",
       "text": [
        "base: a void:DatasetDescription,\n",
        "        prov:Entity ;\n",
        "    dct:title \"A VoID Description of the NITRC-IR Dataset\" ;\n",
        "    foaf:primaryTopic \"http://dbpedia.org/page/Neuroinformatics\" .\n",
        "\n",
        "\n"
       ]
      }
     ],
     "prompt_number": 6
    },
    {
     "cell_type": "markdown",
     "metadata": {
      "slideshow": {
       "slide_type": "slide"
      }
     },
     "source": [
      "# Add a Project representing the NITRC-IR \n",
      "\n",
      "- Provides a representations for all the projects represented at this resorce\n",
      "- void:subset and prov:hadMember are very similar and correspond to void:Dataset and prov:Collection, respectively."
     ]
    },
    {
     "cell_type": "code",
     "collapsed": false,
     "input": [
      "def add_projects(bundle, xnat, title=None, description=None, homepage=None, extra_attrs=None):\n",
      "    projects = xnat.select.projects()\n",
      "    subsets = [(ns.void['subset'], ns.nitrc[subset._uri[1:]]) for subset in projects]\n",
      "    projects_attr = [(ns.prov[\"type\"],ns.void[\"Dataset\"]),\n",
      "                     (ns.prov[\"type\"],ns.xnat[\"Project\"]),\n",
      "                     (prov.PROV[\"label\"],title),\n",
      "                     (ns.dct['title'], title),\n",
      "                     (ns.dct['description'], description),\n",
      "                     (ns.foaf['homepage'], homepage)]\n",
      "    if extra_attrs:\n",
      "        projects_attr.append(extra_attrs)\n",
      "    projects_uri = ns.nitrc[\"data/projects\"]\n",
      "    #projects_uri = ns.nitrc[\"data/projects\"]\n",
      "    projects_id = bundle.entity(projects_uri, projects_attr)\n",
      "    bundle.wasDerivedFrom(ns.nitrc[\"data/projects\"], ns.nitrc[\"data/projects\"])\n",
      "    return projects_id\n",
      "\n",
      "title = \"NITRC-IR\"\n",
      "description = \"NITRC Image Repository\"\n",
      "homepage = \"http://www.nitrc.org/ir\"\n",
      "projects_id = add_projects(bundle, xnat, title, description, homepage)\n",
      "\n",
      "print_turtle(bundle)"
     ],
     "language": "python",
     "metadata": {
      "slideshow": {
       "slide_type": "fragment"
      }
     },
     "outputs": [
      {
       "output_type": "stream",
       "stream": "stdout",
       "text": [
        "base: a void:DatasetDescription,\n",
        "        prov:Entity ;\n",
        "    dct:title \"A VoID Description of the NITRC-IR Dataset\" ;\n",
        "    foaf:primaryTopic \"http://dbpedia.org/page/Neuroinformatics\" .\n",
        "\n",
        "<http://www.nitrc.org/ir/data/projects> a xnat:Project,\n",
        "        void:Dataset,\n",
        "        prov:Entity ;\n",
        "    rdfs:label \"NITRC-IR\" ;\n",
        "    dct:description \"NITRC Image Repository\" ;\n",
        "    dct:title \"NITRC-IR\" ;\n",
        "    prov:wasDerivedFrom <http://www.nitrc.org/ir/data/projects> ;\n",
        "    foaf:homepage \"http://www.nitrc.org/ir\" .\n",
        "\n",
        "\n"
       ]
      }
     ],
     "prompt_number": 7
    },
    {
     "cell_type": "markdown",
     "metadata": {
      "slideshow": {
       "slide_type": "slide"
      }
     },
     "source": [
      "# Add a Project to the Bundle\n",
      "\n",
      "- A project is a container for one or more studies.\n",
      "- Note: the study URIs are constructed using the XML element name the information is stored in."
     ]
    },
    {
     "cell_type": "code",
     "collapsed": false,
     "input": [
      "def add_project(bundle, xnat, project_id, extra_attrs=None, all_parts=True):\n",
      "    table = xnat.select('xnat:projectData').where([('xnat:projectData/ID', \"=\", project_id)])\n",
      "    project = xnat.select.project(project_id)\n",
      "    experiment_studies = [ns.nitrc[experiment._uri[1:]] for experiment in project.experiments()]\n",
      "    # demographics \"studies\" are stored as attributes of a subject\n",
      "    demographics_studies = [ns.nitrc[subject._uri[1:] + \"/demographics\"] for subject in project.subjects()]\n",
      "    if all_parts:\n",
      "        studies = experiment_studies + demographics_studies\n",
      "        parts = [(ns.dct['hasPart'], study) for study in studies]\n",
      "    elif not all_parts:\n",
      "        #just return an example mr and demographics study\n",
      "        studies = [experiment_studies[0], demographics_studies[0]]\n",
      "        parts = [(ns.dct['hasPart'], study) for study in studies]\n",
      "    # project attributes\n",
      "    title = table.data[0]['name']\n",
      "    description = table.data[0]['description']\n",
      "    project_attr = [(ns.prov['type'], ns.xnat[\"projectData\"]),\n",
      "                    (ns.prov['label'], title),\n",
      "                    (ns.dct['title'], title),\n",
      "                    (ns.dct['description'], description)] + parts\n",
      "    if extra_attrs:\n",
      "        project_attr += extra_attrs\n",
      "        # full table attribtes including users\n",
      "        #extra_attrs = [(ns.xnat['projectData/{k}'.format(k=k)], v) for k,v in table.data[0].iteritems()]\n",
      "    \n",
      "    # create the activities\n",
      "    project_uri = ns.nitrc[project._uri[1:]]\n",
      "    project_id = bundle.entity(project_uri, other_attributes=project_attr)\n",
      "    bundle.wasDerivedFrom(project_uri, project_uri)\n",
      "    return project_id\n",
      "\n",
      "# add a project to the bundle\n",
      "project_id = 'fcon_1000'\n",
      "project_uri = add_project(bundle, xnat, project_id, all_parts=False)\n",
      "\n",
      "print_turtle(bundle)"
     ],
     "language": "python",
     "metadata": {
      "slideshow": {
       "slide_type": "fragment"
      }
     },
     "outputs": [
      {
       "output_type": "stream",
       "stream": "stdout",
       "text": [
        "base: a void:DatasetDescription,\n",
        "        prov:Entity ;\n",
        "    dct:title \"A VoID Description of the NITRC-IR Dataset\" ;\n",
        "    foaf:primaryTopic \"http://dbpedia.org/page/Neuroinformatics\" .\n",
        "\n",
        "<http://www.nitrc.org/ir/data/projects> a xnat:Project,\n",
        "        void:Dataset,\n",
        "        prov:Entity ;\n",
        "    rdfs:label \"NITRC-IR\" ;\n",
        "    dct:description \"NITRC Image Repository\" ;\n",
        "    dct:title \"NITRC-IR\" ;\n",
        "    prov:wasDerivedFrom <http://www.nitrc.org/ir/data/projects> ;\n",
        "    foaf:homepage \"http://www.nitrc.org/ir\" .\n",
        "\n",
        "<http://www.nitrc.org/ir/data/projects/fcon_1000> a xnat:projectData,\n",
        "        prov:Entity ;\n",
        "    rdfs:label \"1000 Functional Connectomes\" ;\n",
        "    dct:description \"The 1000 Functional Connectomes Project.\" ;\n",
        "    dct:hasPart <http://www.nitrc.org/ir/data/projects/fcon_1000/experiments/xnat_E00001>,\n",
        "        <http://www.nitrc.org/ir/data/projects/fcon_1000/subjects/xnat_S00001/demographics> ;\n",
        "    dct:title \"1000 Functional Connectomes\" ;\n",
        "    prov:wasDerivedFrom <http://www.nitrc.org/ir/data/projects/fcon_1000> .\n",
        "\n",
        "\n"
       ]
      }
     ],
     "prompt_number": 8
    },
    {
     "cell_type": "markdown",
     "metadata": {
      "slideshow": {
       "slide_type": "slide"
      }
     },
     "source": [
      "# Add a Demographics Studies to the Bundle\n",
      "\n",
      "- A study is-a entity that contains information about a set of one or more acquisitions\n",
      "- For example: a neuropsych battery, demographics questionairre, or MRI study\n",
      "- Note: XNAT includes demographics info as attributes of a subject, where NI-DM considers this information as being acquired."
     ]
    },
    {
     "cell_type": "code",
     "collapsed": false,
     "input": [
      "def add_demographics(bundle, xnat, subject_id, extra_study_attrs=None, extra_acquisition_attrs=None):    \n",
      "    table = xnat.select('xnat:subjectData').where([('xnat:subjectData/ID', \"=\", subject_id)])\n",
      "    project_id = table.data[0]['project']\n",
      "    project_uri = ns.nitrc[xnat.select.project(project_id)._uri[1:]]\n",
      "    subject = xnat.select.project(project_id).subject(subject_id)\n",
      "    study_uri = ns.nitrc[subject._uri[1:] + \"/demographics\"]\n",
      "    acquisition_uri = ns.nitrc[subject._uri[1:] + \"/demographicsData\"]\n",
      "    study_attrs = [(ns.prov[\"type\"], ns.xnat[\"demographics\"]),\n",
      "                   (ns.prov[\"label\"], \"Demographics Study\"),\n",
      "                   (ns.dct['hasPart'], acquisition_uri)]\n",
      "    if extra_study_attrs:\n",
      "        study_attrs += extra_study_attrs  \n",
      "    acquisition_attrs = [(ns.prov[\"type\"], ns.xnat[\"demographicsData\"]),\n",
      "                         (ns.prov[\"label\"], \"Demographics Acquisition\")]                             \n",
      "    for demographics in subject.xpath('//xnat:demographics/*'):\n",
      "        acquisition_attrs.append((ns.xnat[demographics.tag.split('}')[1]], demographics.text))\n",
      "    if extra_acquisition_attrs:\n",
      "        demographics_attrs += extra_study_attrs\n",
      "    study_id = bundle.entity(study_uri, other_attributes=study_attrs)\n",
      "    acquisition_id = bundle.entity(acquisition_uri, other_attributes=acquisition_attrs)\n",
      "    bundle.specializationOf(study_uri, project_uri)\n",
      "    bundle.specializationOf(acquisition_uri, study_uri)\n",
      "    bundle.wasDerivedFrom(study_uri, study_uri)\n",
      "    bundle.wasDerivedFrom(acquisition_uri, acquisition_uri)\n",
      "    return (study_id, acquisition_id)\n",
      "\n",
      "study_id, acquisition_id = add_demographics(bundle, xnat, \"xnat_S00001\")\n",
      "\n",
      "print_turtle(bundle)"
     ],
     "language": "python",
     "metadata": {
      "slideshow": {
       "slide_type": "fragment"
      }
     },
     "outputs": [
      {
       "output_type": "stream",
       "stream": "stdout",
       "text": [
        "base: a void:DatasetDescription,\n",
        "        prov:Entity ;\n",
        "    dct:title \"A VoID Description of the NITRC-IR Dataset\" ;\n",
        "    foaf:primaryTopic \"http://dbpedia.org/page/Neuroinformatics\" .\n",
        "\n",
        "<http://www.nitrc.org/ir/data/projects> a xnat:Project,\n",
        "        void:Dataset,\n",
        "        prov:Entity ;\n",
        "    rdfs:label \"NITRC-IR\" ;\n",
        "    dct:description \"NITRC Image Repository\" ;\n",
        "    dct:title \"NITRC-IR\" ;\n",
        "    prov:wasDerivedFrom <http://www.nitrc.org/ir/data/projects> ;\n",
        "    foaf:homepage \"http://www.nitrc.org/ir\" .\n",
        "\n",
        "<http://www.nitrc.org/ir/data/projects/fcon_1000> a xnat:projectData,\n",
        "        prov:Entity ;\n",
        "    rdfs:label \"1000 Functional Connectomes\" ;\n",
        "    dct:description \"The 1000 Functional Connectomes Project.\" ;\n",
        "    dct:hasPart <http://www.nitrc.org/ir/data/projects/fcon_1000/experiments/xnat_E00001>,\n",
        "        <http://www.nitrc.org/ir/data/projects/fcon_1000/subjects/xnat_S00001/demographics> ;\n",
        "    dct:title \"1000 Functional Connectomes\" ;\n",
        "    prov:wasDerivedFrom <http://www.nitrc.org/ir/data/projects/fcon_1000> .\n",
        "\n",
        "<http://www.nitrc.org/ir/data/projects/fcon_1000/subjects/xnat_S00001/demographicsData> a xnat:demographicsData,\n",
        "        prov:Entity ;\n",
        "    rdfs:label \"Demographics Acquisition\" ;\n",
        "    xnat:age \"25\" ;\n",
        "    xnat:gender \"male\" ;\n",
        "    xnat:handedness \"right\" ;\n",
        "    prov:specializationOf <http://www.nitrc.org/ir/data/projects/fcon_1000/subjects/xnat_S00001/demographics> ;\n",
        "    prov:wasDerivedFrom <http://www.nitrc.org/ir/data/projects/fcon_1000/subjects/xnat_S00001/demographicsData> .\n",
        "\n",
        "<http://www.nitrc.org/ir/data/projects/fcon_1000/subjects/xnat_S00001/demographics> a xnat:demographics,\n",
        "        prov:Entity ;\n",
        "    rdfs:label \"Demographics Study\" ;\n",
        "    dct:hasPart <http://www.nitrc.org/ir/data/projects/fcon_1000/subjects/xnat_S00001/demographicsData> ;\n",
        "    prov:specializationOf <http://www.nitrc.org/ir/data/projects/fcon_1000> ;\n",
        "    prov:wasDerivedFrom <http://www.nitrc.org/ir/data/projects/fcon_1000/subjects/xnat_S00001/demographics> .\n",
        "\n",
        "\n"
       ]
      }
     ],
     "prompt_number": 9
    },
    {
     "cell_type": "markdown",
     "metadata": {
      "slideshow": {
       "slide_type": "slide"
      }
     },
     "source": [
      "# Add MR Studies to the Bundle"
     ]
    },
    {
     "cell_type": "code",
     "collapsed": false,
     "input": [
      "def add_mrstudy(bundle, xnat, study_id, extra_attrs=None):\n",
      "    \"\"\"Extract xnat:mrSessionData as nidm:Study.\"\"\"\n",
      "    table = xnat.select('xnat:mrSessionData').where([('xnat:mrSessionData/ID', \"=\", study_id)])\n",
      "    project_id = table.data[0]['project']\n",
      "    subject_id = table.data[0]['subject_id']\n",
      "    subject = xnat.select.project(project_id).subject(subject_id)\n",
      "    study = xnat.select.experiment(study_id)\n",
      "    scan_acquisitions = [ns.nitrc[scan._uri[1:]] for scan in study.scans()]\n",
      "    parts = [(ns.dct['hasPart'], scan) for scan in scan_acquisitions]\n",
      "    \n",
      "    # study attributes\n",
      "    study_attr = [(ns.prov['type'], ns.xnat[\"mrSessionData\"]),\n",
      "                  (ns.prov['label'], \"MR Session Data\")] + parts\n",
      "    # Extract XNAT types and \n",
      "    for elem in study.xpath('//xnat:MRSession/*'):\n",
      "        if not elem.getchildren():\n",
      "            xnat_type_uri = ns.xnat[elem.tag.split('}')[1]]\n",
      "            study_attr.append((xnat_type_uri, elem.text))\n",
      "    if extra_attrs:\n",
      "        study_attr += extra_attrs\n",
      "        # full table attribtes including users\n",
      "        #extra_attrs = [(ns.xnat['mrSessionData/{k}'.format(k=k)], v) for k,v in table.data[0].iteritems()]\n",
      "    \n",
      "    # create the study\n",
      "    study_uri = ns.nitrc[study._uri[1:]]\n",
      "    study_id = bundle.entity(study_uri, other_attributes=study_attr)\n",
      "    project_uri = ns.nitrc[xnat.select.project(project_id)._uri[1:]]\n",
      "    bundle.wasDerivedFrom(study_uri, study_uri)\n",
      "    bundle.specializationOf(study_uri, project_uri)\n",
      "    return study_id\n",
      "\n",
      "# add a project to the bundle\n",
      "study_id = 'xnat_E00001'\n",
      "study_uri = add_mrstudy(bundle, xnat, study_id)\n",
      "\n",
      "print_turtle(bundle)"
     ],
     "language": "python",
     "metadata": {
      "slideshow": {
       "slide_type": "fragment"
      }
     },
     "outputs": [
      {
       "output_type": "stream",
       "stream": "stdout",
       "text": [
        "base: a void:DatasetDescription,\n",
        "        prov:Entity ;\n",
        "    dct:title \"A VoID Description of the NITRC-IR Dataset\" ;\n",
        "    foaf:primaryTopic \"http://dbpedia.org/page/Neuroinformatics\" .\n",
        "\n",
        "<http://www.nitrc.org/ir/data/experiments/xnat_E00001> a xnat:mrSessionData,\n",
        "        prov:Entity ;\n",
        "    rdfs:label \"MR Session Data\" ;\n",
        "    xnat:RestingTR \"2000.0\" ;\n",
        "    xnat:acquisition_site \"AnnArbor\" ;\n",
        "    xnat:fieldStrength \"3T\" ;\n",
        "    xnat:subject_ID \"xnat_S00001\" ;\n",
        "    dct:hasPart <http://www.nitrc.org/ir/data/experiments/xnat_E00001/scans/anat_mprage_anonymized>,\n",
        "        <http://www.nitrc.org/ir/data/experiments/xnat_E00001/scans/anat_mprage_skullstripped>,\n",
        "        <http://www.nitrc.org/ir/data/experiments/xnat_E00001/scans/func_rest> ;\n",
        "    prov:specializationOf <http://www.nitrc.org/ir/data/projects/fcon_1000> ;\n",
        "    prov:wasDerivedFrom <http://www.nitrc.org/ir/data/experiments/xnat_E00001> .\n",
        "\n",
        "<http://www.nitrc.org/ir/data/projects> a xnat:Project,\n",
        "        void:Dataset,\n",
        "        prov:Entity ;\n",
        "    rdfs:label \"NITRC-IR\" ;\n",
        "    dct:description \"NITRC Image Repository\" ;\n",
        "    dct:title \"NITRC-IR\" ;\n",
        "    prov:wasDerivedFrom <http://www.nitrc.org/ir/data/projects> ;\n",
        "    foaf:homepage \"http://www.nitrc.org/ir\" .\n",
        "\n",
        "<http://www.nitrc.org/ir/data/projects/fcon_1000/subjects/xnat_S00001/demographicsData> a xnat:demographicsData,\n",
        "        prov:Entity ;\n",
        "    rdfs:label \"Demographics Acquisition\" ;\n",
        "    xnat:age \"25\" ;\n",
        "    xnat:gender \"male\" ;\n",
        "    xnat:handedness \"right\" ;\n",
        "    prov:specializationOf <http://www.nitrc.org/ir/data/projects/fcon_1000/subjects/xnat_S00001/demographics> ;\n",
        "    prov:wasDerivedFrom <http://www.nitrc.org/ir/data/projects/fcon_1000/subjects/xnat_S00001/demographicsData> .\n",
        "\n",
        "<http://www.nitrc.org/ir/data/projects/fcon_1000> a xnat:projectData,\n",
        "        prov:Entity ;\n",
        "    rdfs:label \"1000 Functional Connectomes\" ;\n",
        "    dct:description \"The 1000 Functional Connectomes Project.\" ;\n",
        "    dct:hasPart <http://www.nitrc.org/ir/data/projects/fcon_1000/experiments/xnat_E00001>,\n",
        "        <http://www.nitrc.org/ir/data/projects/fcon_1000/subjects/xnat_S00001/demographics> ;\n",
        "    dct:title \"1000 Functional Connectomes\" ;\n",
        "    prov:wasDerivedFrom <http://www.nitrc.org/ir/data/projects/fcon_1000> .\n",
        "\n",
        "<http://www.nitrc.org/ir/data/projects/fcon_1000/subjects/xnat_S00001/demographics> a xnat:demographics,\n",
        "        prov:Entity ;\n",
        "    rdfs:label \"Demographics Study\" ;\n",
        "    dct:hasPart <http://www.nitrc.org/ir/data/projects/fcon_1000/subjects/xnat_S00001/demographicsData> ;\n",
        "    prov:specializationOf <http://www.nitrc.org/ir/data/projects/fcon_1000> ;\n",
        "    prov:wasDerivedFrom <http://www.nitrc.org/ir/data/projects/fcon_1000/subjects/xnat_S00001/demographics> .\n",
        "\n",
        "\n"
       ]
      }
     ],
     "prompt_number": 10
    },
    {
     "cell_type": "markdown",
     "metadata": {
      "slideshow": {
       "slide_type": "slide"
      }
     },
     "source": [
      "# Add Acquisitions to the Bundle\n",
      "\n",
      "- pyXNAT cannot query for xnat:mrScanData, so we loop through all scans at once"
     ]
    },
    {
     "cell_type": "code",
     "collapsed": false,
     "input": [
      "def add_mracquisitions(bundle, xnat, study_id, extra_attrs=None):\n",
      "    \"\"\"Extract xnat:mrScanData as nidm:Acquisition.\"\"\"\n",
      "    study = xnat.select.experiment(study_id)\n",
      "    study_uri = ns.nitrc[study._uri[1:]]\n",
      "    acquisition_ids = list()\n",
      "    for acquisition in study.scans():\n",
      "        acquisition_uri = ns.nitrc[acquisition._uri[1:]]\n",
      "        # acquisition attributes\n",
      "        acquisition_attr = [(ns.prov['type'], ns.xnat[\"mrScanData\"]),\n",
      "                            (ns.prov['label'], \"MR Acquisition Data\")]\n",
      "        # Extract scan parameters\n",
      "        for elem in acquisition.xpath('//xnat:parameters/*'):\n",
      "            if elem.attrib:\n",
      "                xnat_type_uri = ns.xnat[elem.tag.split('}')[1]]\n",
      "                attr_json = json.dumps(dict(elem.attrib))\n",
      "                acquisition_attr.append((xnat_type_uri, attr_json))\n",
      "            else:\n",
      "                xnat_type_uri = ns.xnat[elem.tag.split('}')[1]]\n",
      "                acquisition_attr.append((xnat_type_uri, elem.text))\n",
      "        # Extract file locations\n",
      "        for resource in acquisition.resources():\n",
      "            resource_type = ns.xnat[resource.label()]\n",
      "            image_uris = [ns.nitrc[image._uri[1:]] for image in resource.files()]\n",
      "            for image_uri in image_uris:\n",
      "                acquisition_attr += [(ns.prov['location'], image_uri)]\n",
      "                # there can be multiple representations of a resource so we tag each\n",
      "                bundle.entity(image_uri, other_attributes=[(ns.prov['type'], ns.prov['Location']),\n",
      "                                                           (ns.prov['type'], resource_type)]) \n",
      "        if extra_attrs:\n",
      "            acquisition_attr += extra_attrs\n",
      "    \n",
      "        # create the acquisition\n",
      "        acquisition_ids.append(bundle.entity(acquisition_uri, other_attributes=acquisition_attr))\n",
      "        bundle.wasDerivedFrom(acquisition_uri, acquisition_uri)\n",
      "        bundle.specializationOf(acquisition_uri, study_uri)\n",
      "    return acquisition_ids\n",
      "\n",
      "# add a project to the bundle\n",
      "study_id = 'xnat_E00001'\n",
      "study_uri = add_mracquisitions(bundle, xnat, study_id)\n",
      "\n",
      "print_turtle(bundle)\n"
     ],
     "language": "python",
     "metadata": {
      "slideshow": {
       "slide_type": "fragment"
      }
     },
     "outputs": [
      {
       "output_type": "stream",
       "stream": "stdout",
       "text": [
        "base: a void:DatasetDescription,\n",
        "        prov:Entity ;\n",
        "    dct:title \"A VoID Description of the NITRC-IR Dataset\" ;\n",
        "    foaf:primaryTopic \"http://dbpedia.org/page/Neuroinformatics\" .\n",
        "\n",
        "<http://www.nitrc.org/ir/data/experiments/xnat_E00001/scans/anat_mprage_anonymized/resources/11912/files/scan_mprage_anonymized.nii.gz> a xnat:NIfTI,\n",
        "        prov:Entity,\n",
        "        prov:Location .\n",
        "\n",
        "<http://www.nitrc.org/ir/data/experiments/xnat_E00001/scans/anat_mprage_anonymized/resources/3894/files/scan_mprage_anonymized.nii.gz> a xnat:BRIK,\n",
        "        prov:Entity,\n",
        "        prov:Location .\n",
        "\n",
        "<http://www.nitrc.org/ir/data/experiments/xnat_E00001/scans/anat_mprage_skullstripped/resources/11913/files/scan_mprage_skullstripped.nii.gz> a xnat:NIfTI,\n",
        "        prov:Entity,\n",
        "        prov:Location .\n",
        "\n",
        "<http://www.nitrc.org/ir/data/experiments/xnat_E00001/scans/anat_mprage_skullstripped/resources/3895/files/scan_mprage_skullstripped.nii.gz> a xnat:BRIK,\n",
        "        prov:Entity,\n",
        "        prov:Location .\n",
        "\n",
        "<http://www.nitrc.org/ir/data/experiments/xnat_E00001/scans/func_rest/resources/11914/files/scan_rest.nii.gz> a xnat:NIfTI,\n",
        "        prov:Entity,\n",
        "        prov:Location .\n",
        "\n",
        "<http://www.nitrc.org/ir/data/experiments/xnat_E00001/scans/func_rest/resources/3896/files/scan_rest.nii.gz> a xnat:BRIK,\n",
        "        prov:Entity,\n",
        "        prov:Location .\n",
        "\n",
        "<http://www.nitrc.org/ir/data/projects> a xnat:Project,\n",
        "        void:Dataset,\n",
        "        prov:Entity ;\n",
        "    rdfs:label \"NITRC-IR\" ;\n",
        "    dct:description \"NITRC Image Repository\" ;\n",
        "    dct:title \"NITRC-IR\" ;\n",
        "    prov:wasDerivedFrom <http://www.nitrc.org/ir/data/projects> ;\n",
        "    foaf:homepage \"http://www.nitrc.org/ir\" .\n",
        "\n",
        "<http://www.nitrc.org/ir/data/experiments/xnat_E00001/scans/anat_mprage_anonymized> a xnat:mrScanData,\n",
        "        prov:Entity ;\n",
        "    rdfs:label \"MR Acquisition Data\" ;\n",
        "    xnat:matrix \"{\\\"y\\\": \\\"256\\\", \\\"x\\\": \\\"256\\\"}\" ;\n",
        "    xnat:orientation \"sag\" ;\n",
        "    xnat:partitions \"106\" ;\n",
        "    xnat:voxelRes \"{\\\"units\\\": \\\"mm\\\", \\\"x\\\": \\\"1.0\\\", \\\"z\\\": \\\"1.4\\\", \\\"y\\\": \\\"1.0\\\"}\" ;\n",
        "    prov:atLocation <http://www.nitrc.org/ir/data/experiments/xnat_E00001/scans/anat_mprage_anonymized/resources/11912/files/scan_mprage_anonymized.nii.gz>,\n",
        "        <http://www.nitrc.org/ir/data/experiments/xnat_E00001/scans/anat_mprage_anonymized/resources/3894/files/scan_mprage_anonymized.nii.gz> ;\n",
        "    prov:specializationOf <http://www.nitrc.org/ir/data/experiments/xnat_E00001> ;\n",
        "    prov:wasDerivedFrom <http://www.nitrc.org/ir/data/experiments/xnat_E00001/scans/anat_mprage_anonymized> .\n",
        "\n",
        "<http://www.nitrc.org/ir/data/experiments/xnat_E00001/scans/anat_mprage_skullstripped> a xnat:mrScanData,\n",
        "        prov:Entity ;\n",
        "    rdfs:label \"MR Acquisition Data\" ;\n",
        "    xnat:matrix \"{\\\"y\\\": \\\"256\\\", \\\"x\\\": \\\"256\\\"}\" ;\n",
        "    xnat:orientation \"sag\" ;\n",
        "    xnat:partitions \"106\" ;\n",
        "    xnat:voxelRes \"{\\\"units\\\": \\\"mm\\\", \\\"x\\\": \\\"1.0\\\", \\\"z\\\": \\\"1.4\\\", \\\"y\\\": \\\"1.0\\\"}\" ;\n",
        "    prov:atLocation <http://www.nitrc.org/ir/data/experiments/xnat_E00001/scans/anat_mprage_skullstripped/resources/11913/files/scan_mprage_skullstripped.nii.gz>,\n",
        "        <http://www.nitrc.org/ir/data/experiments/xnat_E00001/scans/anat_mprage_skullstripped/resources/3895/files/scan_mprage_skullstripped.nii.gz> ;\n",
        "    prov:specializationOf <http://www.nitrc.org/ir/data/experiments/xnat_E00001> ;\n",
        "    prov:wasDerivedFrom <http://www.nitrc.org/ir/data/experiments/xnat_E00001/scans/anat_mprage_skullstripped> .\n",
        "\n",
        "<http://www.nitrc.org/ir/data/experiments/xnat_E00001/scans/func_rest> a xnat:mrScanData,\n",
        "        prov:Entity ;\n",
        "    rdfs:label \"MR Acquisition Data\" ;\n",
        "    xnat:matrix \"{\\\"y\\\": \\\"64\\\", \\\"x\\\": \\\"64\\\"}\" ;\n",
        "    xnat:orientation \"axial\" ;\n",
        "    xnat:partitions \"40\" ;\n",
        "    xnat:tr \"2000.0\" ;\n",
        "    xnat:voxelRes \"{\\\"units\\\": \\\"mm\\\", \\\"x\\\": \\\"3.4375\\\", \\\"z\\\": \\\"3.0\\\", \\\"y\\\": \\\"3.4375\\\"}\" ;\n",
        "    prov:atLocation <http://www.nitrc.org/ir/data/experiments/xnat_E00001/scans/func_rest/resources/11914/files/scan_rest.nii.gz>,\n",
        "        <http://www.nitrc.org/ir/data/experiments/xnat_E00001/scans/func_rest/resources/3896/files/scan_rest.nii.gz> ;\n",
        "    prov:specializationOf <http://www.nitrc.org/ir/data/experiments/xnat_E00001> ;\n",
        "    prov:wasDerivedFrom <http://www.nitrc.org/ir/data/experiments/xnat_E00001/scans/func_rest> .\n",
        "\n",
        "<http://www.nitrc.org/ir/data/projects/fcon_1000/subjects/xnat_S00001/demographicsData> a xnat:demographicsData,\n",
        "        prov:Entity ;\n",
        "    rdfs:label \"Demographics Acquisition\" ;\n",
        "    xnat:age \"25\" ;\n",
        "    xnat:gender \"male\" ;\n",
        "    xnat:handedness \"right\" ;\n",
        "    prov:specializationOf <http://www.nitrc.org/ir/data/projects/fcon_1000/subjects/xnat_S00001/demographics> ;\n",
        "    prov:wasDerivedFrom <http://www.nitrc.org/ir/data/projects/fcon_1000/subjects/xnat_S00001/demographicsData> .\n",
        "\n",
        "<http://www.nitrc.org/ir/data/projects/fcon_1000> a xnat:projectData,\n",
        "        prov:Entity ;\n",
        "    rdfs:label \"1000 Functional Connectomes\" ;\n",
        "    dct:description \"The 1000 Functional Connectomes Project.\" ;\n",
        "    dct:hasPart <http://www.nitrc.org/ir/data/projects/fcon_1000/experiments/xnat_E00001>,\n",
        "        <http://www.nitrc.org/ir/data/projects/fcon_1000/subjects/xnat_S00001/demographics> ;\n",
        "    dct:title \"1000 Functional Connectomes\" ;\n",
        "    prov:wasDerivedFrom <http://www.nitrc.org/ir/data/projects/fcon_1000> .\n",
        "\n",
        "<http://www.nitrc.org/ir/data/projects/fcon_1000/subjects/xnat_S00001/demographics> a xnat:demographics,\n",
        "        prov:Entity ;\n",
        "    rdfs:label \"Demographics Study\" ;\n",
        "    dct:hasPart <http://www.nitrc.org/ir/data/projects/fcon_1000/subjects/xnat_S00001/demographicsData> ;\n",
        "    prov:specializationOf <http://www.nitrc.org/ir/data/projects/fcon_1000> ;\n",
        "    prov:wasDerivedFrom <http://www.nitrc.org/ir/data/projects/fcon_1000/subjects/xnat_S00001/demographics> .\n",
        "\n",
        "<http://www.nitrc.org/ir/data/experiments/xnat_E00001> a xnat:mrSessionData,\n",
        "        prov:Entity ;\n",
        "    rdfs:label \"MR Session Data\" ;\n",
        "    xnat:RestingTR \"2000.0\" ;\n",
        "    xnat:acquisition_site \"AnnArbor\" ;\n",
        "    xnat:fieldStrength \"3T\" ;\n",
        "    xnat:subject_ID \"xnat_S00001\" ;\n",
        "    dct:hasPart <http://www.nitrc.org/ir/data/experiments/xnat_E00001/scans/anat_mprage_anonymized>,\n",
        "        <http://www.nitrc.org/ir/data/experiments/xnat_E00001/scans/anat_mprage_skullstripped>,\n",
        "        <http://www.nitrc.org/ir/data/experiments/xnat_E00001/scans/func_rest> ;\n",
        "    prov:specializationOf <http://www.nitrc.org/ir/data/projects/fcon_1000> ;\n",
        "    prov:wasDerivedFrom <http://www.nitrc.org/ir/data/experiments/xnat_E00001> .\n",
        "\n",
        "\n"
       ]
      }
     ],
     "prompt_number": 11
    },
    {
     "cell_type": "code",
     "collapsed": false,
     "input": [
      "print_turtle(bundle, ns=True)"
     ],
     "language": "python",
     "metadata": {},
     "outputs": [
      {
       "output_type": "stream",
       "stream": "stdout",
       "text": [
        "@prefix base: <#> .\n",
        "@prefix dct: <http://purl.org/dc/terms/> .\n",
        "@prefix foaf: <http://xmlns.com/foaf/0.1/> .\n",
        "@prefix nidm: <http://nidm.nidash.org/terms/> .\n",
        "@prefix niiri: <http://iri.nidash.org/> .\n",
        "@prefix nitrc: <http://www.nitrc.org/ir/> .\n",
        "@prefix owl: <http://www.w3.org/2002/07/owl#> .\n",
        "@prefix prov: <http://www.w3.org/ns/prov#> .\n",
        "@prefix rdf: <http://www.w3.org/1999/02/22-rdf-syntax-ns#> .\n",
        "@prefix rdfs: <http://www.w3.org/2000/01/rdf-schema#> .\n",
        "@prefix void: <http://rdfs.org/ns/void#> .\n",
        "@prefix waiver: <http://vocab.org/waiver/terms/> .\n",
        "@prefix xml: <http://www.w3.org/XML/1998/namespace> .\n",
        "@prefix xnat: <http://nrg.wustl.edu/xnat/> .\n",
        "@prefix xsd: <http://www.w3.org/2001/XMLSchema#> .\n",
        "\n",
        "base: a void:DatasetDescription,\n",
        "        prov:Entity ;\n",
        "    dct:title \"A VoID Description of the NITRC-IR Dataset\" ;\n",
        "    foaf:primaryTopic \"http://dbpedia.org/page/Neuroinformatics\" .\n",
        "\n",
        "<http://www.nitrc.org/ir/data/experiments/xnat_E00001/scans/anat_mprage_anonymized/resources/11912/files/scan_mprage_anonymized.nii.gz> a xnat:NIfTI,\n",
        "        prov:Entity,\n",
        "        prov:Location .\n",
        "\n",
        "<http://www.nitrc.org/ir/data/experiments/xnat_E00001/scans/anat_mprage_anonymized/resources/3894/files/scan_mprage_anonymized.nii.gz> a xnat:BRIK,\n",
        "        prov:Entity,\n",
        "        prov:Location .\n",
        "\n",
        "<http://www.nitrc.org/ir/data/experiments/xnat_E00001/scans/anat_mprage_skullstripped/resources/11913/files/scan_mprage_skullstripped.nii.gz> a xnat:NIfTI,\n",
        "        prov:Entity,\n",
        "        prov:Location .\n",
        "\n",
        "<http://www.nitrc.org/ir/data/experiments/xnat_E00001/scans/anat_mprage_skullstripped/resources/3895/files/scan_mprage_skullstripped.nii.gz> a xnat:BRIK,\n",
        "        prov:Entity,\n",
        "        prov:Location .\n",
        "\n",
        "<http://www.nitrc.org/ir/data/experiments/xnat_E00001/scans/func_rest/resources/11914/files/scan_rest.nii.gz> a xnat:NIfTI,\n",
        "        prov:Entity,\n",
        "        prov:Location .\n",
        "\n",
        "<http://www.nitrc.org/ir/data/experiments/xnat_E00001/scans/func_rest/resources/3896/files/scan_rest.nii.gz> a xnat:BRIK,\n",
        "        prov:Entity,\n",
        "        prov:Location .\n",
        "\n",
        "<http://www.nitrc.org/ir/data/projects> a xnat:Project,\n",
        "        void:Dataset,\n",
        "        prov:Entity ;\n",
        "    rdfs:label \"NITRC-IR\" ;\n",
        "    dct:description \"NITRC Image Repository\" ;\n",
        "    dct:title \"NITRC-IR\" ;\n",
        "    prov:wasDerivedFrom <http://www.nitrc.org/ir/data/projects> ;\n",
        "    foaf:homepage \"http://www.nitrc.org/ir\" .\n",
        "\n",
        "<http://www.nitrc.org/ir/data/experiments/xnat_E00001/scans/anat_mprage_anonymized> a xnat:mrScanData,\n",
        "        prov:Entity ;\n",
        "    rdfs:label \"MR Acquisition Data\" ;\n",
        "    xnat:matrix \"{\\\"y\\\": \\\"256\\\", \\\"x\\\": \\\"256\\\"}\" ;\n",
        "    xnat:orientation \"sag\" ;\n",
        "    xnat:partitions \"106\" ;\n",
        "    xnat:voxelRes \"{\\\"units\\\": \\\"mm\\\", \\\"x\\\": \\\"1.0\\\", \\\"z\\\": \\\"1.4\\\", \\\"y\\\": \\\"1.0\\\"}\" ;\n",
        "    prov:atLocation <http://www.nitrc.org/ir/data/experiments/xnat_E00001/scans/anat_mprage_anonymized/resources/11912/files/scan_mprage_anonymized.nii.gz>,\n",
        "        <http://www.nitrc.org/ir/data/experiments/xnat_E00001/scans/anat_mprage_anonymized/resources/3894/files/scan_mprage_anonymized.nii.gz> ;\n",
        "    prov:specializationOf <http://www.nitrc.org/ir/data/experiments/xnat_E00001> ;\n",
        "    prov:wasDerivedFrom <http://www.nitrc.org/ir/data/experiments/xnat_E00001/scans/anat_mprage_anonymized> .\n",
        "\n",
        "<http://www.nitrc.org/ir/data/experiments/xnat_E00001/scans/anat_mprage_skullstripped> a xnat:mrScanData,\n",
        "        prov:Entity ;\n",
        "    rdfs:label \"MR Acquisition Data\" ;\n",
        "    xnat:matrix \"{\\\"y\\\": \\\"256\\\", \\\"x\\\": \\\"256\\\"}\" ;\n",
        "    xnat:orientation \"sag\" ;\n",
        "    xnat:partitions \"106\" ;\n",
        "    xnat:voxelRes \"{\\\"units\\\": \\\"mm\\\", \\\"x\\\": \\\"1.0\\\", \\\"z\\\": \\\"1.4\\\", \\\"y\\\": \\\"1.0\\\"}\" ;\n",
        "    prov:atLocation <http://www.nitrc.org/ir/data/experiments/xnat_E00001/scans/anat_mprage_skullstripped/resources/11913/files/scan_mprage_skullstripped.nii.gz>,\n",
        "        <http://www.nitrc.org/ir/data/experiments/xnat_E00001/scans/anat_mprage_skullstripped/resources/3895/files/scan_mprage_skullstripped.nii.gz> ;\n",
        "    prov:specializationOf <http://www.nitrc.org/ir/data/experiments/xnat_E00001> ;\n",
        "    prov:wasDerivedFrom <http://www.nitrc.org/ir/data/experiments/xnat_E00001/scans/anat_mprage_skullstripped> .\n",
        "\n",
        "<http://www.nitrc.org/ir/data/experiments/xnat_E00001/scans/func_rest> a xnat:mrScanData,\n",
        "        prov:Entity ;\n",
        "    rdfs:label \"MR Acquisition Data\" ;\n",
        "    xnat:matrix \"{\\\"y\\\": \\\"64\\\", \\\"x\\\": \\\"64\\\"}\" ;\n",
        "    xnat:orientation \"axial\" ;\n",
        "    xnat:partitions \"40\" ;\n",
        "    xnat:tr \"2000.0\" ;\n",
        "    xnat:voxelRes \"{\\\"units\\\": \\\"mm\\\", \\\"x\\\": \\\"3.4375\\\", \\\"z\\\": \\\"3.0\\\", \\\"y\\\": \\\"3.4375\\\"}\" ;\n",
        "    prov:atLocation <http://www.nitrc.org/ir/data/experiments/xnat_E00001/scans/func_rest/resources/11914/files/scan_rest.nii.gz>,\n",
        "        <http://www.nitrc.org/ir/data/experiments/xnat_E00001/scans/func_rest/resources/3896/files/scan_rest.nii.gz> ;\n",
        "    prov:specializationOf <http://www.nitrc.org/ir/data/experiments/xnat_E00001> ;\n",
        "    prov:wasDerivedFrom <http://www.nitrc.org/ir/data/experiments/xnat_E00001/scans/func_rest> .\n",
        "\n",
        "<http://www.nitrc.org/ir/data/projects/fcon_1000/subjects/xnat_S00001/demographicsData> a xnat:demographicsData,\n",
        "        prov:Entity ;\n",
        "    rdfs:label \"Demographics Acquisition\" ;\n",
        "    xnat:age \"25\" ;\n",
        "    xnat:gender \"male\" ;\n",
        "    xnat:handedness \"right\" ;\n",
        "    prov:specializationOf <http://www.nitrc.org/ir/data/projects/fcon_1000/subjects/xnat_S00001/demographics> ;\n",
        "    prov:wasDerivedFrom <http://www.nitrc.org/ir/data/projects/fcon_1000/subjects/xnat_S00001/demographicsData> .\n",
        "\n",
        "<http://www.nitrc.org/ir/data/projects/fcon_1000> a xnat:projectData,\n",
        "        prov:Entity ;\n",
        "    rdfs:label \"1000 Functional Connectomes\" ;\n",
        "    dct:description \"The 1000 Functional Connectomes Project.\" ;\n",
        "    dct:hasPart <http://www.nitrc.org/ir/data/projects/fcon_1000/experiments/xnat_E00001>,\n",
        "        <http://www.nitrc.org/ir/data/projects/fcon_1000/subjects/xnat_S00001/demographics> ;\n",
        "    dct:title \"1000 Functional Connectomes\" ;\n",
        "    prov:wasDerivedFrom <http://www.nitrc.org/ir/data/projects/fcon_1000> .\n",
        "\n",
        "<http://www.nitrc.org/ir/data/projects/fcon_1000/subjects/xnat_S00001/demographics> a xnat:demographics,\n",
        "        prov:Entity ;\n",
        "    rdfs:label \"Demographics Study\" ;\n",
        "    dct:hasPart <http://www.nitrc.org/ir/data/projects/fcon_1000/subjects/xnat_S00001/demographicsData> ;\n",
        "    prov:specializationOf <http://www.nitrc.org/ir/data/projects/fcon_1000> ;\n",
        "    prov:wasDerivedFrom <http://www.nitrc.org/ir/data/projects/fcon_1000/subjects/xnat_S00001/demographics> .\n",
        "\n",
        "<http://www.nitrc.org/ir/data/experiments/xnat_E00001> a xnat:mrSessionData,\n",
        "        prov:Entity ;\n",
        "    rdfs:label \"MR Session Data\" ;\n",
        "    xnat:RestingTR \"2000.0\" ;\n",
        "    xnat:acquisition_site \"AnnArbor\" ;\n",
        "    xnat:fieldStrength \"3T\" ;\n",
        "    xnat:subject_ID \"xnat_S00001\" ;\n",
        "    dct:hasPart <http://www.nitrc.org/ir/data/experiments/xnat_E00001/scans/anat_mprage_anonymized>,\n",
        "        <http://www.nitrc.org/ir/data/experiments/xnat_E00001/scans/anat_mprage_skullstripped>,\n",
        "        <http://www.nitrc.org/ir/data/experiments/xnat_E00001/scans/func_rest> ;\n",
        "    prov:specializationOf <http://www.nitrc.org/ir/data/projects/fcon_1000> ;\n",
        "    prov:wasDerivedFrom <http://www.nitrc.org/ir/data/experiments/xnat_E00001> .\n",
        "\n",
        "\n"
       ]
      }
     ],
     "prompt_number": 12
    },
    {
     "cell_type": "code",
     "collapsed": false,
     "input": [
      "rdf = bundle.rdf()\n",
      "query = \"\"\"SELECT ?location WHERE {?s a xnat:mrScanData ; prov:atLocation ?location }\"\"\"\n",
      "result = rdf.query(query)\n",
      "print result.serialize(format='csv')"
     ],
     "language": "python",
     "metadata": {},
     "outputs": [
      {
       "output_type": "stream",
       "stream": "stdout",
       "text": [
        "location\r\n",
        "http://www.nitrc.org/ir/data/experiments/xnat_E00001/scans/func_rest/resources/11914/files/scan_rest.nii.gz\r\n",
        "http://www.nitrc.org/ir/data/experiments/xnat_E00001/scans/func_rest/resources/3896/files/scan_rest.nii.gz\r\n",
        "http://www.nitrc.org/ir/data/experiments/xnat_E00001/scans/anat_mprage_skullstripped/resources/3895/files/scan_mprage_skullstripped.nii.gz\r\n",
        "http://www.nitrc.org/ir/data/experiments/xnat_E00001/scans/anat_mprage_skullstripped/resources/11913/files/scan_mprage_skullstripped.nii.gz\r\n",
        "http://www.nitrc.org/ir/data/experiments/xnat_E00001/scans/anat_mprage_anonymized/resources/3894/files/scan_mprage_anonymized.nii.gz\r\n",
        "http://www.nitrc.org/ir/data/experiments/xnat_E00001/scans/anat_mprage_anonymized/resources/11912/files/scan_mprage_anonymized.nii.gz\r\n",
        "\n"
       ]
      }
     ],
     "prompt_number": 13
    }
   ],
   "metadata": {}
  }
 ]
}