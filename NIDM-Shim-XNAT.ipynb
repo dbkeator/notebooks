{
 "metadata": {
  "name": "NIDM-Shim-XNAT"
 },
 "nbformat": 3,
 "nbformat_minor": 0,
 "worksheets": [
  {
   "cells": [
    {
     "cell_type": "markdown",
     "metadata": {
      "slideshow": {
       "slide_type": "slide"
      }
     },
     "source": [
      "# NIDASH Database Shims\n",
      "### An example shim using XNAT \n",
      "\n",
      "INCF NIDASH Task Force"
     ]
    },
    {
     "cell_type": "markdown",
     "metadata": {
      "slideshow": {
       "slide_type": "slide"
      }
     },
     "source": [
      "# What is a Shim?\n",
      "\n",
      "- A light-weight wrapper that translates between data schemas or models\n",
      "- For example, translating between XNAT and the NIDASH Data Model\n",
      "- Provide access to a common representation of information"
     ]
    },
    {
     "cell_type": "markdown",
     "metadata": {
      "slideshow": {
       "slide_type": "slide"
      }
     },
     "source": [
      "# An Example Shim\n",
      "\n",
      "- XNAT exposes a RESTful API based on HTTP requests\n",
      "- [pyXNAT](http://pythonhosted.org/pyxnat) is a Python client to access the XNAT API\n",
      "- [PROV](https://github.com/trungdong/prov) is a Python library that implements the [PROV Data Model](http://www.w3.org/TR/prov-dm/)\n",
      "- This notebook illustrates how to use pyXNAT and PROV to translate XNAT into an extension of the PROV Data Model\n",
      "- We extend the PROV Data Model with Neuroimaging terms - these terms constitute the NIDASH Data Model"
     ]
    },
    {
     "cell_type": "markdown",
     "metadata": {
      "slideshow": {
       "slide_type": "slide"
      }
     },
     "source": [
      "# Import Python Libraries\n",
      "\n",
      "- these are the basic libraries we will use throughout this example"
     ]
    },
    {
     "cell_type": "code",
     "collapsed": false,
     "input": [
      "# system\n",
      "import os\n",
      "import md5\n",
      "import urlparse\n",
      "from socket import getfqdn\n",
      "\n",
      "\n",
      "import prov.model as prov # prov data model\n",
      "from pyxnat import Interface # access xnat"
     ],
     "language": "python",
     "metadata": {},
     "outputs": [],
     "prompt_number": 65
    },
    {
     "cell_type": "markdown",
     "metadata": {
      "slideshow": {
       "slide_type": "slide"
      }
     },
     "source": [
      "# Establish a Connection to XNAT\n",
      "\n",
      "- pyXNAT allows us to access each level of the XNAT API hierarchy\n",
      "- we will convert each level into PROV, one step at a time\n",
      "- This hierarchy is organized like so:"
     ]
    },
    {
     "cell_type": "raw",
     "metadata": {},
     "source": [
      "Project\n",
      "|-Subject\n",
      "  |-Experiment\n",
      "    |-Scan\n",
      "      |-Resource\n",
      "        |-File\n",
      "        "
     ]
    },
    {
     "cell_type": "code",
     "collapsed": false,
     "input": [
      "# Define entry point to the XNAT API\n",
      "XNAT_ENDPOINT = \"http://www.nitrc.org/ir\"\n",
      "\n",
      "# Connect to XNAT\n",
      "xnat = Interface(server=XNAT_ENDPOINT, anonymous=True)\n",
      "\n",
      "# Get a List of Available Projects\n",
      "projects = xnat.select.projects().get()\n",
      "print projects"
     ],
     "language": "python",
     "metadata": {
      "slideshow": {
       "slide_type": "subslide"
      }
     },
     "outputs": [
      {
       "output_type": "stream",
       "stream": "stdout",
       "text": [
        "['ABIDE', 'adhd_200', 'beijing_enh', 'beijing_eoec', 'cs_schizbull08', 'fcon_1000', 'MICCAISATA2013', 'short_tr']\n"
       ]
      }
     ],
     "prompt_number": 66
    },
    {
     "cell_type": "code",
     "collapsed": false,
     "input": [
      "# Pick a Specific Project and Connect \n",
      "PROJECT = \"fcon_1000\"\n",
      "project = xnat.select.project(PROJECT)\n",
      "print project.xpath('xnat:description/text()')"
     ],
     "language": "python",
     "metadata": {},
     "outputs": [
      {
       "output_type": "stream",
       "stream": "stdout",
       "text": [
        "['The 1000 Functional Connectomes Project.']\n"
       ]
      }
     ],
     "prompt_number": 67
    },
    {
     "cell_type": "markdown",
     "metadata": {
      "slideshow": {
       "slide_type": "slide"
      }
     },
     "source": [
      "# Create a PROV Bundle to Store XNAT Information\n",
      "\n",
      "- A Bundle provides a way to describe a PROV document \n",
      "- A ProvBundle object creates an in memory graph \n",
      "- The graph is used to store Entities, Activities, Agents and their Relationships"
     ]
    },
    {
     "cell_type": "code",
     "collapsed": false,
     "input": [
      "# create a prov bundle to store the graph\n",
      "bundle = prov.ProvBundle()\n",
      "\n",
      "# define namespaces \n",
      "nidm_ns = prov.Namespace(\"nidm\", \"http://nidm.nidash.org/\")\n",
      "nitrc_ns = prov.Namespace(\"nitrc\", \"http://www.nitrc.org/ir/\")\n",
      "xnat_ns = prov.Namespace(\"xnat\", \"http://www.xnat.org/\")\n",
      "nif_ns = prov.Namespace(\"nlx\", \"http://neurolex.org/\")\n",
      "\n",
      "# add namespaces to the graph\n",
      "bundle.add_namespace(nidm_ns)\n",
      "bundle.add_namespace(nitrc_ns)\n",
      "bundle.add_namespace(xnat_ns)\n",
      "bundle.add_namespace(nif_ns)"
     ],
     "language": "python",
     "metadata": {
      "slideshow": {
       "slide_type": "subslide"
      }
     },
     "outputs": [],
     "prompt_number": 68
    },
    {
     "cell_type": "markdown",
     "metadata": {
      "slideshow": {
       "slide_type": "subslide"
      }
     },
     "source": [
      "### RDF Turtle Serialization of PROV Bundle"
     ]
    },
    {
     "cell_type": "code",
     "collapsed": false,
     "input": [
      "print bundle.rdf().serialize(format='turtle')"
     ],
     "language": "python",
     "metadata": {},
     "outputs": [
      {
       "output_type": "stream",
       "stream": "stdout",
       "text": [
        "@prefix nidm: <http://nidm.nidash.org/> .\n",
        "@prefix nitrc: <http://www.nitrc.org/ir/> .\n",
        "@prefix nlx: <http://neurolex.org/> .\n",
        "@prefix prov: <http://www.w3.org/ns/prov#> .\n",
        "@prefix rdf: <http://www.w3.org/1999/02/22-rdf-syntax-ns#> .\n",
        "@prefix rdfs: <http://www.w3.org/2000/01/rdf-schema#> .\n",
        "@prefix xml: <http://www.w3.org/XML/1998/namespace> .\n",
        "@prefix xnat: <http://www.xnat.org/> .\n",
        "@prefix xsd: <http://www.w3.org/2001/XMLSchema#> .\n",
        "@prefix xsd1: <http://www.w3.org/2001/XMLSchema-datatypes#> .\n",
        "\n",
        "\n"
       ]
      }
     ],
     "prompt_number": 69
    },
    {
     "cell_type": "markdown",
     "metadata": {
      "slideshow": {
       "slide_type": "slide"
      }
     },
     "source": [
      "# Add a Project to the Bundle\n",
      "\n",
      "- Project is-a prov:activity and a NI-DM primitive\n",
      "- Projects define a period of time during which Project Activities occur\n",
      "- Addtional metadata may be appended to a Project"
     ]
    },
    {
     "cell_type": "code",
     "collapsed": false,
     "input": [
      "def add_project(bundle, project):\n",
      "    \"\"\"\n",
      "    adds an XNAT project to the prov:bundle graph instance\n",
      "    \"\"\"\n",
      "    project_uri = ''.join([project._intf._server, project._uri]) # agnostic to global ns objects\n",
      "\n",
      "    # project activity attributes\n",
      "    # note: all prov.PROV[\"type\"] terms are translated to rdf:type when converted to RDF\n",
      "    project_attr = [(prov.PROV[\"type\"], xnat_ns[\"Project\"]),\n",
      "                    (prov.PROV[\"type\"], nidm_ns[\"Project\"]),\n",
      "                    (prov.PROV[\"label\"], project.label()),\n",
      "                    (prov.PROV[\"location\"], project_uri),\n",
      "                    (nidm_ns[\"project_id\"], project.id())]\n",
      "    \n",
      "    # create the activities\n",
      "    \n",
      "    project_iri = xnat_ns[md5.md5(project_uri).hexdigest()]\n",
      "    bundle.activity(project_iri, other_attributes=project_attr)\n",
      "    return project_iri\n",
      "\n",
      "# add a project to the bundle\n",
      "project_iri = add_project(bundle, project)"
     ],
     "language": "python",
     "metadata": {},
     "outputs": [],
     "prompt_number": 70
    },
    {
     "cell_type": "markdown",
     "metadata": {
      "slideshow": {
       "slide_type": "subslide"
      }
     },
     "source": [
      "### RDF Turtle Serialization of PROV Bundle"
     ]
    },
    {
     "cell_type": "code",
     "collapsed": false,
     "input": [
      "print bundle.rdf().serialize(format='turtle')"
     ],
     "language": "python",
     "metadata": {},
     "outputs": [
      {
       "output_type": "stream",
       "stream": "stdout",
       "text": [
        "@prefix nidm: <http://nidm.nidash.org/> .\n",
        "@prefix nitrc: <http://www.nitrc.org/ir/> .\n",
        "@prefix nlx: <http://neurolex.org/> .\n",
        "@prefix prov: <http://www.w3.org/ns/prov#> .\n",
        "@prefix rdf: <http://www.w3.org/1999/02/22-rdf-syntax-ns#> .\n",
        "@prefix rdfs: <http://www.w3.org/2000/01/rdf-schema#> .\n",
        "@prefix xml: <http://www.w3.org/XML/1998/namespace> .\n",
        "@prefix xnat: <http://www.xnat.org/> .\n",
        "@prefix xsd: <http://www.w3.org/2001/XMLSchema#> .\n",
        "@prefix xsd1: <http://www.w3.org/2001/XMLSchema-datatypes#> .\n",
        "\n",
        "prov:wasAssociatedWith prov:role nidm:Participant,\n",
        "        xnat:Subject .\n",
        "\n",
        "<http://www.xnat.org/557b116c5cf46f4bc6453fcff709cb46> a nidm:Project,\n",
        "        prov:Activity,\n",
        "        xnat:Project ;\n",
        "    nidm:project_id \"fcon_1000\" ;\n",
        "    prov:label \"fcon_1000\" ;\n",
        "    prov:location <http://www.nitrc.org/ir/data/projects/fcon_1000> ;\n",
        "    prov:wasAssociatedWith <http://nidm.nidash.org/78c356cc6d4c560addae78d4dca0b794> .\n",
        "\n",
        "<http://nidm.nidash.org/78c356cc6d4c560addae78d4dca0b794> a prov:Agent,\n",
        "        prov:Person ;\n",
        "    nidm:participant_id \"xnat_S00001\" ;\n",
        "    prov:label \"AnnArbor_sub04111\" ;\n",
        "    prov:location <http://www.nitrc.org/ir/data/projects/fcon_1000/subjects/xnat_S00001> .\n",
        "\n",
        "\n"
       ]
      }
     ],
     "prompt_number": 75
    },
    {
     "cell_type": "markdown",
     "metadata": {
      "slideshow": {
       "slide_type": "slide"
      }
     },
     "source": [
      "# Add a Participant to the Bundle\n",
      "\n",
      "- Participant is a prov:role assigned to prov:Person\n",
      "- A role is specific to a given Activity\n",
      "- Thus, a Person can have different roles in different Activities\n",
      "- For example, a Person can be a Participant in one Activity, and a Researcher in another."
     ]
    },
    {
     "cell_type": "code",
     "collapsed": false,
     "input": [
      "def add_participant(bundle, project, project_iri, subject_id):    \n",
      "    \"\"\"fetches a xnat subject object from the project\n",
      "    note: subject is XNAT specific and participant is NI-DM\n",
      "    \"\"\"\n",
      "    subject = project.subject(subject_id)\n",
      "    subject_uri = ''.join([subject._intf._server, subject._uri])\n",
      "                \n",
      "    # setup subject attributes\n",
      "    subject_attr = [(prov.PROV[\"type\"], prov.PROV[\"Person\"]), \n",
      "                    (prov.PROV[\"label\"], subject.label()),\n",
      "                    (prov.PROV[\"location\"], subject_uri),\n",
      "                    (nidm_ns[\"participant_id\"], subject.id())]\n",
      "        \n",
      "    # create an agent \n",
      "    participant_iri = nidm_ns[md5.md5(subject_uri).hexdigest()]\n",
      "    bundle.agent(participant_iri, subject_attr)\n",
      "\n",
      "    # add a relationship between the Project activity and the participant\n",
      "    bundle.wasAssociatedWith(project_iri, agent=participant_iri,\n",
      "                             other_attributes=[(prov.PROV['role'], nidm_ns[\"Participant\"]),\n",
      "                                               (prov.PROV[\"role\"], xnat_ns[\"Subject\"])]) # multiple roles are optional         \n",
      "    return participant_iri"
     ],
     "language": "python",
     "metadata": {},
     "outputs": [],
     "prompt_number": 76
    },
    {
     "cell_type": "markdown",
     "metadata": {
      "slideshow": {
       "slide_type": "slide"
      }
     },
     "source": [
      "# Add a Participant to the Bundle\n",
      "\n",
      "- For this example, we will add only one XNAT subject"
     ]
    },
    {
     "cell_type": "code",
     "collapsed": false,
     "input": [
      "# get the first subject from the project\n",
      "subject_id = project.subjects().get()[0]\n",
      "subject = project.subject(subject_id)\n",
      "\n",
      "# add the subject to the bundle graph\n",
      "participant_iri = add_participant(bundle, project, project_iri, subject_id)"
     ],
     "language": "python",
     "metadata": {},
     "outputs": [],
     "prompt_number": 77
    },
    {
     "cell_type": "markdown",
     "metadata": {
      "slideshow": {
       "slide_type": "subslide"
      }
     },
     "source": [
      "### RDF Turtle Serialization of PROV Bundle"
     ]
    },
    {
     "cell_type": "code",
     "collapsed": false,
     "input": [
      "print bundle.rdf().serialize(format='turtle')"
     ],
     "language": "python",
     "metadata": {},
     "outputs": [
      {
       "output_type": "stream",
       "stream": "stdout",
       "text": [
        "@prefix nidm: <http://nidm.nidash.org/> .\n",
        "@prefix nitrc: <http://www.nitrc.org/ir/> .\n",
        "@prefix nlx: <http://neurolex.org/> .\n",
        "@prefix prov: <http://www.w3.org/ns/prov#> .\n",
        "@prefix rdf: <http://www.w3.org/1999/02/22-rdf-syntax-ns#> .\n",
        "@prefix rdfs: <http://www.w3.org/2000/01/rdf-schema#> .\n",
        "@prefix xml: <http://www.w3.org/XML/1998/namespace> .\n",
        "@prefix xnat: <http://www.xnat.org/> .\n",
        "@prefix xsd: <http://www.w3.org/2001/XMLSchema#> .\n",
        "@prefix xsd1: <http://www.w3.org/2001/XMLSchema-datatypes#> .\n",
        "\n",
        "prov:wasAssociatedWith prov:role nidm:Participant,\n",
        "        xnat:Subject .\n",
        "\n",
        "<http://www.xnat.org/557b116c5cf46f4bc6453fcff709cb46> a nidm:Project,\n",
        "        prov:Activity,\n",
        "        xnat:Project ;\n",
        "    nidm:project_id \"fcon_1000\" ;\n",
        "    prov:label \"fcon_1000\" ;\n",
        "    prov:location <http://www.nitrc.org/ir/data/projects/fcon_1000> ;\n",
        "    prov:wasAssociatedWith <http://nidm.nidash.org/78c356cc6d4c560addae78d4dca0b794> .\n",
        "\n",
        "<http://nidm.nidash.org/78c356cc6d4c560addae78d4dca0b794> a prov:Agent,\n",
        "        prov:Person ;\n",
        "    nidm:participant_id \"xnat_S00001\" ;\n",
        "    prov:label \"AnnArbor_sub04111\" ;\n",
        "    prov:location <http://www.nitrc.org/ir/data/projects/fcon_1000/subjects/xnat_S00001> .\n",
        "\n",
        "\n"
       ]
      }
     ],
     "prompt_number": 78
    },
    {
     "cell_type": "markdown",
     "metadata": {
      "slideshow": {
       "slide_type": "slide"
      }
     },
     "source": [
      "# Add a Demographics Collection\n",
      "\n",
      "- in XNAT the demographics for a subject are located at the Subject level of the hierarchy\n",
      "- in NI-DM demographics is a prov:collection that consists of members\n",
      "- each member is a prov:entity of a given type (e.g., sex, age, handedness)"
     ]
    },
    {
     "cell_type": "code",
     "collapsed": false,
     "input": [
      "def add_demographics_collection(bundle, project, project_iri, participant_iri, subject_id):\n",
      "    # create a demographics collection\n",
      "    subject = project.subject(subject_id)\n",
      "    demographics_uri = ''.join([subject._intf._server, subject._uri, '/xnat:demographics']) # unique URI to hash\n",
      "    demographics_collection_iri = bundle.collection(nidm_ns[md5.md5(demographics_uri).hexdigest()],\n",
      "                                                  [(prov.PROV['type'], nidm_ns['DemographicsCollection']),\n",
      "                                                   (prov.PROV['type'], xnat_ns['demographicsData']),\n",
      "                                                   (prov.PROV['label'], \"Demographics Collection\")]).get_identifier()\n",
      "    # define relationships \n",
      "    bundle.wasAttributedTo(demographics_collection_iri, participant_iri)\n",
      "    bundle.wasGeneratedBy(demographics_collection_iri, project_iri) # could instead be a DemographicsAcquisition Activity\n",
      "    return demographics_collection_iri\n",
      "\n",
      "demographics_collection_iri = add_demographics_collection(bundle, project, project_iri, participant_iri, subject_id)"
     ],
     "language": "python",
     "metadata": {},
     "outputs": [],
     "prompt_number": 79
    },
    {
     "cell_type": "markdown",
     "metadata": {
      "slideshow": {
       "slide_type": "subslide"
      }
     },
     "source": [
      "### RDF Turtle Serialization of PROV Bundle"
     ]
    },
    {
     "cell_type": "code",
     "collapsed": false,
     "input": [
      "print bundle.rdf().serialize(format='turtle')"
     ],
     "language": "python",
     "metadata": {
      "slideshow": {
       "slide_type": "-"
      }
     },
     "outputs": [
      {
       "output_type": "stream",
       "stream": "stdout",
       "text": [
        "@prefix nidm: <http://nidm.nidash.org/> .\n",
        "@prefix nitrc: <http://www.nitrc.org/ir/> .\n",
        "@prefix nlx: <http://neurolex.org/> .\n",
        "@prefix prov: <http://www.w3.org/ns/prov#> .\n",
        "@prefix rdf: <http://www.w3.org/1999/02/22-rdf-syntax-ns#> .\n",
        "@prefix rdfs: <http://www.w3.org/2000/01/rdf-schema#> .\n",
        "@prefix xml: <http://www.w3.org/XML/1998/namespace> .\n",
        "@prefix xnat: <http://www.xnat.org/> .\n",
        "@prefix xsd: <http://www.w3.org/2001/XMLSchema#> .\n",
        "@prefix xsd1: <http://www.w3.org/2001/XMLSchema-datatypes#> .\n",
        "\n",
        "<http://nidm.nidash.org/7f530aef766ef3f0ccd5e35f523d2a99> a nidm:DemographicsCollection,\n",
        "        prov:Collection,\n",
        "        prov:Entity,\n",
        "        xnat:demographicsData ;\n",
        "    prov:label \"Demographics Collection\" ;\n",
        "    prov:wasAttributedTo <http://nidm.nidash.org/78c356cc6d4c560addae78d4dca0b794> ;\n",
        "    prov:wasGeneratedBy <http://www.xnat.org/557b116c5cf46f4bc6453fcff709cb46> .\n",
        "\n",
        "prov:wasAssociatedWith prov:role nidm:Participant,\n",
        "        xnat:Subject .\n",
        "\n",
        "<http://www.xnat.org/557b116c5cf46f4bc6453fcff709cb46> a nidm:Project,\n",
        "        prov:Activity,\n",
        "        xnat:Project ;\n",
        "    nidm:project_id \"fcon_1000\" ;\n",
        "    prov:label \"fcon_1000\" ;\n",
        "    prov:location <http://www.nitrc.org/ir/data/projects/fcon_1000> ;\n",
        "    prov:wasAssociatedWith <http://nidm.nidash.org/78c356cc6d4c560addae78d4dca0b794> .\n",
        "\n",
        "<http://nidm.nidash.org/78c356cc6d4c560addae78d4dca0b794> a prov:Agent,\n",
        "        prov:Person ;\n",
        "    nidm:participant_id \"xnat_S00001\" ;\n",
        "    prov:label \"AnnArbor_sub04111\" ;\n",
        "    prov:location <http://www.nitrc.org/ir/data/projects/fcon_1000/subjects/xnat_S00001> .\n",
        "\n",
        "\n"
       ]
      }
     ],
     "prompt_number": 80
    },
    {
     "cell_type": "markdown",
     "metadata": {
      "slideshow": {
       "slide_type": "slide"
      }
     },
     "source": [
      "# Add Entities to the Demographics Collection\n",
      "\n",
      "- the Demographics Collection contains a number of entities\n",
      "- here we add three typical demographics types to the bundle graph as members\n",
      "- for example: age, handedness, and gender"
     ]
    },
    {
     "cell_type": "code",
     "collapsed": false,
     "input": [
      "def add_demographics_members(bundle, project, subject_id, demographics_collection_iri):\n",
      "    \"\"\"Adds prov:members to a Demographic Collection\"\"\"\n",
      "    subject = project.subject(subject_id)\n",
      "    for elem in subject.xpath('/xnat:Subject/xnat:demographics/*'):\n",
      "        # stage the type, label, and unique uri\n",
      "        attrs = list()\n",
      "        nidm_type = elem.tag.split(\"}\")[1].capitalize()\n",
      "        attrs.append((prov.PROV[\"type\"], nidm_ns[nidm_type]))\n",
      "        attrs.append((prov.PROV[\"label\"], nidm_type))\n",
      "        elem_uri = ''.join([subject._intf._server, subject._uri, '/xnat:demographics/xnat:%s']) % nidm_type\n",
      "        try:\n",
      "            if elem.text.isalpha():\n",
      "                attrs.append((prov.PROV[\"value\"],elem.text))\n",
      "            elif elem.text.isdigit():\n",
      "                attrs.append((prov.PROV[\"value\"],int(elem.text)))\n",
      "            else:\n",
      "                attrs.append((prov.PROV[\"value\"],float(elem.text)))\n",
      "        except ValueError, e:\n",
      "            print e\n",
      "        # create each element and add them as members of the DemographicsCollection\n",
      "        elem_iri = bundle.entity(nidm_ns[md5.md5(elem_uri).hexdigest()], other_attributes=attrs).get_identifier()\n",
      "        bundle.membership(demographics_collection_iri, elem_iri)\n",
      "    return bundle\n",
      "\n",
      "bundle = add_demographics_members(bundle, project, subject_id, demographics_collection_iri)"
     ],
     "language": "python",
     "metadata": {},
     "outputs": [],
     "prompt_number": 81
    },
    {
     "cell_type": "markdown",
     "metadata": {
      "slideshow": {
       "slide_type": "subslide"
      }
     },
     "source": [
      "### RDF Turtle Serialization of PROV Bundle"
     ]
    },
    {
     "cell_type": "code",
     "collapsed": false,
     "input": [
      "print bundle.rdf().serialize(format='turtle')"
     ],
     "language": "python",
     "metadata": {},
     "outputs": [
      {
       "output_type": "stream",
       "stream": "stdout",
       "text": [
        "@prefix nidm: <http://nidm.nidash.org/> .\n",
        "@prefix nitrc: <http://www.nitrc.org/ir/> .\n",
        "@prefix nlx: <http://neurolex.org/> .\n",
        "@prefix prov: <http://www.w3.org/ns/prov#> .\n",
        "@prefix rdf: <http://www.w3.org/1999/02/22-rdf-syntax-ns#> .\n",
        "@prefix rdfs: <http://www.w3.org/2000/01/rdf-schema#> .\n",
        "@prefix xml: <http://www.w3.org/XML/1998/namespace> .\n",
        "@prefix xnat: <http://www.xnat.org/> .\n",
        "@prefix xsd: <http://www.w3.org/2001/XMLSchema#> .\n",
        "@prefix xsd1: <http://www.w3.org/2001/XMLSchema-datatypes#> .\n",
        "\n",
        "<http://nidm.nidash.org/7f530aef766ef3f0ccd5e35f523d2a99> a nidm:DemographicsCollection,\n",
        "        prov:Collection,\n",
        "        prov:Entity,\n",
        "        xnat:demographicsData ;\n",
        "    prov:hadMember <http://nidm.nidash.org/575d7d5078f57486049bf749da75e5dd>,\n",
        "        <http://nidm.nidash.org/73ca2282841958872cb76423dcba5dbe>,\n",
        "        <http://nidm.nidash.org/834c96a6290b5f20397aeaf640ad1d56> ;\n",
        "    prov:label \"Demographics Collection\" ;\n",
        "    prov:wasAttributedTo <http://nidm.nidash.org/78c356cc6d4c560addae78d4dca0b794> ;\n",
        "    prov:wasGeneratedBy <http://www.xnat.org/557b116c5cf46f4bc6453fcff709cb46> .\n",
        "\n",
        "prov:wasAssociatedWith prov:role nidm:Participant,\n",
        "        xnat:Subject .\n",
        "\n",
        "<http://nidm.nidash.org/575d7d5078f57486049bf749da75e5dd> a nidm:Gender,\n",
        "        prov:Entity ;\n",
        "    prov:label \"Gender\" ;\n",
        "    prov:value \"male\" .\n",
        "\n",
        "<http://nidm.nidash.org/73ca2282841958872cb76423dcba5dbe> a nidm:Handedness,\n",
        "        prov:Entity ;\n",
        "    prov:label \"Handedness\" ;\n",
        "    prov:value \"right\" .\n",
        "\n",
        "<http://nidm.nidash.org/834c96a6290b5f20397aeaf640ad1d56> a nidm:Age,\n",
        "        prov:Entity ;\n",
        "    prov:label \"Age\" ;\n",
        "    prov:value 25 .\n",
        "\n",
        "<http://www.xnat.org/557b116c5cf46f4bc6453fcff709cb46> a nidm:Project,\n",
        "        prov:Activity,\n",
        "        xnat:Project ;\n",
        "    nidm:project_id \"fcon_1000\" ;\n",
        "    prov:label \"fcon_1000\" ;\n",
        "    prov:location <http://www.nitrc.org/ir/data/projects/fcon_1000> ;\n",
        "    prov:wasAssociatedWith <http://nidm.nidash.org/78c356cc6d4c560addae78d4dca0b794> .\n",
        "\n",
        "<http://nidm.nidash.org/78c356cc6d4c560addae78d4dca0b794> a prov:Agent,\n",
        "        prov:Person ;\n",
        "    nidm:participant_id \"xnat_S00001\" ;\n",
        "    prov:label \"AnnArbor_sub04111\" ;\n",
        "    prov:location <http://www.nitrc.org/ir/data/projects/fcon_1000/subjects/xnat_S00001> .\n",
        "\n",
        "\n"
       ]
      }
     ],
     "prompt_number": 82
    },
    {
     "cell_type": "markdown",
     "metadata": {
      "slideshow": {
       "slide_type": "slide"
      }
     },
     "source": [
      "# Add a Study Activity\n",
      "\n",
      "- Studies are a prov:activity\n",
      "- represents one or more data Acquisitions \n",
      "- generally associated with a protocol or plan\n",
      "- for example, an MRI study may consists anatomical, BOLD, diffusion MR scan Acquisitions\n",
      "- An XNAT Experiment maps to a NI-DM Study\n",
      "- Note how this _Study_ __wasInformedBy__ _Project_"
     ]
    },
    {
     "cell_type": "code",
     "collapsed": false,
     "input": [
      "# grab the first experiment for the example\n",
      "experiment_id = subject.experiments().get()[0]\n",
      "experiment = subject.experiment(experiment_id)\n",
      "\n",
      "def add_study(bundle, subject, experiment_id, project_iri):\n",
      "    \"\"\"\n",
      "    adds a study to the bundle\n",
      "    \n",
      "    An XNAT Experiment (MRSession) is-a NIDM Study\n",
      "    \"\"\"\n",
      "    experiment = subject.experiment(experiment_id)\n",
      "    study_uri = ''.join([experiment._intf._server, experiment._uri]) # agnostic to global ns objects\n",
      "\n",
      "    # study activity attributes\n",
      "    study_attr = [(prov.PROV[\"type\"], xnat_ns[\"MRSession\"]),\n",
      "                  (prov.PROV[\"type\"], nidm_ns[\"Study\"]),\n",
      "                  (prov.PROV[\"label\"], experiment.label()),\n",
      "                  (prov.PROV[\"location\"], study_uri),\n",
      "                  (xnat_ns[\"acquisition_site\"], experiment.xpath(\"/xnat:MRSession/xnat:acquisition_site/text()\")[0]),\n",
      "                  (xnat_ns[\"fieldStrength\"], experiment.xpath(\"/xnat:MRSession/xnat:fieldStrength/text()\")[0])]\n",
      "    \n",
      "    # create the activity and relationship with Project\n",
      "    study_iri = nidm_ns[md5.md5(study_uri).hexdigest()]\n",
      "    bundle.activity(study_iri, other_attributes=study_attr)\n",
      "    bundle.wasInformedBy(study_iri, project_iri)\n",
      "    return study_iri\n",
      "\n",
      "# add a project to the bundle\n",
      "study_iri = add_study(bundle, subject, experiment_id, project_iri)"
     ],
     "language": "python",
     "metadata": {
      "slideshow": {
       "slide_type": "subslide"
      }
     },
     "outputs": [],
     "prompt_number": 89
    },
    {
     "cell_type": "markdown",
     "metadata": {},
     "source": [
      "### RDF Turtle Serialization of PROV Bundle"
     ]
    },
    {
     "cell_type": "code",
     "collapsed": false,
     "input": [
      "print bundle.rdf().serialize(format='turtle')"
     ],
     "language": "python",
     "metadata": {},
     "outputs": [
      {
       "output_type": "stream",
       "stream": "stdout",
       "text": [
        "@prefix nidm: <http://nidm.nidash.org/> .\n",
        "@prefix nitrc: <http://www.nitrc.org/ir/> .\n",
        "@prefix nlx: <http://neurolex.org/> .\n",
        "@prefix prov: <http://www.w3.org/ns/prov#> .\n",
        "@prefix rdf: <http://www.w3.org/1999/02/22-rdf-syntax-ns#> .\n",
        "@prefix rdfs: <http://www.w3.org/2000/01/rdf-schema#> .\n",
        "@prefix xml: <http://www.w3.org/XML/1998/namespace> .\n",
        "@prefix xnat: <http://www.xnat.org/> .\n",
        "@prefix xsd: <http://www.w3.org/2001/XMLSchema#> .\n",
        "@prefix xsd1: <http://www.w3.org/2001/XMLSchema-datatypes#> .\n",
        "\n",
        "<http://nidm.nidash.org/23d48779520c4a9d0d1e22bbad09d89c> a nidm:Study,\n",
        "        prov:Activity,\n",
        "        xnat:MRSession ;\n",
        "    prov:label \"AnnArbor_sub04111\" ;\n",
        "    prov:location <http://www.nitrc.org/ir/data/projects/fcon_1000/subjects/xnat_S00001/experiments/xnat_E00001> ;\n",
        "    prov:wasInformedBy <http://www.xnat.org/557b116c5cf46f4bc6453fcff709cb46> ;\n",
        "    xnat:acquisition_site \"AnnArbor\" ;\n",
        "    xnat:fieldStrength \"3T\" .\n",
        "\n",
        "<http://nidm.nidash.org/7f530aef766ef3f0ccd5e35f523d2a99> a nidm:DemographicsCollection,\n",
        "        prov:Collection,\n",
        "        prov:Entity,\n",
        "        xnat:demographicsData ;\n",
        "    prov:hadMember <http://nidm.nidash.org/575d7d5078f57486049bf749da75e5dd>,\n",
        "        <http://nidm.nidash.org/73ca2282841958872cb76423dcba5dbe>,\n",
        "        <http://nidm.nidash.org/834c96a6290b5f20397aeaf640ad1d56> ;\n",
        "    prov:label \"Demographics Collection\" ;\n",
        "    prov:wasAttributedTo <http://nidm.nidash.org/78c356cc6d4c560addae78d4dca0b794> ;\n",
        "    prov:wasGeneratedBy <http://www.xnat.org/557b116c5cf46f4bc6453fcff709cb46> .\n",
        "\n",
        "prov:wasAssociatedWith prov:role nidm:Participant,\n",
        "        xnat:Subject .\n",
        "\n",
        "<http://www.xnat.org/7be9dfd63b25d1e88c368238703ccdca> a nidm:Study,\n",
        "        prov:Activity,\n",
        "        xnat:MRSession ;\n",
        "    prov:label \"AnnArbor_sub04111\" ;\n",
        "    prov:location <http://www.nitrc.org/ir/data/projects/fcon_1000/subjects/xnat_S00001/experiments/xnat_E00001> ;\n",
        "    prov:wasInformedBy <http://www.xnat.org/557b116c5cf46f4bc6453fcff709cb46> ;\n",
        "    xnat:acquisition_site \"AnnArbor\" ;\n",
        "    xnat:fieldStrength \"3T\" .\n",
        "\n",
        "<http://nidm.nidash.org/575d7d5078f57486049bf749da75e5dd> a nidm:Gender,\n",
        "        prov:Entity ;\n",
        "    prov:label \"Gender\" ;\n",
        "    prov:value \"male\" .\n",
        "\n",
        "<http://nidm.nidash.org/73ca2282841958872cb76423dcba5dbe> a nidm:Handedness,\n",
        "        prov:Entity ;\n",
        "    prov:label \"Handedness\" ;\n",
        "    prov:value \"right\" .\n",
        "\n",
        "<http://nidm.nidash.org/834c96a6290b5f20397aeaf640ad1d56> a nidm:Age,\n",
        "        prov:Entity ;\n",
        "    prov:label \"Age\" ;\n",
        "    prov:value 25 .\n",
        "\n",
        "<http://nidm.nidash.org/78c356cc6d4c560addae78d4dca0b794> a prov:Agent,\n",
        "        prov:Person ;\n",
        "    nidm:participant_id \"xnat_S00001\" ;\n",
        "    prov:label \"AnnArbor_sub04111\" ;\n",
        "    prov:location <http://www.nitrc.org/ir/data/projects/fcon_1000/subjects/xnat_S00001> .\n",
        "\n",
        "<http://www.xnat.org/557b116c5cf46f4bc6453fcff709cb46> a nidm:Project,\n",
        "        prov:Activity,\n",
        "        xnat:Project ;\n",
        "    nidm:project_id \"fcon_1000\" ;\n",
        "    prov:label \"fcon_1000\" ;\n",
        "    prov:location <http://www.nitrc.org/ir/data/projects/fcon_1000> ;\n",
        "    prov:wasAssociatedWith <http://nidm.nidash.org/78c356cc6d4c560addae78d4dca0b794> .\n",
        "\n",
        "\n"
       ]
      }
     ],
     "prompt_number": 90
    },
    {
     "cell_type": "markdown",
     "metadata": {
      "slideshow": {
       "slide_type": "slide"
      }
     },
     "source": [
      "# Add an Acquisition Activity\n",
      "\n",
      "- Acquisitions are a prov:activity\n",
      "- An Acquisition represents one or more streams of data\n",
      "- For example, an anatomical MRI, BOLD, or physioogical recording\n",
      "- Two or more simultaneous acquisitions are part of the same \"Epoch\"\n",
      "- Epochs are inferred based on timestamps"
     ]
    },
    {
     "cell_type": "code",
     "collapsed": false,
     "input": [],
     "language": "python",
     "metadata": {},
     "outputs": []
    },
    {
     "cell_type": "code",
     "collapsed": false,
     "input": [],
     "language": "python",
     "metadata": {},
     "outputs": [],
     "prompt_number": 45
    },
    {
     "cell_type": "code",
     "collapsed": false,
     "input": [],
     "language": "python",
     "metadata": {},
     "outputs": [],
     "prompt_number": 81
    },
    {
     "cell_type": "code",
     "collapsed": false,
     "input": [],
     "language": "python",
     "metadata": {},
     "outputs": [],
     "prompt_number": 81
    },
    {
     "cell_type": "code",
     "collapsed": false,
     "input": [],
     "language": "python",
     "metadata": {},
     "outputs": []
    }
   ],
   "metadata": {}
  }
 ]
}