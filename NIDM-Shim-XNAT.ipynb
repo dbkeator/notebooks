{
 "metadata": {
  "name": "NIDM-Shim-XNAT"
 },
 "nbformat": 3,
 "nbformat_minor": 0,
 "worksheets": [
  {
   "cells": [
    {
     "cell_type": "markdown",
     "metadata": {
      "slideshow": {
       "slide_type": "slide"
      }
     },
     "source": [
      "# NIDASH Database Shims\n",
      "### An example using XNAT \n",
      "\n",
      "INCF NIDASH Task Force\n",
      "\n",
      "Written by:\n",
      "Nolan Nichols nolan.nichols@gmail.com"
     ]
    },
    {
     "cell_type": "markdown",
     "metadata": {
      "slideshow": {
       "slide_type": "slide"
      }
     },
     "source": [
      "# What is a Shim?\n",
      "\n",
      "- A light-weight wrapper that translates between data schemas or models\n",
      "- For example, translating between XNAT and the NIDASH Data Model\n",
      "- Provide access to a common representation of information"
     ]
    },
    {
     "cell_type": "markdown",
     "metadata": {
      "slideshow": {
       "slide_type": "slide"
      }
     },
     "source": [
      "# An Example Shim\n",
      "\n",
      "- XNAT exposes a RESTful API based on HTTP requests\n",
      "- [pyXNAT](http://pythonhosted.org/pyxnat) is a Python client to access the XNAT API\n",
      "- [PROV](https://github.com/trungdong/prov) is a Python library that implements the [PROV Data Model](http://www.w3.org/TR/prov-dm/)\n",
      "- This notebook illustrates how to use pyXNAT and PROV to translate XNAT into an extension of the PROV Data Model\n",
      "- We extend the PROV Data Model with Neuroimaging terms - these terms constitute the NIDASH Data Model"
     ]
    },
    {
     "cell_type": "markdown",
     "metadata": {
      "slideshow": {
       "slide_type": "slide"
      }
     },
     "source": [
      "# Import Python Libraries\n",
      "\n",
      "- these are the basic libraries we will use throughout this example"
     ]
    },
    {
     "cell_type": "code",
     "collapsed": false,
     "input": [
      "# system\n",
      "import os\n",
      "import md5\n",
      "import urlparse\n",
      "from socket import getfqdn\n",
      "\n",
      "\n",
      "import prov.model as prov # prov data model\n",
      "from pyxnat import Interface # access xnat"
     ],
     "language": "python",
     "metadata": {},
     "outputs": [],
     "prompt_number": 55
    },
    {
     "cell_type": "markdown",
     "metadata": {
      "slideshow": {
       "slide_type": "slide"
      }
     },
     "source": [
      "# Establish a Connection to XNAT\n",
      "\n",
      "- pyXNAT allows us to access each level of the XNAT API hierarchy\n",
      "- we will convert each level into PROV, one step at a time\n",
      "- This hierarchy is organized like so:"
     ]
    },
    {
     "cell_type": "raw",
     "metadata": {},
     "source": [
      "Project\n",
      "|-Subject\n",
      "  |-Experiment\n",
      "    |-Scan\n",
      "      |-Resource\n",
      "        |-File\n",
      "        "
     ]
    },
    {
     "cell_type": "code",
     "collapsed": false,
     "input": [
      "# Define entry point to the XNAT API\n",
      "XNAT_ENDPOINT = \"http://www.nitrc.org/ir\"\n",
      "\n",
      "# Connect to XNAT\n",
      "xnat = Interface(server=XNAT_ENDPOINT, anonymous=True)\n",
      "\n",
      "# Get a List of Available Projects\n",
      "projects = xnat.select.projects().get()\n",
      "print projects"
     ],
     "language": "python",
     "metadata": {
      "slideshow": {
       "slide_type": "subslide"
      }
     },
     "outputs": [
      {
       "output_type": "stream",
       "stream": "stdout",
       "text": [
        "['ABIDE', 'adhd_200', 'beijing_enh', 'beijing_eoec', 'cs_schizbull08', 'fcon_1000', 'MICCAISATA2013', 'short_tr']\n"
       ]
      }
     ],
     "prompt_number": 56
    },
    {
     "cell_type": "code",
     "collapsed": false,
     "input": [
      "# Pick a Specific Project and Connect \n",
      "PROJECT = \"fcon_1000\"\n",
      "project = xnat.select.project(PROJECT)\n",
      "print project.xpath('xnat:description/text()')"
     ],
     "language": "python",
     "metadata": {},
     "outputs": [
      {
       "output_type": "stream",
       "stream": "stdout",
       "text": [
        "['The 1000 Functional Connectomes Project.']\n"
       ]
      }
     ],
     "prompt_number": 57
    },
    {
     "cell_type": "markdown",
     "metadata": {
      "slideshow": {
       "slide_type": "slide"
      }
     },
     "source": [
      "# Create a PROV Bundle to Store XNAT Information\n",
      "\n",
      "- A Bundle provides a way to describe a PROV document \n",
      "- A ProvBundle object creates an in memory graph \n",
      "- The graph is used to store Entities, Activities, Agents and their Relationships"
     ]
    },
    {
     "cell_type": "code",
     "collapsed": false,
     "input": [
      "# create a prov bundle to store the graph\n",
      "bundle = prov.ProvBundle()\n",
      "\n",
      "# define namespaces \n",
      "nidm_ns = prov.Namespace(\"nidm\", \"http://nidm.nidash.org/\")\n",
      "nitrc_ns = prov.Namespace(\"nitrc\", \"http://www.nitrc.org/ir/\")\n",
      "xnat_ns = prov.Namespace(\"xnat\", \"http://www.xnat.org/\")\n",
      "niiri_ns = prov.Namespace(\"niiri\", \"http://nidm.nidash.org/iri/\")\n",
      "obo_ns = prov.Namespace(\"obo\", \"http://purl.obolibrary.org/obo/\")\n",
      "nif_ns = prov.Namespace(\"nif\", \"http://neurolex.org/wiki/\")\n",
      "\n",
      "# add namespaces to the graph\n",
      "bundle.add_namespace(nidm_ns)\n",
      "bundle.add_namespace(nitrc_ns)\n",
      "bundle.add_namespace(xnat_ns)\n",
      "bundle.add_namespace(niiri_ns)\n",
      "bundle.add_namespace(obo_ns)\n",
      "bundle.add_namespace(nif_ns)"
     ],
     "language": "python",
     "metadata": {
      "slideshow": {
       "slide_type": "subslide"
      }
     },
     "outputs": [],
     "prompt_number": 58
    },
    {
     "cell_type": "code",
     "collapsed": false,
     "input": [
      "print bundle"
     ],
     "language": "python",
     "metadata": {
      "slideshow": {
       "slide_type": "subslide"
      }
     },
     "outputs": [
      {
       "output_type": "stream",
       "stream": "stdout",
       "text": [
        "document\n",
        "  prefix obo <http://purl.obolibrary.org/obo/>\n",
        "  prefix nitrc <http://www.nitrc.org/ir/>\n",
        "  prefix nif <http://neurolex.org/wiki/>\n",
        "  prefix nidm <http://nidm.nidash.org/>\n",
        "  prefix xnat <http://www.xnat.org/>\n",
        "  prefix niiri <http://nidm.nidash.org/iri/>\n",
        "  \n",
        "endDocument\n"
       ]
      }
     ],
     "prompt_number": 59
    },
    {
     "cell_type": "markdown",
     "metadata": {
      "slideshow": {
       "slide_type": "slide"
      }
     },
     "source": [
      "# Add a Project to the Bundle\n",
      "\n",
      "- Project is-a prov:activity and a NI-DM primitive\n",
      "- Projects define a period of time during which Project Activities occur\n",
      "- Addtional metadata may be appended to a Project"
     ]
    },
    {
     "cell_type": "code",
     "collapsed": false,
     "input": [
      "def add_project(bundle, project):\n",
      "    \"\"\"\n",
      "    add a project to the bundle graph\n",
      "    \"\"\"\n",
      "#    ns = bundle._namespaces\n",
      "#    ns['nitrc']['myTerm']\n",
      "#    nitrc_base = [ns.get_uri() for ns in  bundle.get_registered_namespaces() if ns.get_prefix() == 'nitrc'][0]\n",
      "\n",
      "    project_uri = urlparse.urljoin(project._intf._server, project._uri) # agnostic to global ns objects\n",
      "\n",
      "    # project activity attributes\n",
      "    # note: all prov.PROV[\"type\"] terms are translated to rdf:type when converted to RDF\n",
      "    project_attr = [(prov.PROV[\"type\"], xnat_ns[\"Project\"]),\n",
      "                    (prov.PROV[\"type\"], nidm_ns[\"Project\"]),\n",
      "                    (prov.PROV[\"label\"], project.label()),\n",
      "                    (prov.PROV[\"location\"], nitrc_ns[project._uri[1:]]),\n",
      "                    (nidm_ns[\"project_id\"], project.id())]\n",
      "    \n",
      "    # create the activities\n",
      "    \n",
      "    project_iri = xnat_ns[md5.md5(project_uri).hexdigest()]\n",
      "    bundle.activity(project_iri, other_attributes=project_attr)\n",
      "    return project_iri\n",
      "\n",
      "# add a project to the bundle\n",
      "project_iri = add_project(bundle, project)"
     ],
     "language": "python",
     "metadata": {},
     "outputs": [],
     "prompt_number": 60
    },
    {
     "cell_type": "code",
     "collapsed": false,
     "input": [
      "print bundle"
     ],
     "language": "python",
     "metadata": {
      "slideshow": {
       "slide_type": "subslide"
      }
     },
     "outputs": [
      {
       "output_type": "stream",
       "stream": "stdout",
       "text": [
        "document\n",
        "  prefix obo <http://purl.obolibrary.org/obo/>\n",
        "  prefix nitrc <http://www.nitrc.org/ir/>\n",
        "  prefix nif <http://neurolex.org/wiki/>\n",
        "  prefix nidm <http://nidm.nidash.org/>\n",
        "  prefix xnat <http://www.xnat.org/>\n",
        "  prefix niiri <http://nidm.nidash.org/iri/>\n",
        "  \n",
        "  activity(xnat:efd3259e7e509f079bc8a5812a0db466, -, -, [prov:type='xnat:Project', prov:type='nidm:Project', prov:label=\"fcon_1000\", prov:location='nitrc:data/projects/fcon_1000', nidm:project_id=\"fcon_1000\"])\n",
        "endDocument\n"
       ]
      }
     ],
     "prompt_number": 61
    },
    {
     "cell_type": "markdown",
     "metadata": {
      "slideshow": {
       "slide_type": "slide"
      }
     },
     "source": [
      "# Add a Participant to the Bundle\n",
      "\n",
      "- Participant is a prov:role assigned to prov:Person\n",
      "- A role is specific to a given Activity\n",
      "- Thus, a Person can have different roles in different Activities\n",
      "- For example, a Person can be a Participant in one Activity, and a Researcher in another."
     ]
    },
    {
     "cell_type": "code",
     "collapsed": false,
     "input": [
      "def add_participant(bundle, project, project_iri, subject_id):    \n",
      "    # fetch a xnat subject object from the project\n",
      "    # note: subject is XNAT specific and participant is NI-DM\n",
      "    subject = project.subject(subject_id)\n",
      "    subject_uri = urlparse.urljoin(subject._intf._server, subject._uri)\n",
      "                \n",
      "    # setup subject attributes\n",
      "    subject_attr = [(prov.PROV[\"type\"], prov.PROV[\"person\"]), \n",
      "                    (prov.PROV[\"label\"], subject.label()),\n",
      "                    (prov.PROV[\"location\"], nitrc_ns[subject._uri]),\n",
      "                    (nidm_ns[\"participant_id\"], subject.id())]\n",
      "        \n",
      "    # create an agent \n",
      "    participant_iri = bundle.agent(niiri_ns[md5.md5(subject_uri).hexdigest()], subject_attr).get_identifier()\n",
      "\n",
      "    # add a relationship between the Project activity and the participant\n",
      "    bundle.wasAssociatedWith(project_iri, agent=participant_iri,\n",
      "                             other_attributes=[(prov.PROV['role'], nidm_ns[\"participant\"]),\n",
      "                                               (prov.PROV[\"role\"], xnat_ns[\"Subject\"])]) # multiple roles are optional         \n",
      "    return participant_iri"
     ],
     "language": "python",
     "metadata": {},
     "outputs": [],
     "prompt_number": 62
    },
    {
     "cell_type": "markdown",
     "metadata": {
      "slideshow": {
       "slide_type": "slide"
      }
     },
     "source": [
      "# Add a Participant to the Bundle\n",
      "\n",
      "- For this example, we will add only one XNAT subject"
     ]
    },
    {
     "cell_type": "code",
     "collapsed": false,
     "input": [
      "# get the first subject from the project\n",
      "subject_id = project.subjects().get()[0]\n",
      "subject = project.subject(subject_id)\n",
      "\n",
      "# add the subject to the bundle graph\n",
      "participant_iri = add_participant(bundle, project, project_iri, subject_id)\n",
      "    \n",
      "print bundle"
     ],
     "language": "python",
     "metadata": {},
     "outputs": [
      {
       "output_type": "stream",
       "stream": "stdout",
       "text": [
        "document\n",
        "  prefix obo <http://purl.obolibrary.org/obo/>\n",
        "  prefix nitrc <http://www.nitrc.org/ir/>\n",
        "  prefix nif <http://neurolex.org/wiki/>\n",
        "  prefix nidm <http://nidm.nidash.org/>\n",
        "  prefix xnat <http://www.xnat.org/>\n",
        "  prefix niiri <http://nidm.nidash.org/iri/>\n",
        "  \n",
        "  activity(xnat:efd3259e7e509f079bc8a5812a0db466, -, -, [prov:type='xnat:Project', prov:type='nidm:Project', prov:label=\"fcon_1000\", prov:location='nitrc:data/projects/fcon_1000', nidm:project_id=\"fcon_1000\"])\n",
        "  agent(niiri:28c8d1ae27561840d0827e1d655dadf8, [prov:type='prov:person', prov:label=\"AnnArbor_sub04111\", prov:location='nitrc:/data/projects/fcon_1000/subjects/xnat_S00001', nidm:participant_id=\"xnat_S00001\"])\n",
        "  wasAssociatedWith(xnat:efd3259e7e509f079bc8a5812a0db466, niiri:28c8d1ae27561840d0827e1d655dadf8, -, [prov:role='nidm:participant', prov:role='xnat:Subject'])\n",
        "endDocument\n"
       ]
      }
     ],
     "prompt_number": 63
    },
    {
     "cell_type": "markdown",
     "metadata": {
      "slideshow": {
       "slide_type": "slide"
      }
     },
     "source": [
      "# Add a Demographics Collection\n",
      "\n",
      "- in XNAT the demographics for a subject are located at the Subject level of the hierarchy\n",
      "- in NI-DM demographics is a prov:collection that consists of members\n",
      "- each member is a prov:entity of a given type (e.g., sex, age, handedness)"
     ]
    },
    {
     "cell_type": "code",
     "collapsed": false,
     "input": [
      "def add_demographics_collection(bundle, project, project_iri, participant_iri, subject_id):\n",
      "    # create a demographics collection\n",
      "    subject = project.subject(subject_id)\n",
      "    demographics_uri = urlparse.urljoin(subject._intf._server, subject._uri + '/xnat:demographics') # unique URI to hash\n",
      "    demographics_collection_iri = bundle.collection(niiri_ns[md5.md5(demographics_uri).hexdigest()],\n",
      "                                                  [(prov.PROV['type'], nidm_ns['DemographicsCollection']),\n",
      "                                                   (prov.PROV['type'], xnat_ns['demographicsData']),\n",
      "                                                   (prov.PROV['label'], \"Demographics Collection\")]).get_identifier()\n",
      "    # define relationships \n",
      "    bundle.wasAttributedTo(demographics_collection_iri, participant_iri)\n",
      "    bundle.wasGeneratedBy(demographics_collection_iri, project_iri) # could instead be a DemographicsAcquisition Activity\n",
      "    return demographics_collection_iri\n",
      "\n",
      "demographics_collection_iri = add_demographics_collection(bundle, project, project_iri, participant_iri, subject_id)"
     ],
     "language": "python",
     "metadata": {},
     "outputs": [],
     "prompt_number": 64
    },
    {
     "cell_type": "code",
     "collapsed": false,
     "input": [
      "print bundle"
     ],
     "language": "python",
     "metadata": {
      "slideshow": {
       "slide_type": "subslide"
      }
     },
     "outputs": [
      {
       "output_type": "stream",
       "stream": "stdout",
       "text": [
        "document\n",
        "  prefix obo <http://purl.obolibrary.org/obo/>\n",
        "  prefix nitrc <http://www.nitrc.org/ir/>\n",
        "  prefix nif <http://neurolex.org/wiki/>\n",
        "  prefix nidm <http://nidm.nidash.org/>\n",
        "  prefix xnat <http://www.xnat.org/>\n",
        "  prefix niiri <http://nidm.nidash.org/iri/>\n",
        "  \n",
        "  activity(xnat:efd3259e7e509f079bc8a5812a0db466, -, -, [prov:type='xnat:Project', prov:type='nidm:Project', prov:label=\"fcon_1000\", prov:location='nitrc:data/projects/fcon_1000', nidm:project_id=\"fcon_1000\"])\n",
        "  agent(niiri:28c8d1ae27561840d0827e1d655dadf8, [prov:type='prov:person', prov:label=\"AnnArbor_sub04111\", prov:location='nitrc:/data/projects/fcon_1000/subjects/xnat_S00001', nidm:participant_id=\"xnat_S00001\"])\n",
        "  wasAssociatedWith(xnat:efd3259e7e509f079bc8a5812a0db466, niiri:28c8d1ae27561840d0827e1d655dadf8, -, [prov:role='nidm:participant', prov:role='xnat:Subject'])\n",
        "  entity(niiri:4f2cb6c84b0d58ed0c69a90247fb536a, [prov:type='nidm:DemographicsCollection', prov:type='xnat:demographicsData', prov:label=\"Demographics Collection\", prov:type='prov:Collection'])\n",
        "  wasAttributedTo(niiri:4f2cb6c84b0d58ed0c69a90247fb536a, niiri:28c8d1ae27561840d0827e1d655dadf8)\n",
        "  wasGeneratedBy(niiri:4f2cb6c84b0d58ed0c69a90247fb536a, xnat:efd3259e7e509f079bc8a5812a0db466, -)\n",
        "endDocument\n"
       ]
      }
     ],
     "prompt_number": 65
    },
    {
     "cell_type": "markdown",
     "metadata": {
      "slideshow": {
       "slide_type": "slide"
      }
     },
     "source": [
      "# Add Entities to the Demographics Collection\n",
      "\n",
      "- the Demographics Collection contains a number of entities\n",
      "- here we add three typical demographics types to the bundle graph as members\n",
      "- for example: age, handedness, and gender"
     ]
    },
    {
     "cell_type": "code",
     "collapsed": false,
     "input": [
      "def add_demographics_members(bundle, project, subject_id, demographics_collection_iri):\n",
      "    \"\"\"Add prov:members to a Demographic Collection\"\"\"\n",
      "    subject = project.subject(subject_id)\n",
      "    for elem in subject.xpath('/xnat:Subject/xnat:demographics/*'):\n",
      "        # stage the type, label, and unique uri\n",
      "        attrs = list()\n",
      "        nidm_type = elem.tag.split(\"}\")[1].capitalize()\n",
      "        attrs.append((prov.PROV[\"type\"], nidm_ns[nidm_type]))\n",
      "        attrs.append((prov.PROV[\"label\"], nidm_type))\n",
      "        elem_uri = urlparse.urljoin(subject._intf._server, subject._uri + '/xnat:demographics/xnat:%s') % nidm_type\n",
      "        try:\n",
      "            if elem.text.isalpha():\n",
      "                attrs.append((prov.PROV[\"value\"],elem.text))\n",
      "            elif elem.text.isdigit():\n",
      "                attrs.append((prov.PROV[\"value\"],int(elem.text)))\n",
      "            else:\n",
      "                attrs.append((prov.PROV[\"value\"],float(elem.text)))\n",
      "        except ValueError, e:\n",
      "            print e\n",
      "        # create each element and add them as members of the DemographicsCollection\n",
      "        elem_iri = bundle.entity(niiri_ns[md5.md5(elem_uri).hexdigest()], other_attributes=attrs).get_identifier()\n",
      "        bundle.membership(demographics_collection_iri, elem_iri)\n",
      "    return bundle\n",
      "\n",
      "bundle = add_demographics_members(bundle, project, subject_id, demographics_collection_iri)"
     ],
     "language": "python",
     "metadata": {},
     "outputs": [],
     "prompt_number": 66
    },
    {
     "cell_type": "code",
     "collapsed": false,
     "input": [
      "print bundle"
     ],
     "language": "python",
     "metadata": {
      "slideshow": {
       "slide_type": "subslide"
      }
     },
     "outputs": [
      {
       "output_type": "stream",
       "stream": "stdout",
       "text": [
        "document\n",
        "  prefix obo <http://purl.obolibrary.org/obo/>\n",
        "  prefix nitrc <http://www.nitrc.org/ir/>\n",
        "  prefix nif <http://neurolex.org/wiki/>\n",
        "  prefix nidm <http://nidm.nidash.org/>\n",
        "  prefix xnat <http://www.xnat.org/>\n",
        "  prefix niiri <http://nidm.nidash.org/iri/>\n",
        "  \n",
        "  activity(xnat:efd3259e7e509f079bc8a5812a0db466, -, -, [prov:type='xnat:Project', prov:type='nidm:Project', prov:label=\"fcon_1000\", prov:location='nitrc:data/projects/fcon_1000', nidm:project_id=\"fcon_1000\"])\n",
        "  agent(niiri:28c8d1ae27561840d0827e1d655dadf8, [prov:type='prov:person', prov:label=\"AnnArbor_sub04111\", prov:location='nitrc:/data/projects/fcon_1000/subjects/xnat_S00001', nidm:participant_id=\"xnat_S00001\"])\n",
        "  wasAssociatedWith(xnat:efd3259e7e509f079bc8a5812a0db466, niiri:28c8d1ae27561840d0827e1d655dadf8, -, [prov:role='nidm:participant', prov:role='xnat:Subject'])\n",
        "  entity(niiri:4f2cb6c84b0d58ed0c69a90247fb536a, [prov:type='nidm:DemographicsCollection', prov:type='xnat:demographicsData', prov:label=\"Demographics Collection\", prov:type='prov:Collection'])\n",
        "  wasAttributedTo(niiri:4f2cb6c84b0d58ed0c69a90247fb536a, niiri:28c8d1ae27561840d0827e1d655dadf8)\n",
        "  wasGeneratedBy(niiri:4f2cb6c84b0d58ed0c69a90247fb536a, xnat:efd3259e7e509f079bc8a5812a0db466, -)\n",
        "  entity(niiri:a2b3c8b01aff780a942abcdeee2cc134, [prov:type='nidm:Age', prov:label=\"Age\", prov:value=25])\n",
        "  hadMember(niiri:4f2cb6c84b0d58ed0c69a90247fb536a, niiri:a2b3c8b01aff780a942abcdeee2cc134)\n",
        "  entity(niiri:04b4d9b9d09fe045f2ef56cedfeb0cde, [prov:type='nidm:Gender', prov:label=\"Gender\", prov:value=\"male\"])\n",
        "  hadMember(niiri:4f2cb6c84b0d58ed0c69a90247fb536a, niiri:04b4d9b9d09fe045f2ef56cedfeb0cde)\n",
        "  entity(niiri:48af415bead68808ff8a120ce61dc4ec, [prov:type='nidm:Handedness', prov:label=\"Handedness\", prov:value=\"right\"])\n",
        "  hadMember(niiri:4f2cb6c84b0d58ed0c69a90247fb536a, niiri:48af415bead68808ff8a120ce61dc4ec)\n",
        "endDocument\n"
       ]
      }
     ],
     "prompt_number": 67
    },
    {
     "cell_type": "markdown",
     "metadata": {
      "slideshow": {
       "slide_type": "slide"
      }
     },
     "source": [
      "# Add a Study Activity\n",
      "\n",
      "- Studies are a prov:activity\n",
      "- represents one or more data Acquisitions \n",
      "- generally associated with a protocol or plan\n",
      "- for example, an MRI study may consists anatomical, BOLD, diffusion MR scan Acquisitions\n",
      "- An XNAT Experiment maps to a NI-DM Study\n",
      "- Note how this _Study_ __wasInformedBy__ _Project_"
     ]
    },
    {
     "cell_type": "code",
     "collapsed": false,
     "input": [
      "# grab the first experiment for the example\n",
      "experiment_id = subject.experiments().get()[0]\n",
      "experiment = subject.experiment(experiment_id)\n",
      "\n",
      "def add_study(bundle, subject, experiment_id, project_iri):\n",
      "    \"\"\"\n",
      "    add a study to the bundle\n",
      "    \"\"\"\n",
      "    experiment = subject.experiment(experiment_id)\n",
      "    study_uri = urlparse.urljoin(experiment._intf._server, experiment._uri) # agnostic to global ns objects\n",
      "\n",
      "    # study activity attributes\n",
      "    study_attr = [(prov.PROV[\"type\"], xnat_ns[\"MRSession\"]),\n",
      "                  (prov.PROV[\"type\"], nidm_ns[\"Study\"]),\n",
      "                  (prov.PROV[\"label\"], experiment.label()),\n",
      "                  (prov.PROV[\"location\"], nitrc_ns[experiment._uri[1:]]),\n",
      "                  (xnat_ns[\"acquisition_site\"], experiment.xpath(\"/xnat:MRSession/xnat:acquisition_site/text()\")[0]),\n",
      "                  (xnat_ns[\"fieldStrength\"], experiment.xpath(\"/xnat:MRSession/xnat:fieldStrength/text()\")[0])]\n",
      "    \n",
      "    # create the activity and relationship with Project\n",
      "    study_iri = xnat_ns[md5.md5(study_uri).hexdigest()]\n",
      "    bundle.activity(study_iri, other_attributes=study_attr)\n",
      "    bundle.wasInformedBy(study_iri, project_iri)\n",
      "    return study_iri\n",
      "\n",
      "# add a project to the bundle\n",
      "study_iri = add_study(bundle, subject, experiment_id, project_iri)"
     ],
     "language": "python",
     "metadata": {
      "slideshow": {
       "slide_type": "subslide"
      }
     },
     "outputs": [],
     "prompt_number": 71
    },
    {
     "cell_type": "code",
     "collapsed": false,
     "input": [
      "print bundle"
     ],
     "language": "python",
     "metadata": {
      "slideshow": {
       "slide_type": "subslide"
      }
     },
     "outputs": [
      {
       "output_type": "stream",
       "stream": "stdout",
       "text": [
        "document\n",
        "  prefix obo <http://purl.obolibrary.org/obo/>\n",
        "  prefix nitrc <http://www.nitrc.org/ir/>\n",
        "  prefix nif <http://neurolex.org/wiki/>\n",
        "  prefix nidm <http://nidm.nidash.org/>\n",
        "  prefix xnat <http://www.xnat.org/>\n",
        "  prefix niiri <http://nidm.nidash.org/iri/>\n",
        "  \n",
        "  activity(xnat:efd3259e7e509f079bc8a5812a0db466, -, -, [prov:type='xnat:Project', prov:type='nidm:Project', prov:label=\"fcon_1000\", prov:location='nitrc:data/projects/fcon_1000', nidm:project_id=\"fcon_1000\"])\n",
        "  agent(niiri:28c8d1ae27561840d0827e1d655dadf8, [prov:type='prov:person', prov:label=\"AnnArbor_sub04111\", prov:location='nitrc:/data/projects/fcon_1000/subjects/xnat_S00001', nidm:participant_id=\"xnat_S00001\"])\n",
        "  wasAssociatedWith(xnat:efd3259e7e509f079bc8a5812a0db466, niiri:28c8d1ae27561840d0827e1d655dadf8, -, [prov:role='nidm:participant', prov:role='xnat:Subject'])\n",
        "  entity(niiri:4f2cb6c84b0d58ed0c69a90247fb536a, [prov:type='nidm:DemographicsCollection', prov:type='xnat:demographicsData', prov:label=\"Demographics Collection\", prov:type='prov:Collection'])\n",
        "  wasAttributedTo(niiri:4f2cb6c84b0d58ed0c69a90247fb536a, niiri:28c8d1ae27561840d0827e1d655dadf8)\n",
        "  wasGeneratedBy(niiri:4f2cb6c84b0d58ed0c69a90247fb536a, xnat:efd3259e7e509f079bc8a5812a0db466, -)\n",
        "  entity(niiri:a2b3c8b01aff780a942abcdeee2cc134, [prov:type='nidm:Age', prov:label=\"Age\", prov:value=25])\n",
        "  hadMember(niiri:4f2cb6c84b0d58ed0c69a90247fb536a, niiri:a2b3c8b01aff780a942abcdeee2cc134)\n",
        "  entity(niiri:04b4d9b9d09fe045f2ef56cedfeb0cde, [prov:type='nidm:Gender', prov:label=\"Gender\", prov:value=\"male\"])\n",
        "  hadMember(niiri:4f2cb6c84b0d58ed0c69a90247fb536a, niiri:04b4d9b9d09fe045f2ef56cedfeb0cde)\n",
        "  entity(niiri:48af415bead68808ff8a120ce61dc4ec, [prov:type='nidm:Handedness', prov:label=\"Handedness\", prov:value=\"right\"])\n",
        "  hadMember(niiri:4f2cb6c84b0d58ed0c69a90247fb536a, niiri:48af415bead68808ff8a120ce61dc4ec)\n",
        "  activity(xnat:7be9dfd63b25d1e88c368238703ccdca, -, -, [prov:type='xnat:MRSession', prov:type='nidm:Study', prov:label=\"AnnArbor_sub04111\", prov:location='nitrc:data/projects/fcon_1000/subjects/xnat_S00001/experiments/xnat_E00001', xnat:acquisition_site=\"AnnArbor\", xnat:fieldStrength=\"3T\"])\n",
        "  wasInformedBy(xnat:7be9dfd63b25d1e88c368238703ccdca, xnat:efd3259e7e509f079bc8a5812a0db466)\n",
        "endDocument\n"
       ]
      }
     ],
     "prompt_number": 72
    },
    {
     "cell_type": "markdown",
     "metadata": {
      "slideshow": {
       "slide_type": "slide"
      }
     },
     "source": [
      "# Add an Acquisition Activity\n",
      "\n",
      "- Acquisitions are a prov:activity\n",
      "- An Acquisition represents one or more streams of data\n",
      "- For example, an anatomical MRI, BOLD, or physioogical recording\n",
      "- Two or more simultaneous acquisitions are part of the same \"Epoch\"\n",
      "- Epochs are inferred based on timestamps"
     ]
    },
    {
     "cell_type": "code",
     "collapsed": false,
     "input": [],
     "language": "python",
     "metadata": {},
     "outputs": []
    },
    {
     "cell_type": "code",
     "collapsed": false,
     "input": [
      "provn_path = os.path.join(os.path.expanduser(\"~\"),\"Downloads\",\"xnat.provn\")\n",
      "with open(provn_path, 'w+') as f:\n",
      "    f.write(bundle.get_provn())"
     ],
     "language": "python",
     "metadata": {},
     "outputs": [],
     "prompt_number": 45
    },
    {
     "cell_type": "code",
     "collapsed": false,
     "input": [
      "!~/Downloads/ProvToolbox/bin/provconvert -infile ~/Downloads/xnat.provn -outfile ~/Downloads/xnat.ttl"
     ],
     "language": "python",
     "metadata": {},
     "outputs": [
      {
       "output_type": "stream",
       "stream": "stdout",
       "text": [
        "log4j:WARN No appenders could be found for logger (org.openprovenance.prov.interop.InteropFramework).\r\n",
        "log4j:WARN Please initialize the log4j system properly.\r\n",
        "log4j:WARN See http://logging.apache.org/log4j/1.2/faq.html#noconfig for more info.\r\n"
       ]
      },
      {
       "output_type": "stream",
       "stream": "stdout",
       "text": [
        "SLF4J: Failed to load class \"org.slf4j.impl.StaticLoggerBinder\".\r\n",
        "SLF4J: Defaulting to no-operation (NOP) logger implementation\r\n",
        "SLF4J: See http://www.slf4j.org/codes.html#StaticLoggerBinder for further details.\r\n"
       ]
      }
     ],
     "prompt_number": 46
    },
    {
     "cell_type": "code",
     "collapsed": false,
     "input": [
      "!cat ~/Downloads/xnat.ttl"
     ],
     "language": "python",
     "metadata": {},
     "outputs": [
      {
       "output_type": "stream",
       "stream": "stdout",
       "text": [
        "@prefix prov: <http://www.w3.org/ns/prov#> .\r\n",
        "@prefix nidm: <http://nidm.nidash.org/> .\r\n",
        "@prefix xsd: <http://www.w3.org/2001/XMLSchema#> .\r\n",
        "@prefix obo: <http://purl.obolibrary.org/obo/> .\r\n",
        "@prefix xnat: <http://www.xnat.org/> .\r\n",
        "@prefix niiri: <http://nidm.nidash.org/iri/> .\r\n",
        "@prefix rdfs: <http://www.w3.org/2000/01/rdf-schema#> .\r\n",
        "@prefix nif: <http://neurolex.org/wiki/> .\r\n",
        "@prefix nitrc: <http://www.nitrc.org/ir/> .\r\n",
        "\r\n",
        "\r\n",
        "xnat:efd3259e7e509f079bc8a5812a0db466 a prov:Activity , xnat:Project , nidm:Project ;\r\n",
        "\trdfs:label \"fcon_1000\" ;\r\n",
        "\tprov:atLocation <http://www.nitrc.org/ir/data/projects/fcon_1000> ;\r\n",
        "\tnidm:project_id \"fcon_1000\"^^xsd:string .\r\n",
        "\r\n",
        "niiri:28c8d1ae27561840d0827e1d655dadf8 a prov:Agent , prov:person ;\r\n",
        "\trdfs:label \"AnnArbor_sub04111\" ;\r\n",
        "\tprov:atLocation <http://www.nitrc.org/ir//data/projects/fcon_1000/subjects/xnat_S00001> ;\r\n",
        "\tnidm:participant_id \"xnat_S00001\"^^xsd:string .\r\n",
        "\r\n",
        "_:blank1 a prov:Association ;\r\n",
        "\tprov:agent niiri:28c8d1ae27561840d0827e1d655dadf8 .\r\n",
        "\r\n",
        "xnat:efd3259e7e509f079bc8a5812a0db466 prov:qualifiedAssociation _:blank1 .\r\n",
        "\r\n",
        "_:blank1 prov:hadRole nidm:participant , xnat:Subject .\r\n",
        "\r\n",
        "niiri:4f2cb6c84b0d58ed0c69a90247fb536a a prov:Entity , nidm:DemographicsCollection , xnat:demographicsData , prov:Collection ;\r\n",
        "\trdfs:label \"Demographics Collection\" ;\r\n",
        "\tprov:wasAttributedTo niiri:28c8d1ae27561840d0827e1d655dadf8 ;\r\n",
        "\tprov:wasGeneratedBy xnat:efd3259e7e509f079bc8a5812a0db466 .\r\n",
        "\r\n",
        "niiri:a2b3c8b01aff780a942abcdeee2cc134 a prov:Entity , nidm:Age ;\r\n",
        "\trdfs:label \"Age\" ;\r\n",
        "\tprov:value \"25\"^^xsd:int .\r\n",
        "\r\n",
        "niiri:4f2cb6c84b0d58ed0c69a90247fb536a prov:hadMember niiri:a2b3c8b01aff780a942abcdeee2cc134 .\r\n",
        "\r\n",
        "niiri:04b4d9b9d09fe045f2ef56cedfeb0cde a prov:Entity , nidm:Gender ;\r\n",
        "\trdfs:label \"Gender\" ;\r\n",
        "\tprov:value \"male\"^^xsd:string .\r\n",
        "\r\n",
        "niiri:4f2cb6c84b0d58ed0c69a90247fb536a prov:hadMember niiri:04b4d9b9d09fe045f2ef56cedfeb0cde .\r\n",
        "\r\n",
        "niiri:48af415bead68808ff8a120ce61dc4ec a prov:Entity , nidm:Handedness ;\r\n",
        "\trdfs:label \"Handedness\" ;\r\n",
        "\tprov:value \"right\"^^xsd:string .\r\n",
        "\r\n",
        "niiri:4f2cb6c84b0d58ed0c69a90247fb536a prov:hadMember niiri:48af415bead68808ff8a120ce61dc4ec .\r\n"
       ]
      }
     ],
     "prompt_number": 47
    },
    {
     "cell_type": "code",
     "collapsed": false,
     "input": [],
     "language": "python",
     "metadata": {},
     "outputs": []
    }
   ],
   "metadata": {}
  }
 ]
}